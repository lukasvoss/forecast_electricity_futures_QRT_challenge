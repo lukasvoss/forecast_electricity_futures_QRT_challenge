{
 "cells": [
  {
   "cell_type": "markdown",
   "metadata": {},
   "source": [
    "## QRT Data Challenge: Can you explain the price of electricity?"
   ]
  },
  {
   "cell_type": "markdown",
   "metadata": {},
   "source": [
    "#### Import Packages"
   ]
  },
  {
   "cell_type": "code",
   "execution_count": 27,
   "metadata": {},
   "outputs": [],
   "source": [
    "import numpy as np\n",
    "import pandas as pd\n",
    "import matplotlib.pyplot as plt\n",
    "PLOT_COLOR = \"tab:orange\"\n",
    "\n",
    "from sklearn.model_selection import train_test_split, cross_val_predict, GridSearchCV\n",
    "from sklearn.metrics import root_mean_squared_error\n",
    "from sklearn.ensemble import RandomForestRegressor\n",
    "from scipy.stats import spearmanr\n",
    "\n",
    "import optuna\n",
    "\n",
    "from xgboost import XGBRegressor\n",
    "from lightgbm import LGBMRegressor\n",
    "\n",
    "import warnings\n",
    "warnings.filterwarnings('ignore')"
   ]
  },
  {
   "cell_type": "markdown",
   "metadata": {},
   "source": [
    "### Plotting and Metric Score: Spearman Correlation (Rank)"
   ]
  },
  {
   "cell_type": "code",
   "execution_count": 28,
   "metadata": {},
   "outputs": [],
   "source": [
    "def plot_ts(ts_x: pd.Series, ts_y: pd.Series, title: str = None, figsize=(13, 5)) -> None:\n",
    "    \"\"\"plots a given timeseries and displays an optional title\"\"\"\n",
    "    plt.figure(figsize=figsize)\n",
    "    plt.plot(ts_x, ts_y)\n",
    "    plt.title(title or '', fontsize=10)\n",
    "    plt.grid(alpha=0.5, linestyle='dashed')\n",
    "    plt.show()\n",
    "\n",
    "def plot_ts_y(ts_x, ts_y, title: str = None, figsize=(13, 5)) -> None:\n",
    "    plt.figure(figsize=figsize)\n",
    "    plt.plot(ts_x, label=ts_x)\n",
    "    plt.plot(ts_y, label=ts_y)\n",
    "    plt.title(title or '', fontsize=10)\n",
    "    plt.grid(alpha=0.5, linestyle='dashed')\n",
    "    plt.show()\n",
    "\n",
    "def metric_train(output, Y_clean):\n",
    "    return 100 * (spearmanr(output, Y_clean).correlation)"
   ]
  },
  {
   "cell_type": "markdown",
   "metadata": {},
   "source": [
    "### Data Preprocessing"
   ]
  },
  {
   "cell_type": "code",
   "execution_count": 29,
   "metadata": {},
   "outputs": [],
   "source": [
    "# Importing Data From Files\n",
    "X = pd.read_csv(\"X_train.csv\")\n",
    "y = pd.read_csv(\"y_train.csv\")\n",
    "x_val = pd.read_csv(\"X_test.csv\")"
   ]
  },
  {
   "cell_type": "code",
   "execution_count": 30,
   "metadata": {},
   "outputs": [
    {
     "data": {
      "text/html": [
       "<div>\n",
       "<style scoped>\n",
       "    .dataframe tbody tr th:only-of-type {\n",
       "        vertical-align: middle;\n",
       "    }\n",
       "\n",
       "    .dataframe tbody tr th {\n",
       "        vertical-align: top;\n",
       "    }\n",
       "\n",
       "    .dataframe thead th {\n",
       "        text-align: right;\n",
       "    }\n",
       "</style>\n",
       "<table border=\"1\" class=\"dataframe\">\n",
       "  <thead>\n",
       "    <tr style=\"text-align: right;\">\n",
       "      <th></th>\n",
       "      <th>ID</th>\n",
       "      <th>DAY_ID</th>\n",
       "      <th>COUNTRY</th>\n",
       "      <th>DE_CONSUMPTION</th>\n",
       "      <th>FR_CONSUMPTION</th>\n",
       "      <th>DE_FR_EXCHANGE</th>\n",
       "      <th>FR_DE_EXCHANGE</th>\n",
       "      <th>DE_NET_EXPORT</th>\n",
       "      <th>FR_NET_EXPORT</th>\n",
       "      <th>DE_NET_IMPORT</th>\n",
       "      <th>...</th>\n",
       "      <th>FR_RESIDUAL_LOAD</th>\n",
       "      <th>DE_RAIN</th>\n",
       "      <th>FR_RAIN</th>\n",
       "      <th>DE_WIND</th>\n",
       "      <th>FR_WIND</th>\n",
       "      <th>DE_TEMP</th>\n",
       "      <th>FR_TEMP</th>\n",
       "      <th>GAS_RET</th>\n",
       "      <th>COAL_RET</th>\n",
       "      <th>CARBON_RET</th>\n",
       "    </tr>\n",
       "  </thead>\n",
       "  <tbody>\n",
       "    <tr>\n",
       "      <th>0</th>\n",
       "      <td>1054</td>\n",
       "      <td>206</td>\n",
       "      <td>FR</td>\n",
       "      <td>0.210099</td>\n",
       "      <td>-0.427458</td>\n",
       "      <td>-0.606523</td>\n",
       "      <td>0.606523</td>\n",
       "      <td>NaN</td>\n",
       "      <td>0.692860</td>\n",
       "      <td>NaN</td>\n",
       "      <td>...</td>\n",
       "      <td>-0.444661</td>\n",
       "      <td>-0.172680</td>\n",
       "      <td>-0.556356</td>\n",
       "      <td>-0.790823</td>\n",
       "      <td>-0.283160</td>\n",
       "      <td>-1.069070</td>\n",
       "      <td>-0.063404</td>\n",
       "      <td>0.339041</td>\n",
       "      <td>0.124552</td>\n",
       "      <td>-0.002445</td>\n",
       "    </tr>\n",
       "    <tr>\n",
       "      <th>1</th>\n",
       "      <td>2049</td>\n",
       "      <td>501</td>\n",
       "      <td>FR</td>\n",
       "      <td>-0.022399</td>\n",
       "      <td>-1.003452</td>\n",
       "      <td>-0.022063</td>\n",
       "      <td>0.022063</td>\n",
       "      <td>-0.573520</td>\n",
       "      <td>-1.130838</td>\n",
       "      <td>0.573520</td>\n",
       "      <td>...</td>\n",
       "      <td>-1.183194</td>\n",
       "      <td>-1.240300</td>\n",
       "      <td>-0.770457</td>\n",
       "      <td>1.522331</td>\n",
       "      <td>0.828412</td>\n",
       "      <td>0.437419</td>\n",
       "      <td>1.831241</td>\n",
       "      <td>-0.659091</td>\n",
       "      <td>0.047114</td>\n",
       "      <td>-0.490365</td>\n",
       "    </tr>\n",
       "    <tr>\n",
       "      <th>2</th>\n",
       "      <td>1924</td>\n",
       "      <td>687</td>\n",
       "      <td>FR</td>\n",
       "      <td>1.395035</td>\n",
       "      <td>1.978665</td>\n",
       "      <td>1.021305</td>\n",
       "      <td>-1.021305</td>\n",
       "      <td>-0.622021</td>\n",
       "      <td>-1.682587</td>\n",
       "      <td>0.622021</td>\n",
       "      <td>...</td>\n",
       "      <td>1.947273</td>\n",
       "      <td>-0.480700</td>\n",
       "      <td>-0.313338</td>\n",
       "      <td>0.431134</td>\n",
       "      <td>0.487608</td>\n",
       "      <td>0.684884</td>\n",
       "      <td>0.114836</td>\n",
       "      <td>0.535974</td>\n",
       "      <td>0.743338</td>\n",
       "      <td>0.204952</td>\n",
       "    </tr>\n",
       "    <tr>\n",
       "      <th>3</th>\n",
       "      <td>297</td>\n",
       "      <td>720</td>\n",
       "      <td>DE</td>\n",
       "      <td>-0.983324</td>\n",
       "      <td>-0.849198</td>\n",
       "      <td>-0.839586</td>\n",
       "      <td>0.839586</td>\n",
       "      <td>-0.270870</td>\n",
       "      <td>0.563230</td>\n",
       "      <td>0.270870</td>\n",
       "      <td>...</td>\n",
       "      <td>-0.976974</td>\n",
       "      <td>-1.114838</td>\n",
       "      <td>-0.507570</td>\n",
       "      <td>-0.499409</td>\n",
       "      <td>-0.236249</td>\n",
       "      <td>0.350938</td>\n",
       "      <td>-0.417514</td>\n",
       "      <td>0.911652</td>\n",
       "      <td>-0.296168</td>\n",
       "      <td>1.073948</td>\n",
       "    </tr>\n",
       "    <tr>\n",
       "      <th>4</th>\n",
       "      <td>1101</td>\n",
       "      <td>818</td>\n",
       "      <td>FR</td>\n",
       "      <td>0.143807</td>\n",
       "      <td>-0.617038</td>\n",
       "      <td>-0.924990</td>\n",
       "      <td>0.924990</td>\n",
       "      <td>NaN</td>\n",
       "      <td>0.990324</td>\n",
       "      <td>NaN</td>\n",
       "      <td>...</td>\n",
       "      <td>-0.526267</td>\n",
       "      <td>-0.541465</td>\n",
       "      <td>-0.424550</td>\n",
       "      <td>-1.088158</td>\n",
       "      <td>-1.011560</td>\n",
       "      <td>0.614338</td>\n",
       "      <td>0.729495</td>\n",
       "      <td>0.245109</td>\n",
       "      <td>1.526606</td>\n",
       "      <td>2.614378</td>\n",
       "    </tr>\n",
       "  </tbody>\n",
       "</table>\n",
       "<p>5 rows × 35 columns</p>\n",
       "</div>"
      ],
      "text/plain": [
       "     ID  DAY_ID COUNTRY  DE_CONSUMPTION  FR_CONSUMPTION  DE_FR_EXCHANGE  \\\n",
       "0  1054     206      FR        0.210099       -0.427458       -0.606523   \n",
       "1  2049     501      FR       -0.022399       -1.003452       -0.022063   \n",
       "2  1924     687      FR        1.395035        1.978665        1.021305   \n",
       "3   297     720      DE       -0.983324       -0.849198       -0.839586   \n",
       "4  1101     818      FR        0.143807       -0.617038       -0.924990   \n",
       "\n",
       "   FR_DE_EXCHANGE  DE_NET_EXPORT  FR_NET_EXPORT  DE_NET_IMPORT  ...  \\\n",
       "0        0.606523            NaN       0.692860            NaN  ...   \n",
       "1        0.022063      -0.573520      -1.130838       0.573520  ...   \n",
       "2       -1.021305      -0.622021      -1.682587       0.622021  ...   \n",
       "3        0.839586      -0.270870       0.563230       0.270870  ...   \n",
       "4        0.924990            NaN       0.990324            NaN  ...   \n",
       "\n",
       "   FR_RESIDUAL_LOAD   DE_RAIN   FR_RAIN   DE_WIND   FR_WIND   DE_TEMP  \\\n",
       "0         -0.444661 -0.172680 -0.556356 -0.790823 -0.283160 -1.069070   \n",
       "1         -1.183194 -1.240300 -0.770457  1.522331  0.828412  0.437419   \n",
       "2          1.947273 -0.480700 -0.313338  0.431134  0.487608  0.684884   \n",
       "3         -0.976974 -1.114838 -0.507570 -0.499409 -0.236249  0.350938   \n",
       "4         -0.526267 -0.541465 -0.424550 -1.088158 -1.011560  0.614338   \n",
       "\n",
       "    FR_TEMP   GAS_RET  COAL_RET  CARBON_RET  \n",
       "0 -0.063404  0.339041  0.124552   -0.002445  \n",
       "1  1.831241 -0.659091  0.047114   -0.490365  \n",
       "2  0.114836  0.535974  0.743338    0.204952  \n",
       "3 -0.417514  0.911652 -0.296168    1.073948  \n",
       "4  0.729495  0.245109  1.526606    2.614378  \n",
       "\n",
       "[5 rows x 35 columns]"
      ]
     },
     "execution_count": 30,
     "metadata": {},
     "output_type": "execute_result"
    }
   ],
   "source": [
    "X.head()"
   ]
  },
  {
   "cell_type": "code",
   "execution_count": 31,
   "metadata": {},
   "outputs": [
    {
     "data": {
      "text/html": [
       "<div>\n",
       "<style scoped>\n",
       "    .dataframe tbody tr th:only-of-type {\n",
       "        vertical-align: middle;\n",
       "    }\n",
       "\n",
       "    .dataframe tbody tr th {\n",
       "        vertical-align: top;\n",
       "    }\n",
       "\n",
       "    .dataframe thead th {\n",
       "        text-align: right;\n",
       "    }\n",
       "</style>\n",
       "<table border=\"1\" class=\"dataframe\">\n",
       "  <thead>\n",
       "    <tr style=\"text-align: right;\">\n",
       "      <th></th>\n",
       "      <th>ID</th>\n",
       "      <th>TARGET</th>\n",
       "    </tr>\n",
       "  </thead>\n",
       "  <tbody>\n",
       "    <tr>\n",
       "      <th>0</th>\n",
       "      <td>1054</td>\n",
       "      <td>0.028313</td>\n",
       "    </tr>\n",
       "    <tr>\n",
       "      <th>1</th>\n",
       "      <td>2049</td>\n",
       "      <td>-0.112516</td>\n",
       "    </tr>\n",
       "    <tr>\n",
       "      <th>2</th>\n",
       "      <td>1924</td>\n",
       "      <td>-0.180840</td>\n",
       "    </tr>\n",
       "    <tr>\n",
       "      <th>3</th>\n",
       "      <td>297</td>\n",
       "      <td>-0.260356</td>\n",
       "    </tr>\n",
       "    <tr>\n",
       "      <th>4</th>\n",
       "      <td>1101</td>\n",
       "      <td>-0.071733</td>\n",
       "    </tr>\n",
       "  </tbody>\n",
       "</table>\n",
       "</div>"
      ],
      "text/plain": [
       "     ID    TARGET\n",
       "0  1054  0.028313\n",
       "1  2049 -0.112516\n",
       "2  1924 -0.180840\n",
       "3   297 -0.260356\n",
       "4  1101 -0.071733"
      ]
     },
     "execution_count": 31,
     "metadata": {},
     "output_type": "execute_result"
    }
   ],
   "source": [
    "y.head()"
   ]
  },
  {
   "cell_type": "markdown",
   "metadata": {},
   "source": [
    "Amount of Data for each country varies!"
   ]
  },
  {
   "cell_type": "code",
   "execution_count": 32,
   "metadata": {},
   "outputs": [
    {
     "data": {
      "text/plain": [
       "COUNTRY\n",
       "FR    851\n",
       "DE    643\n",
       "Name: count, dtype: int64"
      ]
     },
     "execution_count": 32,
     "metadata": {},
     "output_type": "execute_result"
    }
   ],
   "source": [
    "X['COUNTRY'].value_counts()"
   ]
  },
  {
   "cell_type": "markdown",
   "metadata": {},
   "source": [
    "### Missing Data: Use Interpolation"
   ]
  },
  {
   "cell_type": "code",
   "execution_count": 33,
   "metadata": {},
   "outputs": [
    {
     "data": {
      "image/png": "[encoded data removed]",
      "text/plain": [
       "<Figure size 1000x400 with 1 Axes>"
      ]
     },
     "metadata": {},
     "output_type": "display_data"
    }
   ],
   "source": [
    "missing_vals = X.isna().sum()\n",
    "missing_vals.plot(kind='bar', figsize=(10, 4), color=PLOT_COLOR)\n",
    "plt.title('Missing Values per Feature')\n",
    "plt.ylabel('Missing Values')\n",
    "plt.xticks(rotation=90)  # Rotate the x labels to show them vertically\n",
    "plt.tight_layout()  # Adjust layout to make room for the x labels\n",
    "plt.show()"
   ]
  },
  {
   "cell_type": "markdown",
   "metadata": {},
   "source": [
    "#### Fill Missing Data with interpolation"
   ]
  },
  {
   "cell_type": "code",
   "execution_count": 8,
   "metadata": {},
   "outputs": [],
   "source": [
    "X.interpolate(method='polynomial', order=3, inplace=True)\n",
    "X = X.fillna(0)\n",
    "X = X.drop(['COUNTRY'], axis=1)\n",
    "\n",
    "x_val.interpolate(method='polynomial', order=3, inplace=True)\n",
    "x_val = x_val.fillna(0)\n",
    "x_val = x_val.drop(['COUNTRY'], axis=1)"
   ]
  },
  {
   "cell_type": "markdown",
   "metadata": {},
   "source": [
    "Verify that all missing data has been filled by interpolation"
   ]
  },
  {
   "cell_type": "code",
   "execution_count": 9,
   "metadata": {},
   "outputs": [
    {
     "name": "stdout",
     "output_type": "stream",
     "text": [
      "We have 0 missing values left!\n"
     ]
    }
   ],
   "source": [
    "missing_vals = X.isna().sum()\n",
    "print(f'We have {missing_vals.sum()} missing values left!')"
   ]
  },
  {
   "cell_type": "markdown",
   "metadata": {},
   "source": [
    "### Investigation: Which features are relevant?"
   ]
  },
  {
   "cell_type": "code",
   "execution_count": 18,
   "metadata": {},
   "outputs": [],
   "source": [
    "def get_feature_corr_with_target_and_plot(X, y, figsize=(12, 6)):\n",
    "    correlation = [metric_train(X[col], y['TARGET']) for col in X.columns]\n",
    "    correlation_df = pd.DataFrame(correlation, index=X.columns, columns=['Features'])\n",
    "    plt.figure(figsize=figsize)\n",
    "    correlation_df.sort_values(by='Features').plot(kind='bar', figsize=figsize, color=PLOT_COLOR)\n",
    "    plt.title('Correlation(Features, Target Variable)')\n",
    "    plt.ylabel('Correlation Coefficient [%]')\n",
    "    plt.legend(frameon=False)\n",
    "    plt.tight_layout()\n",
    "    plt.show()\n",
    "\n",
    "    return correlation_df"
   ]
  },
  {
   "cell_type": "code",
   "execution_count": 19,
   "metadata": {},
   "outputs": [
    {
     "data": {
      "text/plain": [
       "<Figure size 1200x600 with 0 Axes>"
      ]
     },
     "metadata": {},
     "output_type": "display_data"
    },
    {
     "data": {
      "image/png": "[encoded data removed]",
      "text/plain": [
       "<Figure size 1200x600 with 1 Axes>"
      ]
     },
     "metadata": {},
     "output_type": "display_data"
    }
   ],
   "source": [
    "correlation_df = get_feature_corr_with_target_and_plot(X, y)"
   ]
  },
  {
   "cell_type": "markdown",
   "metadata": {},
   "source": [
    "Define a correlation threshold for which features below it are not being considered *impactful/relevant* for the target variable and can therefore be dropped to simplify the model"
   ]
  },
  {
   "cell_type": "code",
   "execution_count": 22,
   "metadata": {},
   "outputs": [
    {
     "data": {
      "text/plain": [
       "['DAY_ID',\n",
       " 'FR_NET_EXPORT',\n",
       " 'FR_NET_IMPORT',\n",
       " 'DE_NUCLEAR',\n",
       " 'FR_NUCLEAR',\n",
       " 'DE_TEMP']"
      ]
     },
     "execution_count": 22,
     "metadata": {},
     "output_type": "execute_result"
    }
   ],
   "source": [
    "correlation_threshold = 1.5\n",
    "low_corr_features = correlation_df[abs(correlation_df['Features']) < correlation_threshold].index.to_list()\n",
    "low_corr_features"
   ]
  },
  {
   "cell_type": "code",
   "execution_count": 23,
   "metadata": {},
   "outputs": [],
   "source": [
    "country_cols = ['COUNTRY_DE', 'COUNTRY_FR']\n",
    "columns_to_drop = [feat for feat in low_corr_features if feat not in country_cols]\n",
    "X_cleaned = X.drop(columns=columns_to_drop)"
   ]
  },
  {
   "cell_type": "code",
   "execution_count": null,
   "metadata": {},
   "outputs": [
    {
     "data": {
      "text/plain": [
       "<Figure size 1200x600 with 0 Axes>"
      ]
     },
     "metadata": {},
     "output_type": "display_data"
    },
    {
     "data": {
      "image/png": "[encoded data removed]",
      "text/plain": [
       "<Figure size 1200x600 with 1 Axes>"
      ]
     },
     "metadata": {},
     "output_type": "display_data"
    }
   ],
   "source": [
    "new_corr_df = get_feature_corr_with_target_and_plot(X_cleaned, y)"
   ]
  },
  {
   "cell_type": "markdown",
   "metadata": {},
   "source": [
    "Remaining features after cleaning"
   ]
  },
  {
   "cell_type": "code",
   "execution_count": 25,
   "metadata": {},
   "outputs": [
    {
     "data": {
      "text/html": [
       "<div>\n",
       "<style scoped>\n",
       "    .dataframe tbody tr th:only-of-type {\n",
       "        vertical-align: middle;\n",
       "    }\n",
       "\n",
       "    .dataframe tbody tr th {\n",
       "        vertical-align: top;\n",
       "    }\n",
       "\n",
       "    .dataframe thead th {\n",
       "        text-align: right;\n",
       "    }\n",
       "</style>\n",
       "<table border=\"1\" class=\"dataframe\">\n",
       "  <thead>\n",
       "    <tr style=\"text-align: right;\">\n",
       "      <th></th>\n",
       "      <th>Features</th>\n",
       "    </tr>\n",
       "  </thead>\n",
       "  <tbody>\n",
       "    <tr>\n",
       "      <th>DE_WINDPOW</th>\n",
       "      <td>-18.568799</td>\n",
       "    </tr>\n",
       "    <tr>\n",
       "      <th>DE_NET_EXPORT</th>\n",
       "      <td>-18.200552</td>\n",
       "    </tr>\n",
       "    <tr>\n",
       "      <th>FR_WINDPOW</th>\n",
       "      <td>-15.556754</td>\n",
       "    </tr>\n",
       "    <tr>\n",
       "      <th>DE_WIND</th>\n",
       "      <td>-8.110643</td>\n",
       "    </tr>\n",
       "    <tr>\n",
       "      <th>DE_CONSUMPTION</th>\n",
       "      <td>-6.361683</td>\n",
       "    </tr>\n",
       "    <tr>\n",
       "      <th>FR_WIND</th>\n",
       "      <td>-6.329550</td>\n",
       "    </tr>\n",
       "    <tr>\n",
       "      <th>FR_RAIN</th>\n",
       "      <td>-5.435784</td>\n",
       "    </tr>\n",
       "    <tr>\n",
       "      <th>DE_FR_EXCHANGE</th>\n",
       "      <td>-5.400954</td>\n",
       "    </tr>\n",
       "    <tr>\n",
       "      <th>FR_TEMP</th>\n",
       "      <td>-4.105975</td>\n",
       "    </tr>\n",
       "    <tr>\n",
       "      <th>DE_RAIN</th>\n",
       "      <td>-3.605381</td>\n",
       "    </tr>\n",
       "    <tr>\n",
       "      <th>FR_CONSUMPTION</th>\n",
       "      <td>-2.724187</td>\n",
       "    </tr>\n",
       "    <tr>\n",
       "      <th>ID</th>\n",
       "      <td>-2.719916</td>\n",
       "    </tr>\n",
       "    <tr>\n",
       "      <th>FR_GAS</th>\n",
       "      <td>1.633355</td>\n",
       "    </tr>\n",
       "    <tr>\n",
       "      <th>COAL_RET</th>\n",
       "      <td>1.757295</td>\n",
       "    </tr>\n",
       "    <tr>\n",
       "      <th>FR_RESIDUAL_LOAD</th>\n",
       "      <td>1.824129</td>\n",
       "    </tr>\n",
       "    <tr>\n",
       "      <th>FR_SOLAR</th>\n",
       "      <td>2.883855</td>\n",
       "    </tr>\n",
       "    <tr>\n",
       "      <th>DE_SOLAR</th>\n",
       "      <td>3.273965</td>\n",
       "    </tr>\n",
       "    <tr>\n",
       "      <th>DE_LIGNITE</th>\n",
       "      <td>4.417956</td>\n",
       "    </tr>\n",
       "    <tr>\n",
       "      <th>FR_COAL</th>\n",
       "      <td>4.846274</td>\n",
       "    </tr>\n",
       "    <tr>\n",
       "      <th>FR_DE_EXCHANGE</th>\n",
       "      <td>5.400954</td>\n",
       "    </tr>\n",
       "    <tr>\n",
       "      <th>FR_HYDRO</th>\n",
       "      <td>6.468178</td>\n",
       "    </tr>\n",
       "    <tr>\n",
       "      <th>GAS_RET</th>\n",
       "      <td>6.679967</td>\n",
       "    </tr>\n",
       "    <tr>\n",
       "      <th>DE_COAL</th>\n",
       "      <td>7.237976</td>\n",
       "    </tr>\n",
       "    <tr>\n",
       "      <th>CARBON_RET</th>\n",
       "      <td>10.437456</td>\n",
       "    </tr>\n",
       "    <tr>\n",
       "      <th>DE_GAS</th>\n",
       "      <td>12.990510</td>\n",
       "    </tr>\n",
       "    <tr>\n",
       "      <th>DE_HYDRO</th>\n",
       "      <td>15.136684</td>\n",
       "    </tr>\n",
       "    <tr>\n",
       "      <th>DE_RESIDUAL_LOAD</th>\n",
       "      <td>17.579290</td>\n",
       "    </tr>\n",
       "    <tr>\n",
       "      <th>DE_NET_IMPORT</th>\n",
       "      <td>18.200552</td>\n",
       "    </tr>\n",
       "  </tbody>\n",
       "</table>\n",
       "</div>"
      ],
      "text/plain": [
       "                   Features\n",
       "DE_WINDPOW       -18.568799\n",
       "DE_NET_EXPORT    -18.200552\n",
       "FR_WINDPOW       -15.556754\n",
       "DE_WIND           -8.110643\n",
       "DE_CONSUMPTION    -6.361683\n",
       "FR_WIND           -6.329550\n",
       "FR_RAIN           -5.435784\n",
       "DE_FR_EXCHANGE    -5.400954\n",
       "FR_TEMP           -4.105975\n",
       "DE_RAIN           -3.605381\n",
       "FR_CONSUMPTION    -2.724187\n",
       "ID                -2.719916\n",
       "FR_GAS             1.633355\n",
       "COAL_RET           1.757295\n",
       "FR_RESIDUAL_LOAD   1.824129\n",
       "FR_SOLAR           2.883855\n",
       "DE_SOLAR           3.273965\n",
       "DE_LIGNITE         4.417956\n",
       "FR_COAL            4.846274\n",
       "FR_DE_EXCHANGE     5.400954\n",
       "FR_HYDRO           6.468178\n",
       "GAS_RET            6.679967\n",
       "DE_COAL            7.237976\n",
       "CARBON_RET        10.437456\n",
       "DE_GAS            12.990510\n",
       "DE_HYDRO          15.136684\n",
       "DE_RESIDUAL_LOAD  17.579290\n",
       "DE_NET_IMPORT     18.200552"
      ]
     },
     "execution_count": 25,
     "metadata": {},
     "output_type": "execute_result"
    }
   ],
   "source": [
    "new_corr_df.sort_values(by='Features', inplace=True)\n",
    "new_corr_df"
   ]
  },
  {
   "cell_type": "markdown",
   "metadata": {},
   "source": [
    "---"
   ]
  },
  {
   "cell_type": "markdown",
   "metadata": {},
   "source": [
    "# Cross Validation for MSE using XGBRegressor"
   ]
  },
  {
   "cell_type": "code",
   "execution_count": null,
   "metadata": {},
   "outputs": [],
   "source": [
    "def XGBRegressorCrossValidationMSE(X_clean, Y_clean):\n",
    "    # Split the data\n",
    "    X_train, X_test, y_train, y_test = train_test_split(X_clean, Y_clean, test_size=0.10, random_state=42)\n",
    "\n",
    "    # Define the parameter grid\n",
    "    param_grid = {\n",
    "        'max_depth': [3, 6, 10],  # LightGBM's 'num_leaves' can be roughly translated to 'max_depth' in XGBoost\n",
    "        'reg_alpha': [0.1, 0.2, 0.3],  # LightGBM's 'bagging_fraction' does not have a direct equivalent, but 'reg_alpha' can help with regularization\n",
    "        'n_estimators': [100],  # Reduced number of options for 'n_estimators' to speed up the process\n",
    "        'learning_rate': [0.05, 0.1, 0.2],  # Same as LightGBM's\n",
    "        'colsample_bytree': [0.6, 0.8, 0.9],  # Similar to LightGBM's 'feature_fraction'\n",
    "        'subsample': [0.6, 0.8, 0.9]  # Similar to LightGBM's 'bagging_fraction'\n",
    "    }\n",
    "\n",
    "    # Initialize the XGBRegressor\n",
    "    xgb_reg = XGBRegressor(booster='gbtree', objective='reg:squarederror')\n",
    "    # Create a GridSearchCV object\n",
    "    grid_search = GridSearchCV(\n",
    "        estimator=xgb_reg,\n",
    "        param_grid=param_grid,\n",
    "        cv=5,\n",
    "        scoring='neg_root_mean_squared_error',\n",
    "        return_train_score=True,\n",
    "        n_jobs=-1,\n",
    "        verbose=2\n",
    "    )\n",
    "\n",
    "    # Perform grid search\n",
    "    grid_search.fit(X_train, y_train)\n",
    "\n",
    "    # Results\n",
    "    best_parameters = grid_search.best_params_\n",
    "    best_mse = -1 * grid_search.best_score_\n",
    "    best_model = grid_search.best_estimator_\n",
    "    y_pred_train = cross_val_predict(best_model, X_train, y_train, cv=5)\n",
    "    spearman_corr = 100 * spearmanr(y_pred_train, y_train).correlation\n",
    "    y_pred_test = best_model.predict(X_test)\n",
    "    mse_test = root_mean_squared_error(y_test, y_pred_test)\n",
    "\n",
    "    # Output the best parameters and corresponding mean square error\n",
    "    print(\"Best parameters found: \", grid_search.best_params_)\n",
    "    print(\"Best MSE: \", best_mse)\n",
    "    print(\"Spearman correlation on training data: \", spearman_corr)\n",
    "    print(\"MSE on test data: \", mse_test)\n",
    "\n",
    "    # Prepare the result dictionary\n",
    "    result = {\n",
    "        \"model\": best_model,\n",
    "        \"best_parameters\": best_parameters,\n",
    "        \"best_mse\": best_mse,\n",
    "        \"mse_test\": mse_test,\n",
    "        \"spearman_correlation_train\": spearman_corr\n",
    "    }\n",
    "    return result"
   ]
  },
  {
   "cell_type": "markdown",
   "metadata": {},
   "source": [
    "# LightGBM model"
   ]
  },
  {
   "cell_type": "markdown",
   "metadata": {},
   "source": [
    "#### Optuna HPO"
   ]
  },
  {
   "cell_type": "code",
   "execution_count": null,
   "metadata": {},
   "outputs": [],
   "source": [
    "def objective(trial, X_train, y_train):\n",
    "    # Define the hyperparameter search space for Optuna\n",
    "    param_grid = {\n",
    "        'num_leaves': trial.suggest_int('num_leaves', 10, 70),\n",
    "        'learning_rate': trial.suggest_float('learning_rate', 0.01, 0.5, log=True),\n",
    "        'feature_fraction': trial.suggest_categorical('feature_fraction', [0.5, 0.6, 0.7, 0.8, 0.9]),\n",
    "        'bagging_fraction': trial.suggest_categorical('bagging_fraction', [0.5, 0.6, 0.7, 0.8, 0.9]),\n",
    "        'bagging_freq': trial.suggest_int('bagging_freq', 2, 10),\n",
    "    }\n",
    "    \n",
    "    # Initialize the LightGBM model with the sampled hyperparameters\n",
    "    lgbm = LGBMRegressor(boosting_type='gbdt', objective='regression', metric='mse', **param_grid)\n",
    "    \n",
    "    # Perform cross-validation and use the average MSE as the optimization metric\n",
    "    y_pred_train = cross_val_predict(lgbm, X_train, y_train, cv=5)\n",
    "    mse = root_mean_squared_error(y_train, y_pred_train)\n",
    "    \n",
    "    return mse  # Minimize the mean squared error\n",
    "\n",
    "def LGBRegressorOptuna(X_clean, Y_clean):\n",
    "    # Split data into training and test sets\n",
    "    X_train, X_test, y_train, y_test = train_test_split(X_clean, Y_clean, test_size=0.10, random_state=42)\n",
    "\n",
    "    # Create an Optuna study and optimize the objective function\n",
    "    study = optuna.create_study(direction='minimize')\n",
    "    study.optimize(lambda trial: objective(trial, X_train, y_train), n_trials=100)\n",
    "\n",
    "    # Get the best hyperparameters and build the final model\n",
    "    best_params = study.best_params\n",
    "    best_model = LGBMRegressor(boosting_type='gbdt', objective='regression', metric='mse', **best_params)\n",
    "    best_model.fit(X_train, y_train)\n",
    "    \n",
    "    # Cross-validation predictions\n",
    "    y_pred_train = cross_val_predict(best_model, X_train, y_train, cv=5)\n",
    "    spearman_corr = spearmanr(y_pred_train, y_train).correlation * 100\n",
    "\n",
    "    # Test set predictions\n",
    "    y_pred_test = best_model.predict(X_test)\n",
    "    mse_test = root_mean_squared_error(y_test, y_pred_test)\n",
    "\n",
    "    # Print results\n",
    "    print(\"Best parameters found: \", best_params)\n",
    "    print(\"Best Spearman correlation (train):\", spearman_corr)\n",
    "    print(\"MSE on test data: \", mse_test)\n",
    "\n",
    "    result = {\n",
    "        \"parameters\": best_params,\n",
    "        \"model\": best_model,\n",
    "        \"Test MSE\": mse_test,\n",
    "        \"Metric Score\": spearman_corr\n",
    "    }\n",
    "    return result"
   ]
  },
  {
   "cell_type": "code",
   "execution_count": null,
   "metadata": {},
   "outputs": [],
   "source": [
    "X_clean = X.iloc[:, 2:] # X_clean should not have the ID column\n",
    "#X_clean = X_cleaned\n",
    "Y_clean = y['TARGET']\n",
    "\n",
    "result = LGBRegressorOptuna(X_clean, Y_clean)"
   ]
  },
  {
   "cell_type": "code",
   "execution_count": null,
   "metadata": {},
   "outputs": [],
   "source": [
    "def LGBRegressorCrossValidationMSE(X_clean, Y_clean):\n",
    "\n",
    "    X_train, X_test, y_train, y_test = train_test_split(X_clean, Y_clean, test_size=0.10, random_state=42)\n",
    "\n",
    "    param_grid = {\n",
    "        'num_leaves': [10, 15, 31, 50, 70],\n",
    "        'learning_rate': [0.015, 0.05, 0.1, 0.2],\n",
    "        'feature_fraction': [0.6, 0.8, 0.9],\n",
    "        'bagging_fraction': [0.6, 0.8, 0.9],\n",
    "        'bagging_freq': [3, 5, 7],\n",
    "        'max_depth': [5, 10, 15],\n",
    "        'min_data_in_leaf': [20, 50, 100],\n",
    "        'lambda_l1': [0, 0.1, 1],\n",
    "        'lambda_l2': [0, 0.1, 1]\n",
    "    }\n",
    "\n",
    "    # build the LightGBM model\n",
    "    lgbm = LGBMRegressor(boosting_type='gbdt', objective='regression', metric='mse')\n",
    "    # build the GridSearchCV on LightGBM\n",
    "    grid_search = GridSearchCV(estimator=lgbm, param_grid=param_grid, cv=5, scoring='neg_root_mean_squared_error', n_jobs=-1)\n",
    "    # grid search\n",
    "    grid_search.fit(X_train, y_train)\n",
    "    \n",
    "    # results\n",
    "    best_parameters = grid_search.best_params_\n",
    "    best_mse = -1 * grid_search.best_score_\n",
    "    best_model = grid_search.best_estimator_\n",
    "    y_pred_train = cross_val_predict(best_model, X_train, y_train, cv=5)\n",
    "    spearman_corr = metric_train(y_pred_train, y_train)\n",
    "    # calculate the target test data\n",
    "    y_pred_test = best_model.predict(X_test)\n",
    "    # Calculate MSE for test data\n",
    "    mse_test = root_mean_squared_error(y_test, y_pred_test)\n",
    "\n",
    "    # Print Results\n",
    "    print(\"Best parameters found: \", best_parameters)\n",
    "    print(\"Best mse: \", best_mse)\n",
    "    print(\"Best Spearman correlation:\", spearman_corr)\n",
    "    print(\"MSE on test data: \", mse_test)\n",
    "\n",
    "    result = {\n",
    "        \"parameters\": best_parameters,\n",
    "        \"model\":best_model,\n",
    "        \"Best MSE\": best_mse,\n",
    "        \"Test MSE\":mse_test,\n",
    "        \"Metric Score\": spearman_corr\n",
    "    }\n",
    "    return result"
   ]
  },
  {
   "cell_type": "markdown",
   "metadata": {},
   "source": [
    "# Random Forest Model"
   ]
  },
  {
   "cell_type": "code",
   "execution_count": null,
   "metadata": {},
   "outputs": [],
   "source": [
    "def RandomForestRegressorCrossValidationMSE(X_clean, Y_clean):\n",
    "    \n",
    "    # X_clean and Y_clean must be processed already\n",
    "    X_train, X_test, y_train, y_test = train_test_split(X_clean, Y_clean, test_size=0.10, random_state=42)\n",
    "\n",
    "    # Define parameter grid\n",
    "    param_grid = {\n",
    "        'n_estimators': [50, 100, 200],\n",
    "        'max_depth': [None, 10, 15],\n",
    "        'min_samples_split': [2, 5, 10],\n",
    "        'min_samples_leaf': [1, 2, 4]\n",
    "    }\n",
    "\n",
    "    rf_reg = RandomForestRegressor(random_state=42)\n",
    "\n",
    "    # GridSearchCV with the scoring minimizing MSE\n",
    "    cv_method = GridSearchCV(estimator=rf_reg, param_grid=param_grid, cv=5,\n",
    "                             scoring='neg_root_mean_squared_error', verbose=2, n_jobs=-1)\n",
    "    cv_method.fit(X_train, y_train)\n",
    "\n",
    "    # Best parameters\n",
    "    print(\"Best parameters found: \", cv_method.best_params_)\n",
    "\n",
    "    # Predict on the test set with the best parameters\n",
    "    y_pred = cv_method.predict(X_test)\n",
    "\n",
    "    # Calculate MSE on the test set and then convert to RMSE\n",
    "    mse = root_mean_squared_error(y_test, y_pred)\n",
    "    rmse = np.sqrt(mse)\n",
    "    print('Test set RMSE: {:.2f}'.format(rmse))\n",
    "\n",
    "    training_prediction = cv_method.predict(X_clean)\n",
    "\n",
    "    print('Cross Validated Model MSE for the train set: {:.2f}'.format(root_mean_squared_error(training_prediction, Y_clean)))\n",
    "\n",
    "    result = {\n",
    "        \"parameters\": cv_method.best_params_,\n",
    "        \"RMSE\": rmse,\n",
    "        \"Training Prediction\": training_prediction,\n",
    "        \"Metric Score\": root_mean_squared_error(training_prediction, Y_clean),\n",
    "        \"model\": cv_method\n",
    "    }\n",
    "    return result"
   ]
  },
  {
   "cell_type": "code",
   "execution_count": null,
   "metadata": {},
   "outputs": [],
   "source": [
    "X_clean = X.iloc[:, 2:] # X_clean should not have the ID column\n",
    "#X_clean = X_cleaned\n",
    "Y_clean = y['TARGET']"
   ]
  },
  {
   "cell_type": "markdown",
   "metadata": {},
   "source": [
    "#### Running the Light GBM Model "
   ]
  },
  {
   "cell_type": "code",
   "execution_count": null,
   "metadata": {},
   "outputs": [],
   "source": [
    "CV_LGBM = LGBRegressorCrossValidationMSE(X_clean=X_clean, Y_clean=Y_clean)"
   ]
  },
  {
   "cell_type": "code",
   "execution_count": null,
   "metadata": {},
   "outputs": [],
   "source": [
    "# Running the LightGBM Model\n",
    "light_gbm_submission = x_val[['ID']].copy()\n",
    "x_val_clean = x_val.iloc[:, 2:]\n",
    "light_gbm_submission['TARGET'] = CV_LGBM['model'].predict(x_val_clean)\n",
    "light_gbm_submission.to_csv('light_gbm_submission.csv', index=False)"
   ]
  },
  {
   "cell_type": "code",
   "execution_count": null,
   "metadata": {},
   "outputs": [],
   "source": [
    "lgbm_feature_importances = CV_LGBM['model'].feature_importances_\n",
    "lgbm_importances = pd.Series(lgbm_feature_importances, index=X_clean.columns)\n",
    "lgbm_importances = lgbm_importances.sort_values()\n",
    "lgbm_importances.plot(kind='bar', figsize=(10,5))\n",
    "plt.title('Feature Importance for Light GBM Model')\n",
    "plt.show()"
   ]
  },
  {
   "cell_type": "markdown",
   "metadata": {},
   "source": [
    "# Running the XGBoost Regression"
   ]
  },
  {
   "cell_type": "code",
   "execution_count": null,
   "metadata": {},
   "outputs": [],
   "source": [
    "CV_XGB = XGBRegressorCrossValidationMSE(X_clean=X_clean, Y_clean=Y_clean)"
   ]
  },
  {
   "cell_type": "markdown",
   "metadata": {},
   "source": [
    "Best parameters found:  {'colsample_bytree': 0.6, 'learning_rate': 0.05, 'max_depth': 3, 'n_estimators': 100, 'reg_alpha': 0.1, 'subsample': 0.9}"
   ]
  },
  {
   "cell_type": "code",
   "execution_count": null,
   "metadata": {},
   "outputs": [],
   "source": [
    "# Running the XGB Model\n",
    "xgb_submission = x_val[['ID']].copy()\n",
    "x_val_clean = x_val.iloc[:, 2:]\n",
    "xgb_submission['TARGET'] = CV_XGB['model'].predict(x_val_clean)\n",
    "xgb_submission.to_csv('submission_files/xgb_submission.csv', index=False)"
   ]
  },
  {
   "cell_type": "code",
   "execution_count": null,
   "metadata": {},
   "outputs": [],
   "source": [
    "xgb_feature_importances = CV_XGB['model'].feature_importances_\n",
    "xgb_importances = pd.Series(xgb_feature_importances, index=X_clean.columns)\n",
    "xgb_importances = xgb_importances.sort_values()\n",
    "xgb_importances.plot(kind='bar', figsize=(10,3))\n",
    "plt.title('Feature Importance for XGB Model')\n",
    "plt.show()"
   ]
  },
  {
   "cell_type": "code",
   "execution_count": null,
   "metadata": {},
   "outputs": [],
   "source": [
    "plt.plot(light_gbm_submission['TARGET'], label='LGBM')\n",
    "plt.plot(xgb_submission['TARGET'], label='XGB')\n",
    "plt.legend()\n",
    "metric_train(light_gbm_submission['TARGET'], xgb_submission['TARGET'])"
   ]
  },
  {
   "cell_type": "markdown",
   "metadata": {},
   "source": [
    "# Running the Random Forest Model"
   ]
  },
  {
   "cell_type": "code",
   "execution_count": null,
   "metadata": {},
   "outputs": [],
   "source": [
    "CV_RF_MSE = RandomForestRegressorCrossValidationMSE(X_clean=X_clean, Y_clean=Y_clean)"
   ]
  },
  {
   "cell_type": "code",
   "execution_count": null,
   "metadata": {},
   "outputs": [],
   "source": [
    "# Running the XGB Model\n",
    "rf_submission = x_val[['ID']].copy()\n",
    "x_val_clean = x_val.iloc[:, 2:]\n",
    "rf_submission['TARGET'] = CV_RF_MSE['model'].predict(x_val_clean)\n",
    "rf_submission.to_csv('submission_files/rf_submission.csv', index=False)"
   ]
  },
  {
   "cell_type": "markdown",
   "metadata": {},
   "source": [
    "# Comparison of Target Predictions between Models"
   ]
  },
  {
   "cell_type": "code",
   "execution_count": null,
   "metadata": {},
   "outputs": [],
   "source": [
    "# Simple Model\n",
    "xgb= XGBRegressor(objective='reg:squarederror', )\n",
    "xgb.fit(X_clean, Y_clean)\n",
    "predictions = xgb.predict(X_clean)\n",
    "y = y.sort_index()\n",
    "predictions_df = pd.DataFrame(predictions, index=y.index)\n",
    "print(metric_train(predictions, Y_clean))\n",
    "\n",
    "plt.figure(figsize=(10,4))\n",
    "plt.plot(y['TARGET'], label='y_true')\n",
    "plt.plot(predictions_df, label='predictions')\n",
    "plt.legend()\n",
    "plt.title(\"Comparing True Training Values with No Cross Validated XGB Model\")\n",
    "print(\"Model parameters:\", xgb.get_params())"
   ]
  },
  {
   "cell_type": "code",
   "execution_count": null,
   "metadata": {},
   "outputs": [],
   "source": [
    "# Comparing Training Preditions with CV XGB Model\n",
    "lgbm_predictions = CV_LGBM['model'].predict(X_clean)\n",
    "xgb_predictions = CV_XGB['model'].predict(X_clean)\n",
    "rf_predictions = CV_RF_MSE['model'].predict(X_clean)\n",
    "plt.figure(figsize=(10, 4))\n",
    "plt.plot(y['TARGET'], label='y_train')\n",
    "plt.plot(lgbm_predictions, label='LGBM Predictions')\n",
    "plt.plot(xgb_predictions, label='XGB Predictions')\n",
    "plt.plot(xgb_predictions, label='RF Predictions')\n",
    "plt.legend()\n",
    "plt.title(\"Comparing True Training Predictions with ML Models\")\n",
    "print(metric_train(lgbm_predictions, Y_clean))\n",
    "print(metric_train(rf_predictions, Y_clean))"
   ]
  },
  {
   "cell_type": "code",
   "execution_count": null,
   "metadata": {},
   "outputs": [],
   "source": [
    "plt.figure(figsize=(10,3))\n",
    "plt.plot(light_gbm_submission['TARGET'], label='LGBM Predictions')\n",
    "plt.plot(xgb_submission['TARGET'], label='XGB Predictions')\n",
    "plt.plot(rf_submission['TARGET'], label='RF Predictions')\n",
    "plt.legend()\n",
    "plt.title(\"Out of Sample Predictions\")"
   ]
  },
  {
   "cell_type": "code",
   "execution_count": null,
   "metadata": {},
   "outputs": [],
   "source": [
    "print(\"The Volatiltity of LGBM Predictions: \", np.std(light_gbm_submission['TARGET']))\n",
    "print(\"The Volatiltity of XGB Predictions: \", np.std(xgb_submission['TARGET']))\n",
    "print(\"The Volatiltity of RF Predictions: \", np.std(rf_submission['TARGET']))\n",
    "print(\"The Volatiltity of Training Target Variable: \", np.std(y['TARGET']))"
   ]
  }
 ],
 "metadata": {
  "kernelspec": {
   "display_name": "venv (3.12.9)",
   "language": "python",
   "name": "python3"
  },
  "language_info": {
   "codemirror_mode": {
    "name": "ipython",
    "version": 3
   },
   "file_extension": ".py",
   "mimetype": "text/x-python",
   "name": "python",
   "nbconvert_exporter": "python",
   "pygments_lexer": "ipython3",
   "version": "3.12.9"
  },
  "orig_nbformat": 4
 },
 "nbformat": 4,
 "nbformat_minor": 2
}
