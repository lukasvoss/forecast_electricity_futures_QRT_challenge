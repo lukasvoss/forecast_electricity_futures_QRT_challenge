{
 "cells": [
  {
   "cell_type": "code",
   "execution_count": 1,
   "id": "5fbe6454",
   "metadata": {},
   "outputs": [
    {
     "name": "stderr",
     "output_type": "stream",
     "text": [
      "/Users/lukasvoss/Documents/Persönliche_Unterlagen/Coding_Projects/00_explain_electricity_price/venv/lib/python3.12/site-packages/tqdm/auto.py:21: TqdmWarning: IProgress not found. Please update jupyter and ipywidgets. See https://ipywidgets.readthedocs.io/en/stable/user_install.html\n",
      "  from .autonotebook import tqdm as notebook_tqdm\n"
     ]
    }
   ],
   "source": [
    "import joblib, numpy as np, pandas as pd, matplotlib.pyplot as plt\n",
    "import matplotlib.lines as mlines\n",
    "\n",
    "from scipy.stats import spearmanr\n",
    "\n",
    "from sklearn.compose import ColumnTransformer\n",
    "from sklearn.impute import SimpleImputer\n",
    "from sklearn.inspection import permutation_importance\n",
    "from sklearn.metrics import make_scorer\n",
    "import optuna\n",
    "\n",
    "from lightgbm import LGBMRegressor\n",
    "import lightgbm as lgb"
   ]
  },
  {
   "cell_type": "markdown",
   "id": "8a0e5572",
   "metadata": {},
   "source": [
    "### Make the models country-specifc"
   ]
  },
  {
   "cell_type": "code",
   "execution_count": 78,
   "id": "5f1b720e",
   "metadata": {},
   "outputs": [],
   "source": [
    "def split_country(X, y, country):\n",
    "    mask = (X[\"COUNTRY\"] == country)\n",
    "    return X[mask], y[mask]\n",
    "\n",
    "def spearman_metric(y_true, y_pred):\n",
    "    y_true = np.asarray(y_true).ravel()\n",
    "    y_pred = np.asarray(y_pred).ravel()\n",
    "    c = spearmanr(y_true, y_pred, nan_policy=\"omit\").correlation\n",
    "    return 0.0 if (c is None or np.isnan(c)) else float(c)"
   ]
  },
  {
   "cell_type": "code",
   "execution_count": null,
   "id": "3c79f0ef",
   "metadata": {},
   "outputs": [
    {
     "name": "stdout",
     "output_type": "stream",
     "text": [
      "LGBM Validation Spearman — DE: 0.4227, FR: 0.0756, avg: 0.2491\n"
     ]
    }
   ],
   "source": [
    "# ===========================\n",
    "# Imports\n",
    "# ===========================\n",
    "\n",
    "\n",
    "# ---------------------------\n",
    "# Utilities\n",
    "# ---------------------------\n",
    "def spearman_metric(y_true, y_pred):\n",
    "    y_true = np.asarray(y_true).ravel()\n",
    "    y_pred = np.asarray(y_pred).ravel()\n",
    "    c = spearmanr(y_true, y_pred, nan_policy=\"omit\").correlation\n",
    "    return 0.0 if (c is None or np.isnan(c)) else float(c)\n",
    "\n",
    "def country_split(X, y, country):\n",
    "    m = (X[\"COUNTRY\"] == country)\n",
    "    return X[m].copy(), y[m].copy()\n",
    "\n",
    "# ===========================\n",
    "# Feature engineering\n",
    "# ===========================\n",
    "def add_engineered_features(df: pd.DataFrame) -> pd.DataFrame:\n",
    "    \"\"\"Add interaction/spread features for both FR and DE. Works in-place on a copy.\"\"\"\n",
    "    df = df.copy()\n",
    "\n",
    "    def have(*cols):\n",
    "        return all(c in df.columns for c in cols)\n",
    "\n",
    "    eps = 1e-6\n",
    "\n",
    "    # --- Net balance (imports minus exports)\n",
    "    if have(\"FR_NET_IMPORT\", \"FR_NET_EXPORT\"):\n",
    "        df[\"FR_NET_BALANCE\"] = df[\"FR_NET_IMPORT\"] - df[\"FR_NET_EXPORT\"]\n",
    "    if have(\"DE_NET_IMPORT\", \"DE_NET_EXPORT\"):\n",
    "        df[\"DE_NET_BALANCE\"] = df[\"DE_NET_IMPORT\"] - df[\"DE_NET_EXPORT\"]\n",
    "\n",
    "    # --- Exchange sums & skew\n",
    "    if have(\"DE_FR_EXCHANGE\", \"FR_DE_EXCHANGE\"):\n",
    "        df[\"EXCHANGE_TOTAL\"] = df[\"DE_FR_EXCHANGE\"] + df[\"FR_DE_EXCHANGE\"]\n",
    "        df[\"EXCHANGE_SKEW\"]  = df[\"FR_DE_EXCHANGE\"] - df[\"DE_FR_EXCHANGE\"]\n",
    "\n",
    "    # --- Cross-border flow differentials\n",
    "    if have(\"FR_NET_IMPORT\", \"DE_NET_EXPORT\"):\n",
    "        df[\"FR_DE_FLOW_DIFF\"] = df[\"FR_NET_IMPORT\"] - df[\"DE_NET_EXPORT\"]\n",
    "\n",
    "    # --- Renewables bundle per country\n",
    "    for ctry in [\"FR\", \"DE\"]:\n",
    "        parts = [f\"{ctry}_WINDPOW\", f\"{ctry}_SOLAR\", f\"{ctry}_HYDRO\"]\n",
    "        if have(*parts):\n",
    "            df[f\"{ctry}_RENEWABLES\"] = df[parts].sum(axis=1)\n",
    "\n",
    "    # --- Residual / Consumption ratio\n",
    "    for ctry in [\"FR\", \"DE\"]:\n",
    "        r, c = f\"{ctry}_RESIDUAL_LOAD\", f\"{ctry}_CONSUMPTION\"\n",
    "        if have(r, c):\n",
    "            df[f\"{ctry}_RESIDUAL_RATIO\"] = df[r] / (df[c] + eps)\n",
    "\n",
    "    # --- Weather × demand interactions (FR focus)\n",
    "    if have(\"FR_WINDPOW\", \"FR_CONSUMPTION\"):\n",
    "        df[\"FR_WIND_DEMAND\"] = df[\"FR_WINDPOW\"] * df[\"FR_CONSUMPTION\"]\n",
    "    if have(\"FR_TEMP\", \"FR_CONSUMPTION\"):\n",
    "        df[\"FR_TEMP_DEMAND\"] = df[\"FR_TEMP\"] * df[\"FR_CONSUMPTION\"]\n",
    "\n",
    "    # --- Cross-country weather/production spreads\n",
    "    pairs = [\n",
    "        (\"TEMP\",), (\"WIND\",), (\"RAIN\",),\n",
    "        (\"WINDPOW\",), (\"SOLAR\",), (\"HYDRO\",),\n",
    "        (\"RESIDUAL_LOAD\",), (\"CONSUMPTION\",)\n",
    "    ]\n",
    "    for (base,) in pairs:\n",
    "        fr, de = f\"FR_{base}\", f\"DE_{base}\"\n",
    "        if have(fr, de):\n",
    "            df[f\"{base}_DIFF_FR_DE\"] = df[fr] - df[de]\n",
    "\n",
    "    # --- Commodity × system interactions\n",
    "    # (Adjust freely; these often help rank in FR)\n",
    "    if have(\"CARBON_RET\", \"FR_RESIDUAL_LOAD\"):\n",
    "        df[\"CARBON_x_FR_RESID\"] = df[\"CARBON_RET\"] * df[\"FR_RESIDUAL_LOAD\"]\n",
    "    if have(\"GAS_RET\", \"FR_CONSUMPTION\"):\n",
    "        df[\"GASRET_x_FR_CONS\"] = df[\"GAS_RET\"] * df[\"FR_CONSUMPTION\"]\n",
    "    if have(\"COAL_RET\", \"FR_LIGNITE\"):\n",
    "        df[\"COALRET_x_FR_LIGNITE\"] = df[\"COAL_RET\"] * df.get(\"FR_LIGNITE\", 0)\n",
    "\n",
    "    # Mirror for DE (optional; can comment out if you only want FR boosted)\n",
    "    if have(\"CARBON_RET\", \"DE_RESIDUAL_LOAD\"):\n",
    "        df[\"CARBON_x_DE_RESID\"] = df[\"CARBON_RET\"] * df[\"DE_RESIDUAL_LOAD\"]\n",
    "    if have(\"GAS_RET\", \"DE_CONSUMPTION\"):\n",
    "        df[\"GASRET_x_DE_CONS\"] = df[\"GAS_RET\"] * df[\"DE_CONSUMPTION\"]\n",
    "    if have(\"COAL_RET\", \"DE_LIGNITE\"):\n",
    "        df[\"COALRET_x_DE_LIGNITE\"] = df[\"COAL_RET\"] * df.get(\"DE_LIGNITE\", 0)\n",
    "\n",
    "    return df\n",
    "\n",
    "# ===========================\n",
    "# Model trainers (per country)\n",
    "# ===========================\n",
    "def lgbm_country_fit(Xtr_c, ytr_c, Xva_c, yva_c,\n",
    "                     params=None, early_stopping_rounds=200):\n",
    "    # numeric columns only\n",
    "    num_cols = [c for c in Xtr_c.columns if c not in [\"ID\", \"DAY_ID\", \"COUNTRY\"]]\n",
    "    prep = ColumnTransformer(\n",
    "        [(\"num\", SimpleImputer(strategy=\"median\"), num_cols)],\n",
    "        remainder=\"drop\"\n",
    "    ).fit(Xtr_c, ytr_c)\n",
    "\n",
    "    Xt = prep.transform(Xtr_c)\n",
    "    Xv = prep.transform(Xva_c)\n",
    "\n",
    "    P = dict(\n",
    "        objective=\"regression\",\n",
    "        n_estimators=6_000, # 6_000          # big; early stopping will trim\n",
    "        learning_rate=0.03,\n",
    "        num_leaves=191,             # ↑ capacity to capture variance\n",
    "        max_depth=-1,\n",
    "        min_data_in_leaf=12,\n",
    "        feature_fraction=0.9,\n",
    "        bagging_fraction=0.9,\n",
    "        bagging_freq=1,\n",
    "        reg_alpha=0.0,\n",
    "        reg_lambda=0.0,\n",
    "        n_jobs=1,\n",
    "        verbose=-1\n",
    "    )\n",
    "    if params: P.update(params)\n",
    "\n",
    "    model = LGBMRegressor(**P)\n",
    "    model.fit(\n",
    "        Xt, ytr_c,\n",
    "        eval_set=[(Xv, yva_c)],\n",
    "        eval_metric=\"rmse\",\n",
    "        callbacks=[\n",
    "            lgb.early_stopping(stopping_rounds=early_stopping_rounds, verbose=False),\n",
    "            lgb.log_evaluation(period=0)\n",
    "        ]\n",
    "    )\n",
    "    yv_pred = model.predict(Xv)\n",
    "    sc = spearman_metric(yva_c, yv_pred)\n",
    "    return prep, model, sc, yv_pred\n",
    "\n",
    "# ===========================\n",
    "# Apply feature engineering, split, and train\n",
    "# (Assumes you already have X_train, y_train, X_val, y_val from your chronological split)\n",
    "# ===========================\n",
    "# Build engineered features on concatenated DF to keep column alignment\n",
    "X_all = pd.concat([X_train, X_val], axis=0)\n",
    "X_all_en = add_engineered_features(X_all)\n",
    "\n",
    "# Split back to train / val\n",
    "X_train_en = X_all_en.iloc[:len(X_train)].copy()\n",
    "X_val_en   = X_all_en.iloc[len(X_train):].copy()\n",
    "\n",
    "# Per-country splits\n",
    "Xtr_DE, ytr_DE = country_split(X_train_en, y_train, \"DE\")\n",
    "Xva_DE, yva_DE = country_split(X_val_en,   y_val,   \"DE\")\n",
    "Xtr_FR, ytr_FR = country_split(X_train_en, y_train, \"FR\")\n",
    "Xva_FR, yva_FR = country_split(X_val_en,   y_val,   \"FR\")\n",
    "\n",
    "# --- Train LGBM per country\n",
    "prep_lgb_DE, lgb_DE, sc_lgb_DE, pred_lgb_DE = lgbm_country_fit(Xtr_DE, ytr_DE, Xva_DE, yva_DE)\n",
    "prep_lgb_FR, lgb_FR, sc_lgb_FR, pred_lgb_FR = lgbm_country_fit(Xtr_FR, ytr_FR, Xva_FR, yva_FR)\n",
    "print(f\"LGBM Validation Spearman — DE: {sc_lgb_DE:.4f}, FR: {sc_lgb_FR:.4f}, avg: {np.nanmean([sc_lgb_DE, sc_lgb_FR]):.4f}\")"
   ]
  },
  {
   "cell_type": "markdown",
   "id": "bee48654",
   "metadata": {},
   "source": [
    "- Works quite well for Germany (DE)\n",
    "- Poor quality for France (FR)"
   ]
  },
  {
   "cell_type": "code",
   "execution_count": null,
   "id": "f78fd29d",
   "metadata": {},
   "outputs": [
    {
     "name": "stderr",
     "output_type": "stream",
     "text": [
      "[I 2025-09-04 13:05:41,177] A new study created in memory with name: no-name-cb6b4c17-76e5-47f7-9b6d-609d338176b4\n",
      "Best trial: 0. Best value: 0.412022:   1%|          | 2/200 [00:00<00:31,  6.32it/s]"
     ]
    },
    {
     "name": "stdout",
     "output_type": "stream",
     "text": [
      "[I 2025-09-04 13:05:41,354] Trial 0 finished with value: 0.41202228785904993 and parameters: {'learning_rate': 0.013942468918370296, 'num_leaves': 145, 'max_depth': 9, 'min_data_in_leaf': 30, 'feature_fraction': 0.6059239509979083, 'bagging_fraction': 0.614094677432932, 'bagging_freq': 5, 'reg_alpha': 8.51744028830179, 'reg_lambda': 9.442352539343112}. Best is trial 0 with value: 0.41202228785904993.\n",
      "[I 2025-09-04 13:05:41,502] Trial 1 finished with value: 0.3853168410055333 and parameters: {'learning_rate': 0.007380055270442389, 'num_leaves': 238, 'max_depth': 10, 'min_data_in_leaf': 49, 'feature_fraction': 0.6472325801353523, 'bagging_fraction': 0.973737108410894, 'bagging_freq': 4, 'reg_alpha': 5.6886817200229505, 'reg_lambda': 3.849315472380692}. Best is trial 0 with value: 0.41202228785904993.\n"
     ]
    },
    {
     "name": "stderr",
     "output_type": "stream",
     "text": [
      "Best trial: 0. Best value: 0.412022:   2%|▏         | 4/200 [00:00<00:34,  5.65it/s]"
     ]
    },
    {
     "name": "stdout",
     "output_type": "stream",
     "text": [
      "[I 2025-09-04 13:05:41,685] Trial 2 finished with value: 0.3946743883091925 and parameters: {'learning_rate': 0.046494966116751045, 'num_leaves': 70, 'max_depth': -1, 'min_data_in_leaf': 26, 'feature_fraction': 0.9214677308196527, 'bagging_fraction': 0.880947388700764, 'bagging_freq': 3, 'reg_alpha': 1.7976847503997428, 'reg_lambda': 4.303901192694383}. Best is trial 0 with value: 0.41202228785904993.\n",
      "[I 2025-09-04 13:05:41,874] Trial 3 finished with value: 0.36679521739691223 and parameters: {'learning_rate': 0.0054709584429049225, 'num_leaves': 40, 'max_depth': 0, 'min_data_in_leaf': 28, 'feature_fraction': 0.8649449036767553, 'bagging_fraction': 0.6749576285946614, 'bagging_freq': 1, 'reg_alpha': 7.888476895165026, 'reg_lambda': 4.647829886835612}. Best is trial 0 with value: 0.41202228785904993.\n"
     ]
    },
    {
     "name": "stderr",
     "output_type": "stream",
     "text": [
      "Best trial: 0. Best value: 0.412022:   3%|▎         | 6/200 [00:00<00:27,  6.96it/s]"
     ]
    },
    {
     "name": "stdout",
     "output_type": "stream",
     "text": [
      "[I 2025-09-04 13:05:42,007] Trial 4 finished with value: 0.3549934864763772 and parameters: {'learning_rate': 0.011030980434613693, 'num_leaves': 272, 'max_depth': -1, 'min_data_in_leaf': 29, 'feature_fraction': 0.6732733949092802, 'bagging_fraction': 0.7808700228093419, 'bagging_freq': 1, 'reg_alpha': 7.0312052913111405, 'reg_lambda': 4.701736809879806}. Best is trial 0 with value: 0.41202228785904993.\n",
      "[I 2025-09-04 13:05:42,117] Trial 5 finished with value: 0.32286243603516523 and parameters: {'learning_rate': 0.1669422581851853, 'num_leaves': 960, 'max_depth': -1, 'min_data_in_leaf': 36, 'feature_fraction': 0.7649038791438897, 'bagging_fraction': 0.7589597353922015, 'bagging_freq': 5, 'reg_alpha': 6.062249818241306, 'reg_lambda': 7.324724381781516}. Best is trial 0 with value: 0.41202228785904993.\n"
     ]
    },
    {
     "name": "stderr",
     "output_type": "stream",
     "text": [
      "Best trial: 6. Best value: 0.425765:   4%|▎         | 7/200 [00:01<00:32,  5.95it/s]"
     ]
    },
    {
     "name": "stdout",
     "output_type": "stream",
     "text": [
      "[I 2025-09-04 13:05:42,335] Trial 6 finished with value: 0.4257651777998479 and parameters: {'learning_rate': 0.0016796610374692205, 'num_leaves': 284, 'max_depth': 1, 'min_data_in_leaf': 36, 'feature_fraction': 0.9163400902469115, 'bagging_fraction': 0.6270743077548327, 'bagging_freq': 2, 'reg_alpha': 7.775170072429852, 'reg_lambda': 2.6437357577674616}. Best is trial 6 with value: 0.4257651777998479.\n",
      "[I 2025-09-04 13:05:42,414] Trial 7 finished with value: 0.37859049928415733 and parameters: {'learning_rate': 0.03661227394445028, 'num_leaves': 139, 'max_depth': 7, 'min_data_in_leaf': 49, 'feature_fraction': 0.8089651330695242, 'bagging_fraction': 0.707705334008165, 'bagging_freq': 3, 'reg_alpha': 7.365935943706358, 'reg_lambda': 9.979784755033233}. Best is trial 6 with value: 0.4257651777998479.\n"
     ]
    },
    {
     "name": "stderr",
     "output_type": "stream",
     "text": [
      "Best trial: 6. Best value: 0.425765:   4%|▍         | 9/200 [00:01<00:34,  5.61it/s]"
     ]
    },
    {
     "name": "stdout",
     "output_type": "stream",
     "text": [
      "[I 2025-09-04 13:05:42,713] Trial 8 finished with value: 0.3710967226012821 and parameters: {'learning_rate': 0.0038767310257415565, 'num_leaves': 963, 'max_depth': 0, 'min_data_in_leaf': 36, 'feature_fraction': 0.7097202335002377, 'bagging_fraction': 0.9040028937863951, 'bagging_freq': 7, 'reg_alpha': 2.8767542442325835, 'reg_lambda': 3.9128141755412624}. Best is trial 6 with value: 0.4257651777998479.\n"
     ]
    },
    {
     "name": "stderr",
     "output_type": "stream",
     "text": [
      "Best trial: 6. Best value: 0.425765:   5%|▌         | 10/200 [00:01<00:43,  4.35it/s]"
     ]
    },
    {
     "name": "stdout",
     "output_type": "stream",
     "text": [
      "[I 2025-09-04 13:05:43,092] Trial 9 finished with value: 0.3756239439707988 and parameters: {'learning_rate': 0.0017477693806194883, 'num_leaves': 256, 'max_depth': 8, 'min_data_in_leaf': 48, 'feature_fraction': 0.8970674233059084, 'bagging_fraction': 0.9153669616990252, 'bagging_freq': 2, 'reg_alpha': 6.085615082294389, 'reg_lambda': 8.758227634718631}. Best is trial 6 with value: 0.4257651777998479.\n"
     ]
    },
    {
     "name": "stderr",
     "output_type": "stream",
     "text": [
      "Best trial: 6. Best value: 0.425765:   6%|▌         | 12/200 [00:02<00:47,  3.98it/s]"
     ]
    },
    {
     "name": "stdout",
     "output_type": "stream",
     "text": [
      "[I 2025-09-04 13:05:43,614] Trial 10 finished with value: 0.38846396925100934 and parameters: {'learning_rate': 0.001258372661766928, 'num_leaves': 445, 'max_depth': 3, 'min_data_in_leaf': 6, 'feature_fraction': 0.9975655878175448, 'bagging_fraction': 0.6094732713782103, 'bagging_freq': 7, 'reg_alpha': 9.951466438674183, 'reg_lambda': 0.9432670125420031}. Best is trial 6 with value: 0.4257651777998479.\n",
      "[I 2025-09-04 13:05:43,717] Trial 11 finished with value: 0.32688859939895015 and parameters: {'learning_rate': 0.022948609222706556, 'num_leaves': 106, 'max_depth': 12, 'min_data_in_leaf': 18, 'feature_fraction': 0.6188734655558099, 'bagging_fraction': 0.6026171334216692, 'bagging_freq': 5, 'reg_alpha': 9.644483171097807, 'reg_lambda': 1.3809304057031122}. Best is trial 6 with value: 0.4257651777998479.\n"
     ]
    },
    {
     "name": "stderr",
     "output_type": "stream",
     "text": [
      "Best trial: 12. Best value: 0.430598:   7%|▋         | 14/200 [00:02<00:33,  5.59it/s]"
     ]
    },
    {
     "name": "stdout",
     "output_type": "stream",
     "text": [
      "[I 2025-09-04 13:05:43,825] Trial 12 finished with value: 0.4305975864426542 and parameters: {'learning_rate': 0.11823115940536441, 'num_leaves': 449, 'max_depth': 4, 'min_data_in_leaf': 38, 'feature_fraction': 0.7668208422445223, 'bagging_fraction': 0.6710365581628142, 'bagging_freq': 5, 'reg_alpha': 3.491083496164971, 'reg_lambda': 6.794943642917458}. Best is trial 12 with value: 0.4305975864426542.\n",
      "[I 2025-09-04 13:05:43,926] Trial 13 finished with value: 0.3489267847116741 and parameters: {'learning_rate': 0.23802895496401996, 'num_leaves': 462, 'max_depth': 4, 'min_data_in_leaf': 41, 'feature_fraction': 0.8095284800620854, 'bagging_fraction': 0.6854324014549291, 'bagging_freq': 6, 'reg_alpha': 3.62005408921903, 'reg_lambda': 6.512737559267972}. Best is trial 12 with value: 0.4305975864426542.\n"
     ]
    },
    {
     "name": "stderr",
     "output_type": "stream",
     "text": [
      "Best trial: 12. Best value: 0.430598:   8%|▊         | 15/200 [00:02<00:29,  6.20it/s]"
     ]
    },
    {
     "name": "stdout",
     "output_type": "stream",
     "text": [
      "[I 2025-09-04 13:05:44,044] Trial 14 finished with value: 0.4097522281410017 and parameters: {'learning_rate': 0.09049149560776028, 'num_leaves': 496, 'max_depth': 3, 'min_data_in_leaf': 40, 'feature_fraction': 0.9943718621663274, 'bagging_fraction': 0.733014237923554, 'bagging_freq': 3, 'reg_alpha': 3.787116170855639, 'reg_lambda': 2.506946759571536}. Best is trial 12 with value: 0.4305975864426542.\n"
     ]
    },
    {
     "name": "stderr",
     "output_type": "stream",
     "text": [
      "Best trial: 12. Best value: 0.430598:   8%|▊         | 16/200 [00:03<00:47,  3.91it/s]"
     ]
    },
    {
     "name": "stdout",
     "output_type": "stream",
     "text": [
      "[I 2025-09-04 13:05:44,526] Trial 15 finished with value: 0.37191574982910064 and parameters: {'learning_rate': 0.0025842727741774794, 'num_leaves': 615, 'max_depth': 5, 'min_data_in_leaf': 19, 'feature_fraction': 0.7490339853393976, 'bagging_fraction': 0.8314866589491904, 'bagging_freq': 4, 'reg_alpha': 0.3851190594448095, 'reg_lambda': 6.386846946873449}. Best is trial 12 with value: 0.4305975864426542.\n",
      "[I 2025-09-04 13:05:44,608] Trial 16 finished with value: 0.4001051194126252 and parameters: {'learning_rate': 0.08512213716037925, 'num_leaves': 307, 'max_depth': 2, 'min_data_in_leaf': 42, 'feature_fraction': 0.8550337211524642, 'bagging_fraction': 0.6572214108374179, 'bagging_freq': 2, 'reg_alpha': 4.645277705763827, 'reg_lambda': 2.8148772011900163}. Best is trial 12 with value: 0.4305975864426542.\n"
     ]
    },
    {
     "name": "stderr",
     "output_type": "stream",
     "text": [
      "Best trial: 12. Best value: 0.430598:   9%|▉         | 18/200 [00:03<00:35,  5.15it/s]"
     ]
    },
    {
     "name": "stdout",
     "output_type": "stream",
     "text": [
      "[I 2025-09-04 13:05:44,768] Trial 17 finished with value: 0.4071145735254285 and parameters: {'learning_rate': 0.02483832151603309, 'num_leaves': 647, 'max_depth': 6, 'min_data_in_leaf': 35, 'feature_fraction': 0.9394400558766349, 'bagging_fraction': 0.6635590153485066, 'bagging_freq': 6, 'reg_alpha': 1.6250299818162448, 'reg_lambda': 0.07032034048842117}. Best is trial 12 with value: 0.4305975864426542.\n",
      "[I 2025-09-04 13:05:44,846] Trial 18 finished with value: 0.3532340393991078 and parameters: {'learning_rate': 0.08852026022849667, 'num_leaves': 82, 'max_depth': 2, 'min_data_in_leaf': 24, 'feature_fraction': 0.7563189799652611, 'bagging_fraction': 0.8120096763666239, 'bagging_freq': 4, 'reg_alpha': 4.724472177194432, 'reg_lambda': 5.921109444540361}. Best is trial 12 with value: 0.4305975864426542.\n"
     ]
    },
    {
     "name": "stderr",
     "output_type": "stream",
     "text": [
      "Best trial: 12. Best value: 0.430598:  10%|█         | 20/200 [00:03<00:30,  5.96it/s]"
     ]
    },
    {
     "name": "stdout",
     "output_type": "stream",
     "text": [
      "[I 2025-09-04 13:05:45,023] Trial 19 finished with value: 0.4217022868272047 and parameters: {'learning_rate': 0.0035223378279047118, 'num_leaves': 194, 'max_depth': 1, 'min_data_in_leaf': 6, 'feature_fraction': 0.8372523832425465, 'bagging_fraction': 0.7318204164670327, 'bagging_freq': 2, 'reg_alpha': 8.862827363000552, 'reg_lambda': 7.812433952713675}. Best is trial 12 with value: 0.4305975864426542.\n"
     ]
    },
    {
     "name": "stderr",
     "output_type": "stream",
     "text": [
      "Best trial: 12. Best value: 0.430598:  10%|█         | 21/200 [00:04<00:42,  4.18it/s]"
     ]
    },
    {
     "name": "stdout",
     "output_type": "stream",
     "text": [
      "[I 2025-09-04 13:05:45,516] Trial 20 finished with value: 0.39358450168319775 and parameters: {'learning_rate': 0.0011420087393505913, 'num_leaves': 359, 'max_depth': 5, 'min_data_in_leaf': 33, 'feature_fraction': 0.7147709267816172, 'bagging_fraction': 0.6280780268630747, 'bagging_freq': 6, 'reg_alpha': 2.3332459997360235, 'reg_lambda': 2.6140178530291798}. Best is trial 12 with value: 0.4305975864426542.\n"
     ]
    },
    {
     "name": "stderr",
     "output_type": "stream",
     "text": [
      "Best trial: 12. Best value: 0.430598:  12%|█▏        | 23/200 [00:04<00:37,  4.75it/s]"
     ]
    },
    {
     "name": "stdout",
     "output_type": "stream",
     "text": [
      "[I 2025-09-04 13:05:45,736] Trial 21 finished with value: 0.4151500690046562 and parameters: {'learning_rate': 0.002992638982227039, 'num_leaves': 190, 'max_depth': 1, 'min_data_in_leaf': 11, 'feature_fraction': 0.8410828122334669, 'bagging_fraction': 0.7471745881643311, 'bagging_freq': 2, 'reg_alpha': 8.718431637040467, 'reg_lambda': 7.939044212982239}. Best is trial 12 with value: 0.4305975864426542.\n",
      "[I 2025-09-04 13:05:45,876] Trial 22 finished with value: 0.3843236898788872 and parameters: {'learning_rate': 0.007912673766497458, 'num_leaves': 171, 'max_depth': 2, 'min_data_in_leaf': 44, 'feature_fraction': 0.8862220036443702, 'bagging_fraction': 0.7009544965197316, 'bagging_freq': 1, 'reg_alpha': 8.907391303600312, 'reg_lambda': 7.764667067627616}. Best is trial 12 with value: 0.4305975864426542.\n"
     ]
    },
    {
     "name": "stderr",
     "output_type": "stream",
     "text": [
      "Best trial: 12. Best value: 0.430598:  12%|█▏        | 24/200 [00:05<00:43,  4.06it/s]"
     ]
    },
    {
     "name": "stdout",
     "output_type": "stream",
     "text": [
      "[I 2025-09-04 13:05:46,221] Trial 23 finished with value: 0.4112806490307103 and parameters: {'learning_rate': 0.0019363913767875447, 'num_leaves': 368, 'max_depth': 1, 'min_data_in_leaf': 20, 'feature_fraction': 0.9295421948150169, 'bagging_fraction': 0.6434692659209541, 'bagging_freq': 2, 'reg_alpha': 7.721230341309679, 'reg_lambda': 5.4851271329514075}. Best is trial 12 with value: 0.4305975864426542.\n"
     ]
    },
    {
     "name": "stderr",
     "output_type": "stream",
     "text": [
      "Best trial: 12. Best value: 0.430598:  12%|█▎        | 25/200 [00:05<00:44,  3.95it/s]"
     ]
    },
    {
     "name": "stdout",
     "output_type": "stream",
     "text": [
      "[I 2025-09-04 13:05:46,492] Trial 24 finished with value: 0.3464743135004063 and parameters: {'learning_rate': 0.004409445581157994, 'num_leaves': 715, 'max_depth': 4, 'min_data_in_leaf': 14, 'feature_fraction': 0.8270256772159607, 'bagging_fraction': 0.7157444722599895, 'bagging_freq': 3, 'reg_alpha': 6.6679613356872585, 'reg_lambda': 7.061596782394689}. Best is trial 12 with value: 0.4305975864426542.\n"
     ]
    },
    {
     "name": "stderr",
     "output_type": "stream",
     "text": [
      "Best trial: 12. Best value: 0.430598:  13%|█▎        | 26/200 [00:05<00:43,  3.98it/s]"
     ]
    },
    {
     "name": "stdout",
     "output_type": "stream",
     "text": [
      "[I 2025-09-04 13:05:46,738] Trial 25 finished with value: 0.4208639124995164 and parameters: {'learning_rate': 0.0018942617217655947, 'num_leaves': 206, 'max_depth': 1, 'min_data_in_leaf': 32, 'feature_fraction': 0.7860541234060598, 'bagging_fraction': 0.7777025123523817, 'bagging_freq': 2, 'reg_alpha': 5.21056809182978, 'reg_lambda': 8.37317464249426}. Best is trial 12 with value: 0.4305975864426542.\n"
     ]
    },
    {
     "name": "stderr",
     "output_type": "stream",
     "text": [
      "Best trial: 12. Best value: 0.430598:  14%|█▎        | 27/200 [00:06<01:09,  2.50it/s]"
     ]
    },
    {
     "name": "stdout",
     "output_type": "stream",
     "text": [
      "[I 2025-09-04 13:05:47,509] Trial 26 finished with value: 0.3609330461363842 and parameters: {'learning_rate': 0.0010131448221723234, 'num_leaves': 101, 'max_depth': 3, 'min_data_in_leaf': 5, 'feature_fraction': 0.9569876368054804, 'bagging_fraction': 0.6429382164444709, 'bagging_freq': 5, 'reg_alpha': 3.8471668130243732, 'reg_lambda': 9.008655330600867}. Best is trial 12 with value: 0.4305975864426542.\n"
     ]
    },
    {
     "name": "stderr",
     "output_type": "stream",
     "text": [
      "Best trial: 12. Best value: 0.430598:  14%|█▍        | 28/200 [00:06<00:59,  2.90it/s]"
     ]
    },
    {
     "name": "stdout",
     "output_type": "stream",
     "text": [
      "[I 2025-09-04 13:05:47,718] Trial 27 finished with value: 0.33547226270782016 and parameters: {'learning_rate': 0.006545699480620921, 'num_leaves': 51, 'max_depth': 6, 'min_data_in_leaf': 23, 'feature_fraction': 0.8899826358144334, 'bagging_fraction': 0.6865342738440494, 'bagging_freq': 4, 'reg_alpha': 9.373139926966216, 'reg_lambda': 6.828596253050023}. Best is trial 12 with value: 0.4305975864426542.\n"
     ]
    },
    {
     "name": "stderr",
     "output_type": "stream",
     "text": [
      "Best trial: 12. Best value: 0.430598:  15%|█▌        | 30/200 [00:06<00:43,  3.91it/s]"
     ]
    },
    {
     "name": "stdout",
     "output_type": "stream",
     "text": [
      "[I 2025-09-04 13:05:47,965] Trial 28 finished with value: 0.37247681572532276 and parameters: {'learning_rate': 0.0031029781781483907, 'num_leaves': 356, 'max_depth': 4, 'min_data_in_leaf': 38, 'feature_fraction': 0.7181858997297061, 'bagging_fraction': 0.7289405780296551, 'bagging_freq': 1, 'reg_alpha': 8.0211243419259, 'reg_lambda': 5.330668543590048}. Best is trial 12 with value: 0.4305975864426542.\n",
      "[I 2025-09-04 13:05:48,077] Trial 29 finished with value: 0.3997949207413809 and parameters: {'learning_rate': 0.013720013754580915, 'num_leaves': 137, 'max_depth': 0, 'min_data_in_leaf': 45, 'feature_fraction': 0.7861627887936451, 'bagging_fraction': 0.6296446271018998, 'bagging_freq': 3, 'reg_alpha': 8.580643832626118, 'reg_lambda': 5.974965338543077}. Best is trial 12 with value: 0.4305975864426542.\n"
     ]
    },
    {
     "name": "stderr",
     "output_type": "stream",
     "text": [
      "Best trial: 12. Best value: 0.430598:  16%|█▌        | 31/200 [00:07<00:50,  3.31it/s]"
     ]
    },
    {
     "name": "stdout",
     "output_type": "stream",
     "text": [
      "[I 2025-09-04 13:05:48,487] Trial 30 finished with value: 0.33818085668958225 and parameters: {'learning_rate': 0.00989996425346595, 'num_leaves': 159, 'max_depth': 9, 'min_data_in_leaf': 11, 'feature_fraction': 0.8302937383097565, 'bagging_fraction': 0.8486798940358156, 'bagging_freq': 4, 'reg_alpha': 0.6187222548673752, 'reg_lambda': 3.3867045747654103}. Best is trial 12 with value: 0.4305975864426542.\n"
     ]
    },
    {
     "name": "stderr",
     "output_type": "stream",
     "text": [
      "Best trial: 12. Best value: 0.430598:  16%|█▌        | 32/200 [00:07<00:50,  3.32it/s]"
     ]
    },
    {
     "name": "stdout",
     "output_type": "stream",
     "text": [
      "[I 2025-09-04 13:05:48,789] Trial 31 finished with value: 0.4203608879029034 and parameters: {'learning_rate': 0.0015893683196690773, 'num_leaves': 204, 'max_depth': 1, 'min_data_in_leaf': 31, 'feature_fraction': 0.7749589756637756, 'bagging_fraction': 0.7731982930690743, 'bagging_freq': 2, 'reg_alpha': 3.219176602164533, 'reg_lambda': 8.507816917681744}. Best is trial 12 with value: 0.4305975864426542.\n"
     ]
    },
    {
     "name": "stderr",
     "output_type": "stream",
     "text": [
      "Best trial: 12. Best value: 0.430598:  17%|█▋        | 34/200 [00:07<00:39,  4.16it/s]"
     ]
    },
    {
     "name": "stdout",
     "output_type": "stream",
     "text": [
      "[I 2025-09-04 13:05:49,034] Trial 32 finished with value: 0.4153306419367737 and parameters: {'learning_rate': 0.0021976047190577284, 'num_leaves': 214, 'max_depth': 1, 'min_data_in_leaf': 31, 'feature_fraction': 0.7436539805155437, 'bagging_fraction': 0.7915167075694501, 'bagging_freq': 2, 'reg_alpha': 5.375335744409284, 'reg_lambda': 8.04197834564837}. Best is trial 12 with value: 0.4305975864426542.\n",
      "[I 2025-09-04 13:05:49,171] Trial 33 finished with value: 0.3355266449874681 and parameters: {'learning_rate': 0.004518431356980992, 'num_leaves': 285, 'max_depth': 2, 'min_data_in_leaf': 34, 'feature_fraction': 0.7943618449202126, 'bagging_fraction': 0.9950072797006472, 'bagging_freq': 3, 'reg_alpha': 4.362142472834972, 'reg_lambda': 9.295896032251223}. Best is trial 12 with value: 0.4305975864426542.\n"
     ]
    },
    {
     "name": "stderr",
     "output_type": "stream",
     "text": [
      "Best trial: 12. Best value: 0.430598:  18%|█▊        | 35/200 [00:08<00:33,  4.94it/s]"
     ]
    },
    {
     "name": "stdout",
     "output_type": "stream",
     "text": [
      "[I 2025-09-04 13:05:49,284] Trial 34 finished with value: 0.37139982716590786 and parameters: {'learning_rate': 0.05827976149066553, 'num_leaves': 121, 'max_depth': 0, 'min_data_in_leaf': 26, 'feature_fraction': 0.6855089018797481, 'bagging_fraction': 0.7536435297838847, 'bagging_freq': 1, 'reg_alpha': 6.6486591846030425, 'reg_lambda': 9.871409867574613}. Best is trial 12 with value: 0.4305975864426542.\n"
     ]
    },
    {
     "name": "stderr",
     "output_type": "stream",
     "text": [
      "Best trial: 12. Best value: 0.430598:  18%|█▊        | 36/200 [00:08<00:39,  4.18it/s]"
     ]
    },
    {
     "name": "stdout",
     "output_type": "stream",
     "text": [
      "[I 2025-09-04 13:05:49,610] Trial 35 finished with value: 0.38972153074254173 and parameters: {'learning_rate': 0.0016049776927663504, 'num_leaves': 229, 'max_depth': -1, 'min_data_in_leaf': 39, 'feature_fraction': 0.8666859187650299, 'bagging_fraction': 0.6726617360482627, 'bagging_freq': 2, 'reg_alpha': 9.203921078634384, 'reg_lambda': 7.616035691694921}. Best is trial 12 with value: 0.4305975864426542.\n"
     ]
    },
    {
     "name": "stderr",
     "output_type": "stream",
     "text": [
      "Best trial: 12. Best value: 0.430598:  19%|█▉        | 38/200 [00:08<00:32,  4.92it/s]"
     ]
    },
    {
     "name": "stdout",
     "output_type": "stream",
     "text": [
      "[I 2025-09-04 13:05:49,836] Trial 36 finished with value: 0.3671757103610169 and parameters: {'learning_rate': 0.003711066815317482, 'num_leaves': 313, 'max_depth': 3, 'min_data_in_leaf': 31, 'feature_fraction': 0.9621287084868048, 'bagging_fraction': 0.8233391974272362, 'bagging_freq': 1, 'reg_alpha': 5.539602472026877, 'reg_lambda': 8.344647856666299}. Best is trial 12 with value: 0.4305975864426542.\n",
      "[I 2025-09-04 13:05:49,964] Trial 37 finished with value: 0.4156917878010086 and parameters: {'learning_rate': 0.005825920069518402, 'num_leaves': 510, 'max_depth': 1, 'min_data_in_leaf': 27, 'feature_fraction': 0.9032668006734078, 'bagging_fraction': 0.7032501682552164, 'bagging_freq': 3, 'reg_alpha': 8.027931100443741, 'reg_lambda': 7.077211105102019}. Best is trial 12 with value: 0.4305975864426542.\n"
     ]
    },
    {
     "name": "stderr",
     "output_type": "stream",
     "text": [
      "Best trial: 12. Best value: 0.430598:  20%|██        | 40/200 [00:09<00:26,  6.04it/s]"
     ]
    },
    {
     "name": "stdout",
     "output_type": "stream",
     "text": [
      "[I 2025-09-04 13:05:50,110] Trial 38 finished with value: 0.389631244276483 and parameters: {'learning_rate': 0.019165530131920117, 'num_leaves': 248, 'max_depth': -1, 'min_data_in_leaf': 37, 'feature_fraction': 0.8057817504759552, 'bagging_fraction': 0.8585371924885438, 'bagging_freq': 5, 'reg_alpha': 7.309657280213402, 'reg_lambda': 1.5666920482414277}. Best is trial 12 with value: 0.4305975864426542.\n",
      "[I 2025-09-04 13:05:50,228] Trial 39 finished with value: 0.3967896712282829 and parameters: {'learning_rate': 0.03551625045225766, 'num_leaves': 391, 'max_depth': 0, 'min_data_in_leaf': 46, 'feature_fraction': 0.7337217318671968, 'bagging_fraction': 0.7717717041677484, 'bagging_freq': 2, 'reg_alpha': 6.111527262650636, 'reg_lambda': 4.922964964804478}. Best is trial 12 with value: 0.4305975864426542.\n"
     ]
    },
    {
     "name": "stderr",
     "output_type": "stream",
     "text": [
      "Best trial: 12. Best value: 0.430598:  20%|██        | 41/200 [00:09<00:35,  4.49it/s]"
     ]
    },
    {
     "name": "stdout",
     "output_type": "stream",
     "text": [
      "[I 2025-09-04 13:05:50,584] Trial 40 finished with value: 0.38489765384168917 and parameters: {'learning_rate': 0.0024584182826800395, 'num_leaves': 71, 'max_depth': 7, 'min_data_in_leaf': 29, 'feature_fraction': 0.773200693547371, 'bagging_fraction': 0.7370516891914297, 'bagging_freq': 1, 'reg_alpha': 2.3144598059140273, 'reg_lambda': 4.305658747185572}. Best is trial 12 with value: 0.4305975864426542.\n"
     ]
    },
    {
     "name": "stderr",
     "output_type": "stream",
     "text": [
      "Best trial: 12. Best value: 0.430598:  21%|██        | 42/200 [00:09<00:40,  3.91it/s]"
     ]
    },
    {
     "name": "stdout",
     "output_type": "stream",
     "text": [
      "[I 2025-09-04 13:05:50,917] Trial 41 finished with value: 0.41912912254453055 and parameters: {'learning_rate': 0.0012695795633991364, 'num_leaves': 203, 'max_depth': 1, 'min_data_in_leaf': 32, 'feature_fraction': 0.7799403878611029, 'bagging_fraction': 0.7685615276597355, 'bagging_freq': 2, 'reg_alpha': 3.247027925145638, 'reg_lambda': 8.373055092833264}. Best is trial 12 with value: 0.4305975864426542.\n"
     ]
    },
    {
     "name": "stderr",
     "output_type": "stream",
     "text": [
      "Best trial: 12. Best value: 0.430598:  22%|██▏       | 43/200 [00:10<00:40,  3.84it/s]"
     ]
    },
    {
     "name": "stdout",
     "output_type": "stream",
     "text": [
      "[I 2025-09-04 13:05:51,188] Trial 42 finished with value: 0.3628871032232268 and parameters: {'learning_rate': 0.0015884009494508537, 'num_leaves': 186, 'max_depth': 2, 'min_data_in_leaf': 34, 'feature_fraction': 0.6844473707561498, 'bagging_fraction': 0.7926465809748406, 'bagging_freq': 2, 'reg_alpha': 2.9218017203856963, 'reg_lambda': 8.652904631584585}. Best is trial 12 with value: 0.4305975864426542.\n"
     ]
    },
    {
     "name": "stderr",
     "output_type": "stream",
     "text": [
      "Best trial: 12. Best value: 0.430598:  22%|██▏       | 44/200 [00:10<00:50,  3.08it/s]"
     ]
    },
    {
     "name": "stdout",
     "output_type": "stream",
     "text": [
      "[I 2025-09-04 13:05:51,662] Trial 43 finished with value: 0.37053565670505995 and parameters: {'learning_rate': 0.0016992177040298323, 'num_leaves': 151, 'max_depth': 0, 'min_data_in_leaf': 30, 'feature_fraction': 0.8223646954824936, 'bagging_fraction': 0.8061012098668835, 'bagging_freq': 3, 'reg_alpha': 4.074201090834015, 'reg_lambda': 9.309366184487374}. Best is trial 12 with value: 0.4305975864426542.\n"
     ]
    },
    {
     "name": "stderr",
     "output_type": "stream",
     "text": [
      "Best trial: 12. Best value: 0.430598:  23%|██▎       | 46/200 [00:11<00:45,  3.36it/s]"
     ]
    },
    {
     "name": "stdout",
     "output_type": "stream",
     "text": [
      "[I 2025-09-04 13:05:52,176] Trial 44 finished with value: 0.34503617907675643 and parameters: {'learning_rate': 0.0013808845428696986, 'num_leaves': 256, 'max_depth': -1, 'min_data_in_leaf': 43, 'feature_fraction': 0.7633646913527813, 'bagging_fraction': 0.9485655254545422, 'bagging_freq': 4, 'reg_alpha': 1.6620503947237975, 'reg_lambda': 7.509829740262692}. Best is trial 12 with value: 0.4305975864426542.\n",
      "[I 2025-09-04 13:05:52,280] Trial 45 finished with value: 0.2917579609417461 and parameters: {'learning_rate': 0.13341573020852177, 'num_leaves': 220, 'max_depth': 3, 'min_data_in_leaf': 24, 'feature_fraction': 0.8557584639821123, 'bagging_fraction': 0.7186194479616171, 'bagging_freq': 1, 'reg_alpha': 5.060782096219601, 'reg_lambda': 8.85604856888222}. Best is trial 12 with value: 0.4305975864426542.\n"
     ]
    },
    {
     "name": "stderr",
     "output_type": "stream",
     "text": [
      "Best trial: 12. Best value: 0.430598:  24%|██▎       | 47/200 [00:11<00:40,  3.75it/s]"
     ]
    },
    {
     "name": "stdout",
     "output_type": "stream",
     "text": [
      "[I 2025-09-04 13:05:52,474] Trial 46 finished with value: 0.4110549328655635 and parameters: {'learning_rate': 0.0020893246142254193, 'num_leaves': 307, 'max_depth': 1, 'min_data_in_leaf': 37, 'feature_fraction': 0.6459794975514485, 'bagging_fraction': 0.6908391614650738, 'bagging_freq': 2, 'reg_alpha': 1.0577296205854512, 'reg_lambda': 9.684746192775416}. Best is trial 12 with value: 0.4305975864426542.\n"
     ]
    },
    {
     "name": "stderr",
     "output_type": "stream",
     "text": [
      "Best trial: 12. Best value: 0.430598:  24%|██▍       | 48/200 [00:11<00:40,  3.76it/s]"
     ]
    },
    {
     "name": "stdout",
     "output_type": "stream",
     "text": [
      "[I 2025-09-04 13:05:52,737] Trial 47 finished with value: 0.3822148559930867 and parameters: {'learning_rate': 0.0030495714316607792, 'num_leaves': 127, 'max_depth': 4, 'min_data_in_leaf': 41, 'feature_fraction': 0.8044111025102885, 'bagging_fraction': 0.7808378255535102, 'bagging_freq': 3, 'reg_alpha': 3.3981971483946527, 'reg_lambda': 6.509447677473659}. Best is trial 12 with value: 0.4305975864426542.\n"
     ]
    },
    {
     "name": "stderr",
     "output_type": "stream",
     "text": [
      "Best trial: 12. Best value: 0.430598:  25%|██▌       | 50/200 [00:12<00:43,  3.46it/s]"
     ]
    },
    {
     "name": "stdout",
     "output_type": "stream",
     "text": [
      "[I 2025-09-04 13:05:53,234] Trial 48 finished with value: 0.4059344004333751 and parameters: {'learning_rate': 0.0010096426645258916, 'num_leaves': 32, 'max_depth': 12, 'min_data_in_leaf': 35, 'feature_fraction': 0.869586878168122, 'bagging_fraction': 0.6233621912601129, 'bagging_freq': 6, 'reg_alpha': 2.7879889191639124, 'reg_lambda': 8.181940750278434}. Best is trial 12 with value: 0.4305975864426542.\n",
      "[I 2025-09-04 13:05:53,416] Trial 49 finished with value: 0.37841637538532974 and parameters: {'learning_rate': 0.0025073688938775027, 'num_leaves': 166, 'max_depth': 2, 'min_data_in_leaf': 28, 'feature_fraction': 0.727057038584664, 'bagging_fraction': 0.6490794357034018, 'bagging_freq': 5, 'reg_alpha': 2.136663586220842, 'reg_lambda': 7.241523331844897}. Best is trial 12 with value: 0.4305975864426542.\n"
     ]
    },
    {
     "name": "stderr",
     "output_type": "stream",
     "text": [
      "Best trial: 50. Best value: 0.454521:  26%|██▌       | 52/200 [00:12<00:30,  4.88it/s]"
     ]
    },
    {
     "name": "stdout",
     "output_type": "stream",
     "text": [
      "[I 2025-09-04 13:05:53,499] Trial 50 finished with value: 0.4545214172395559 and parameters: {'learning_rate': 0.21400167232716477, 'num_leaves': 403, 'max_depth': 3, 'min_data_in_leaf': 22, 'feature_fraction': 0.9066942585446336, 'bagging_fraction': 0.6043557294823259, 'bagging_freq': 2, 'reg_alpha': 9.793591017432938, 'reg_lambda': 2.137640265886045}. Best is trial 50 with value: 0.4545214172395559.\n",
      "[I 2025-09-04 13:05:53,629] Trial 51 finished with value: 0.4357154277210214 and parameters: {'learning_rate': 0.18428931421504063, 'num_leaves': 421, 'max_depth': 3, 'min_data_in_leaf': 8, 'feature_fraction': 0.9074997169496797, 'bagging_fraction': 0.60303371173446, 'bagging_freq': 2, 'reg_alpha': 9.956873185930403, 'reg_lambda': 2.0810619160305546}. Best is trial 50 with value: 0.4545214172395559.\n"
     ]
    },
    {
     "name": "stderr",
     "output_type": "stream",
     "text": [
      "Best trial: 50. Best value: 0.454521:  27%|██▋       | 54/200 [00:12<00:22,  6.37it/s]"
     ]
    },
    {
     "name": "stdout",
     "output_type": "stream",
     "text": [
      "[I 2025-09-04 13:05:53,704] Trial 52 finished with value: 0.3291636974225942 and parameters: {'learning_rate': 0.21983844751388376, 'num_leaves': 549, 'max_depth': 5, 'min_data_in_leaf': 8, 'feature_fraction': 0.9033525094366155, 'bagging_fraction': 0.6093203624425869, 'bagging_freq': 2, 'reg_alpha': 8.47543966164549, 'reg_lambda': 1.92849116206693}. Best is trial 50 with value: 0.4545214172395559.\n",
      "[I 2025-09-04 13:05:53,797] Trial 53 finished with value: 0.37416001341398925 and parameters: {'learning_rate': 0.14376164226761817, 'num_leaves': 769, 'max_depth': 3, 'min_data_in_leaf': 9, 'feature_fraction': 0.9166968781954797, 'bagging_fraction': 0.6037146002664091, 'bagging_freq': 2, 'reg_alpha': 9.940674152564519, 'reg_lambda': 0.5954311234575385}. Best is trial 50 with value: 0.4545214172395559.\n",
      "[I 2025-09-04 13:05:53,877] Trial 54 finished with value: 0.40356115618268823 and parameters: {'learning_rate': 0.1876943498275978, 'num_leaves': 424, 'max_depth': 4, 'min_data_in_leaf': 15, 'feature_fraction': 0.948991935966253, 'bagging_fraction': 0.6288213718322998, 'bagging_freq': 3, 'reg_alpha': 9.418347852190832, 'reg_lambda': 2.0957120546752903}. Best is trial 50 with value: 0.4545214172395559.\n"
     ]
    },
    {
     "name": "stderr",
     "output_type": "stream",
     "text": [
      "Best trial: 50. Best value: 0.454521:  29%|██▉       | 58/200 [00:12<00:16,  8.55it/s]"
     ]
    },
    {
     "name": "stdout",
     "output_type": "stream",
     "text": [
      "[I 2025-09-04 13:05:53,981] Trial 55 finished with value: 0.28808055267069327 and parameters: {'learning_rate': 0.11692469896864367, 'num_leaves': 575, 'max_depth': 3, 'min_data_in_leaf': 7, 'feature_fraction': 0.973245016785919, 'bagging_fraction': 0.6642894341782064, 'bagging_freq': 1, 'reg_alpha': 9.947778378970401, 'reg_lambda': 3.172486038570656}. Best is trial 50 with value: 0.4545214172395559.\n",
      "[I 2025-09-04 13:05:54,067] Trial 56 finished with value: 0.38485134086038025 and parameters: {'learning_rate': 0.2066208681104077, 'num_leaves': 442, 'max_depth': 5, 'min_data_in_leaf': 15, 'feature_fraction': 0.9267108335484975, 'bagging_fraction': 0.6174509625997342, 'bagging_freq': 2, 'reg_alpha': 9.027162447550054, 'reg_lambda': 2.2649500894097288}. Best is trial 50 with value: 0.4545214172395559.\n",
      "[I 2025-09-04 13:05:54,152] Trial 57 finished with value: 0.3816646943329432 and parameters: {'learning_rate': 0.11183897943324687, 'num_leaves': 337, 'max_depth': 2, 'min_data_in_leaf': 11, 'feature_fraction': 0.8786267412622243, 'bagging_fraction': 0.6395516814719631, 'bagging_freq': 3, 'reg_alpha': 8.37147314239277, 'reg_lambda': 1.3587627242779603}. Best is trial 50 with value: 0.4545214172395559.\n"
     ]
    },
    {
     "name": "stderr",
     "output_type": "stream",
     "text": [
      "Best trial: 50. Best value: 0.454521:  30%|███       | 61/200 [00:13<00:14,  9.32it/s]"
     ]
    },
    {
     "name": "stdout",
     "output_type": "stream",
     "text": [
      "[I 2025-09-04 13:05:54,255] Trial 58 finished with value: 0.3690007867820614 and parameters: {'learning_rate': 0.070995553842301, 'num_leaves': 274, 'max_depth': 11, 'min_data_in_leaf': 22, 'feature_fraction': 0.8402361020853929, 'bagging_fraction': 0.6014838923862356, 'bagging_freq': 1, 'reg_alpha': 9.464292737642008, 'reg_lambda': 3.6450133033381062}. Best is trial 50 with value: 0.4545214172395559.\n",
      "[I 2025-09-04 13:05:54,347] Trial 59 finished with value: 0.25695735381967805 and parameters: {'learning_rate': 0.16517261754661697, 'num_leaves': 414, 'max_depth': 4, 'min_data_in_leaf': 18, 'feature_fraction': 0.9200357664554841, 'bagging_fraction': 0.6626045061243178, 'bagging_freq': 7, 'reg_alpha': 8.836120097057437, 'reg_lambda': 3.107631464345996}. Best is trial 50 with value: 0.4545214172395559.\n",
      "[I 2025-09-04 13:05:54,445] Trial 60 finished with value: 0.39395970581139395 and parameters: {'learning_rate': 0.1640184956245837, 'num_leaves': 816, 'max_depth': 2, 'min_data_in_leaf': 13, 'feature_fraction': 0.9832116281339577, 'bagging_fraction': 0.6740308326318563, 'bagging_freq': 5, 'reg_alpha': 6.864172525148272, 'reg_lambda': 0.8579887848904604}. Best is trial 50 with value: 0.4545214172395559.\n"
     ]
    },
    {
     "name": "stderr",
     "output_type": "stream",
     "text": [
      "Best trial: 50. Best value: 0.454521:  31%|███       | 62/200 [00:13<00:20,  6.70it/s]"
     ]
    },
    {
     "name": "stdout",
     "output_type": "stream",
     "text": [
      "[I 2025-09-04 13:05:54,758] Trial 61 finished with value: 0.41230604532380605 and parameters: {'learning_rate': 0.0013966538773480595, 'num_leaves': 195, 'max_depth': 1, 'min_data_in_leaf': 33, 'feature_fraction': 0.7927781484801271, 'bagging_fraction': 0.7464391675283352, 'bagging_freq': 2, 'reg_alpha': 9.997864427116019, 'reg_lambda': 1.7140802037158107}. Best is trial 50 with value: 0.4545214172395559.\n"
     ]
    },
    {
     "name": "stderr",
     "output_type": "stream",
     "text": [
      "Best trial: 50. Best value: 0.454521:  32%|███▎      | 65/200 [00:14<00:25,  5.26it/s]"
     ]
    },
    {
     "name": "stdout",
     "output_type": "stream",
     "text": [
      "[I 2025-09-04 13:05:55,395] Trial 62 finished with value: 0.34430743831499655 and parameters: {'learning_rate': 0.0019143138500367475, 'num_leaves': 339, 'max_depth': 0, 'min_data_in_leaf': 5, 'feature_fraction': 0.7718027242327863, 'bagging_fraction': 0.6179374555190819, 'bagging_freq': 2, 'reg_alpha': 9.607373622089199, 'reg_lambda': 8.601834915760737}. Best is trial 50 with value: 0.4545214172395559.\n",
      "[I 2025-09-04 13:05:55,485] Trial 63 finished with value: 0.3454337028751133 and parameters: {'learning_rate': 0.10883107380486286, 'num_leaves': 238, 'max_depth': 3, 'min_data_in_leaf': 39, 'feature_fraction': 0.8209814361123474, 'bagging_fraction': 0.7632625920601789, 'bagging_freq': 2, 'reg_alpha': 9.036737500602635, 'reg_lambda': 4.088733664089729}. Best is trial 50 with value: 0.4545214172395559.\n",
      "[I 2025-09-04 13:05:55,560] Trial 64 finished with value: 0.4142207769516081 and parameters: {'learning_rate': 0.2310814021362182, 'num_leaves': 479, 'max_depth': 2, 'min_data_in_leaf': 36, 'feature_fraction': 0.7502244276176564, 'bagging_fraction': 0.6411825320429222, 'bagging_freq': 1, 'reg_alpha': 7.796399648372424, 'reg_lambda': 2.6683284960059686}. Best is trial 50 with value: 0.4545214172395559.\n"
     ]
    },
    {
     "name": "stderr",
     "output_type": "stream",
     "text": [
      "Best trial: 50. Best value: 0.454521:  32%|███▎      | 65/200 [00:14<00:25,  5.26it/s]"
     ]
    },
    {
     "name": "stdout",
     "output_type": "stream",
     "text": [
      "[I 2025-09-04 13:05:55,626] Trial 65 finished with value: 0.4106099495685597 and parameters: {'learning_rate': 0.24724826235918462, 'num_leaves': 289, 'max_depth': 1, 'min_data_in_leaf': 9, 'feature_fraction': 0.8478308494319581, 'bagging_fraction': 0.6929083168535837, 'bagging_freq': 2, 'reg_alpha': 4.428872763463854, 'reg_lambda': 7.9056475113002165}. Best is trial 50 with value: 0.4545214172395559.\n"
     ]
    },
    {
     "name": "stderr",
     "output_type": "stream",
     "text": [
      "Best trial: 50. Best value: 0.454521:  34%|███▎      | 67/200 [00:14<00:25,  5.32it/s]"
     ]
    },
    {
     "name": "stdout",
     "output_type": "stream",
     "text": [
      "[I 2025-09-04 13:05:55,929] Trial 66 finished with value: 0.3815054623311966 and parameters: {'learning_rate': 0.003842423942417022, 'num_leaves': 382, 'max_depth': 0, 'min_data_in_leaf': 21, 'feature_fraction': 0.9405813328379183, 'bagging_fraction': 0.6325823683695092, 'bagging_freq': 3, 'reg_alpha': 7.430300310671228, 'reg_lambda': 0.061602534707186685}. Best is trial 50 with value: 0.4545214172395559.\n",
      "[I 2025-09-04 13:05:56,003] Trial 67 finished with value: 0.3835433568508081 and parameters: {'learning_rate': 0.03776636997301102, 'num_leaves': 110, 'max_depth': 1, 'min_data_in_leaf': 25, 'feature_fraction': 0.8821302217028337, 'bagging_fraction': 0.6525016778161684, 'bagging_freq': 2, 'reg_alpha': 8.340463169319277, 'reg_lambda': 5.901982262345857}. Best is trial 50 with value: 0.4545214172395559.\n"
     ]
    },
    {
     "name": "stderr",
     "output_type": "stream",
     "text": [
      "Best trial: 50. Best value: 0.454521:  35%|███▌      | 70/200 [00:15<00:22,  5.90it/s]"
     ]
    },
    {
     "name": "stdout",
     "output_type": "stream",
     "text": [
      "[I 2025-09-04 13:05:56,193] Trial 68 finished with value: 0.3671563632611472 and parameters: {'learning_rate': 0.009913127635545879, 'num_leaves': 265, 'max_depth': 6, 'min_data_in_leaf': 32, 'feature_fraction': 0.90510902927823, 'bagging_fraction': 0.7269266594347289, 'bagging_freq': 4, 'reg_alpha': 5.027305522418508, 'reg_lambda': 6.751993984410317}. Best is trial 50 with value: 0.4545214172395559.\n",
      "[I 2025-09-04 13:05:56,364] Trial 69 finished with value: 0.349215152648618 and parameters: {'learning_rate': 0.013941687167714382, 'num_leaves': 687, 'max_depth': 4, 'min_data_in_leaf': 29, 'feature_fraction': 0.792151031776561, 'bagging_fraction': 0.7818089145512759, 'bagging_freq': 2, 'reg_alpha': 5.966806582561294, 'reg_lambda': 9.116386170773925}. Best is trial 50 with value: 0.4545214172395559.\n"
     ]
    },
    {
     "name": "stderr",
     "output_type": "stream",
     "text": [
      "Best trial: 50. Best value: 0.454521:  35%|███▌      | 70/200 [00:15<00:22,  5.90it/s]"
     ]
    },
    {
     "name": "stdout",
     "output_type": "stream",
     "text": [
      "[I 2025-09-04 13:05:56,455] Trial 70 finished with value: 0.34421715184893786 and parameters: {'learning_rate': 0.07561609289112403, 'num_leaves': 179, 'max_depth': 3, 'min_data_in_leaf': 41, 'feature_fraction': 0.8157625940968872, 'bagging_fraction': 0.7119888516194774, 'bagging_freq': 3, 'reg_alpha': 9.708978374787698, 'reg_lambda': 2.958258582129038}. Best is trial 50 with value: 0.4545214172395559.\n"
     ]
    },
    {
     "name": "stderr",
     "output_type": "stream",
     "text": [
      "Best trial: 50. Best value: 0.454521:  36%|███▌      | 72/200 [00:15<00:23,  5.45it/s]"
     ]
    },
    {
     "name": "stdout",
     "output_type": "stream",
     "text": [
      "[I 2025-09-04 13:05:56,782] Trial 71 finished with value: 0.42337258644929127 and parameters: {'learning_rate': 0.0011880501533710552, 'num_leaves': 205, 'max_depth': 1, 'min_data_in_leaf': 32, 'feature_fraction': 0.7823934324139611, 'bagging_fraction': 0.7664237327147025, 'bagging_freq': 2, 'reg_alpha': 3.6821881504515193, 'reg_lambda': 8.232532222066785}. Best is trial 50 with value: 0.4545214172395559.\n"
     ]
    },
    {
     "name": "stderr",
     "output_type": "stream",
     "text": [
      "Best trial: 50. Best value: 0.454521:  36%|███▋      | 73/200 [00:15<00:26,  4.87it/s]"
     ]
    },
    {
     "name": "stdout",
     "output_type": "stream",
     "text": [
      "[I 2025-09-04 13:05:57,073] Trial 72 finished with value: 0.36927809521352756 and parameters: {'learning_rate': 0.0011791758515864068, 'num_leaves': 141, 'max_depth': 2, 'min_data_in_leaf': 34, 'feature_fraction': 0.758613288143465, 'bagging_fraction': 0.7467410745995455, 'bagging_freq': 2, 'reg_alpha': 3.9250904165156477, 'reg_lambda': 2.3758458548765016}. Best is trial 50 with value: 0.4545214172395559.\n"
     ]
    },
    {
     "name": "stderr",
     "output_type": "stream",
     "text": [
      "Best trial: 50. Best value: 0.454521:  37%|███▋      | 74/200 [00:16<00:32,  3.85it/s]"
     ]
    },
    {
     "name": "stdout",
     "output_type": "stream",
     "text": [
      "[I 2025-09-04 13:05:57,519] Trial 73 finished with value: 0.3779778411216159 and parameters: {'learning_rate': 0.0016284966696631087, 'num_leaves': 212, 'max_depth': 0, 'min_data_in_leaf': 31, 'feature_fraction': 0.7398644052777119, 'bagging_fraction': 0.7962945392294329, 'bagging_freq': 2, 'reg_alpha': 3.2737602661889005, 'reg_lambda': 8.247794604256752}. Best is trial 50 with value: 0.4545214172395559.\n"
     ]
    },
    {
     "name": "stderr",
     "output_type": "stream",
     "text": [
      "Best trial: 50. Best value: 0.454521:  38%|███▊      | 75/200 [00:16<00:31,  3.96it/s]"
     ]
    },
    {
     "name": "stdout",
     "output_type": "stream",
     "text": [
      "[I 2025-09-04 13:05:57,750] Trial 74 finished with value: 0.42508158027111737 and parameters: {'learning_rate': 0.0022096432410680846, 'num_leaves': 238, 'max_depth': 1, 'min_data_in_leaf': 27, 'feature_fraction': 0.7773075483026345, 'bagging_fraction': 0.8460836689628248, 'bagging_freq': 1, 'reg_alpha': 2.820550400950679, 'reg_lambda': 7.482220822102887}. Best is trial 50 with value: 0.4545214172395559.\n"
     ]
    },
    {
     "name": "stderr",
     "output_type": "stream",
     "text": [
      "Best trial: 50. Best value: 0.454521:  38%|███▊      | 76/200 [00:16<00:31,  3.89it/s]"
     ]
    },
    {
     "name": "stdout",
     "output_type": "stream",
     "text": [
      "[I 2025-09-04 13:05:58,019] Trial 75 finished with value: 0.367311140060105 and parameters: {'learning_rate': 0.002758545394647404, 'num_leaves': 322, 'max_depth': 2, 'min_data_in_leaf': 17, 'feature_fraction': 0.7844350630004014, 'bagging_fraction': 0.8272355559166101, 'bagging_freq': 1, 'reg_alpha': 2.6961873137902317, 'reg_lambda': 7.575395384055772}. Best is trial 50 with value: 0.4545214172395559.\n"
     ]
    },
    {
     "name": "stderr",
     "output_type": "stream",
     "text": [
      "Best trial: 50. Best value: 0.454521:  38%|███▊      | 77/200 [00:17<00:32,  3.75it/s]"
     ]
    },
    {
     "name": "stdout",
     "output_type": "stream",
     "text": [
      "[I 2025-09-04 13:05:58,313] Trial 76 finished with value: 0.41214481949155823 and parameters: {'learning_rate': 0.0021415444182899647, 'num_leaves': 235, 'max_depth': 1, 'min_data_in_leaf': 27, 'feature_fraction': 0.8345107163940632, 'bagging_fraction': 0.8789845616220042, 'bagging_freq': 1, 'reg_alpha': 3.5124760833215256, 'reg_lambda': 6.21500894208214}. Best is trial 50 with value: 0.4545214172395559.\n"
     ]
    },
    {
     "name": "stderr",
     "output_type": "stream",
     "text": [
      "Best trial: 50. Best value: 0.454521:  40%|███▉      | 79/200 [00:17<00:27,  4.43it/s]"
     ]
    },
    {
     "name": "stdout",
     "output_type": "stream",
     "text": [
      "[I 2025-09-04 13:05:58,595] Trial 77 finished with value: 0.3598173633772298 and parameters: {'learning_rate': 0.003402265748695485, 'num_leaves': 530, 'max_depth': -1, 'min_data_in_leaf': 37, 'feature_fraction': 0.8021045114274973, 'bagging_fraction': 0.9041177626643427, 'bagging_freq': 1, 'reg_alpha': 9.244792676010144, 'reg_lambda': 6.892696502963134}. Best is trial 50 with value: 0.4545214172395559.\n",
      "[I 2025-09-04 13:05:58,707] Trial 78 finished with value: 0.29931416235108743 and parameters: {'learning_rate': 0.1875061920301129, 'num_leaves': 612, 'max_depth': 0, 'min_data_in_leaf': 29, 'feature_fraction': 0.7664683220577928, 'bagging_fraction': 0.8356274789559992, 'bagging_freq': 6, 'reg_alpha': 4.154447603253674, 'reg_lambda': 7.480309642041743}. Best is trial 50 with value: 0.4545214172395559.\n"
     ]
    },
    {
     "name": "stderr",
     "output_type": "stream",
     "text": [
      "Best trial: 50. Best value: 0.454521:  40%|████      | 80/200 [00:17<00:33,  3.54it/s]"
     ]
    },
    {
     "name": "stdout",
     "output_type": "stream",
     "text": [
      "[I 2025-09-04 13:05:59,129] Trial 79 finished with value: 0.3659955372689634 and parameters: {'learning_rate': 0.0014317781849359419, 'num_leaves': 292, 'max_depth': 2, 'min_data_in_leaf': 26, 'feature_fraction': 0.9158997238899592, 'bagging_fraction': 0.8116951626450848, 'bagging_freq': 1, 'reg_alpha': 1.3158820463662089, 'reg_lambda': 7.938140238620441}. Best is trial 50 with value: 0.4545214172395559.\n"
     ]
    },
    {
     "name": "stderr",
     "output_type": "stream",
     "text": [
      "Best trial: 50. Best value: 0.454521:  40%|████      | 81/200 [00:18<00:33,  3.60it/s]"
     ]
    },
    {
     "name": "stdout",
     "output_type": "stream",
     "text": [
      "[I 2025-09-04 13:05:59,396] Trial 80 finished with value: 0.3460615753698521 and parameters: {'learning_rate': 0.004467374134911737, 'num_leaves': 156, 'max_depth': 5, 'min_data_in_leaf': 35, 'feature_fraction': 0.8572926368584946, 'bagging_fraction': 0.856155757689014, 'bagging_freq': 3, 'reg_alpha': 2.4880890249601166, 'reg_lambda': 1.2125602356182523}. Best is trial 50 with value: 0.4545214172395559.\n"
     ]
    },
    {
     "name": "stderr",
     "output_type": "stream",
     "text": [
      "Best trial: 50. Best value: 0.454521:  41%|████      | 82/200 [00:18<00:31,  3.75it/s]"
     ]
    },
    {
     "name": "stdout",
     "output_type": "stream",
     "text": [
      "[I 2025-09-04 13:05:59,636] Trial 81 finished with value: 0.4160206884987941 and parameters: {'learning_rate': 0.001804569480019824, 'num_leaves': 185, 'max_depth': 1, 'min_data_in_leaf': 33, 'feature_fraction': 0.7003875859310065, 'bagging_fraction': 0.774052734956029, 'bagging_freq': 2, 'reg_alpha': 3.05048787809943, 'reg_lambda': 8.444558801860703}. Best is trial 50 with value: 0.4545214172395559.\n"
     ]
    },
    {
     "name": "stderr",
     "output_type": "stream",
     "text": [
      "Best trial: 50. Best value: 0.454521:  42%|████▏     | 84/200 [00:19<00:32,  3.61it/s]"
     ]
    },
    {
     "name": "stdout",
     "output_type": "stream",
     "text": [
      "[I 2025-09-04 13:06:00,053] Trial 82 finished with value: 0.41976112780694175 and parameters: {'learning_rate': 0.0011366173866606318, 'num_leaves': 258, 'max_depth': 1, 'min_data_in_leaf': 30, 'feature_fraction': 0.7764995775862525, 'bagging_fraction': 0.7860209444590804, 'bagging_freq': 2, 'reg_alpha': 3.093465379694879, 'reg_lambda': 7.260652132396875}. Best is trial 50 with value: 0.4545214172395559.\n",
      "[I 2025-09-04 13:06:00,250] Trial 83 finished with value: 0.3957384788020276 and parameters: {'learning_rate': 0.0022986062686289684, 'num_leaves': 201, 'max_depth': 1, 'min_data_in_leaf': 39, 'feature_fraction': 0.8116999554333655, 'bagging_fraction': 0.612770975788603, 'bagging_freq': 2, 'reg_alpha': 2.0416315873226853, 'reg_lambda': 8.941786657908185}. Best is trial 50 with value: 0.4545214172395559.\n"
     ]
    },
    {
     "name": "stderr",
     "output_type": "stream",
     "text": [
      "Best trial: 50. Best value: 0.454521:  42%|████▎     | 85/200 [00:19<00:26,  4.30it/s]"
     ]
    },
    {
     "name": "stdout",
     "output_type": "stream",
     "text": [
      "[I 2025-09-04 13:06:00,376] Trial 84 finished with value: 0.35587112876045657 and parameters: {'learning_rate': 0.13961695987453726, 'num_leaves': 231, 'max_depth': 0, 'min_data_in_leaf': 6, 'feature_fraction': 0.7551658127645449, 'bagging_fraction': 0.7556537592850398, 'bagging_freq': 2, 'reg_alpha': 3.5102367431674595, 'reg_lambda': 8.626229201973379}. Best is trial 50 with value: 0.4545214172395559.\n"
     ]
    },
    {
     "name": "stderr",
     "output_type": "stream",
     "text": [
      "Best trial: 50. Best value: 0.454521:  43%|████▎     | 86/200 [00:19<00:32,  3.52it/s]"
     ]
    },
    {
     "name": "stdout",
     "output_type": "stream",
     "text": [
      "[I 2025-09-04 13:06:00,783] Trial 85 finished with value: 0.3598173633772298 and parameters: {'learning_rate': 0.0014690538957553663, 'num_leaves': 175, 'max_depth': 3, 'min_data_in_leaf': 32, 'feature_fraction': 0.7263740036714356, 'bagging_fraction': 0.8028502199747399, 'bagging_freq': 2, 'reg_alpha': 3.707919974255995, 'reg_lambda': 7.708664438503167}. Best is trial 50 with value: 0.4545214172395559.\n"
     ]
    },
    {
     "name": "stderr",
     "output_type": "stream",
     "text": [
      "Best trial: 50. Best value: 0.454521:  44%|████▎     | 87/200 [00:19<00:32,  3.44it/s]"
     ]
    },
    {
     "name": "stdout",
     "output_type": "stream",
     "text": [
      "[I 2025-09-04 13:06:01,089] Trial 86 finished with value: 0.36818175955424287 and parameters: {'learning_rate': 0.0017816875655453015, 'num_leaves': 398, 'max_depth': 2, 'min_data_in_leaf': 30, 'feature_fraction': 0.8941064594453704, 'bagging_fraction': 0.7657061314174755, 'bagging_freq': 4, 'reg_alpha': 2.4814883007449584, 'reg_lambda': 9.57308284019844}. Best is trial 50 with value: 0.4545214172395559.\n"
     ]
    },
    {
     "name": "stderr",
     "output_type": "stream",
     "text": [
      "Best trial: 50. Best value: 0.454521:  44%|████▍     | 89/200 [00:20<00:25,  4.32it/s]"
     ]
    },
    {
     "name": "stdout",
     "output_type": "stream",
     "text": [
      "[I 2025-09-04 13:06:01,316] Trial 87 finished with value: 0.3629580425894159 and parameters: {'learning_rate': 0.00524553238297154, 'num_leaves': 214, 'max_depth': -1, 'min_data_in_leaf': 36, 'feature_fraction': 0.7873404008600834, 'bagging_fraction': 0.8196016420315879, 'bagging_freq': 3, 'reg_alpha': 4.615500489519039, 'reg_lambda': 5.543388229401568}. Best is trial 50 with value: 0.4545214172395559.\n",
      "[I 2025-09-04 13:06:01,454] Trial 88 finished with value: 0.3788549096490436 and parameters: {'learning_rate': 0.023901577213933208, 'num_leaves': 365, 'max_depth': 0, 'min_data_in_leaf': 38, 'feature_fraction': 0.9354897235297168, 'bagging_fraction': 0.8776768294622219, 'bagging_freq': 1, 'reg_alpha': 9.753254475247092, 'reg_lambda': 8.107085081580866}. Best is trial 50 with value: 0.4545214172395559.\n"
     ]
    },
    {
     "name": "stderr",
     "output_type": "stream",
     "text": [
      "Best trial: 50. Best value: 0.454521:  45%|████▌     | 90/200 [00:20<00:25,  4.36it/s]"
     ]
    },
    {
     "name": "stdout",
     "output_type": "stream",
     "text": [
      "[I 2025-09-04 13:06:01,677] Trial 89 finished with value: 0.34516515974255463 and parameters: {'learning_rate': 0.007842362876958666, 'num_leaves': 469, 'max_depth': 4, 'min_data_in_leaf': 12, 'feature_fraction': 0.7426073142617435, 'bagging_fraction': 0.6347814719808896, 'bagging_freq': 3, 'reg_alpha': 8.700715808583903, 'reg_lambda': 4.6467994896441525}. Best is trial 50 with value: 0.4545214172395559.\n"
     ]
    },
    {
     "name": "stderr",
     "output_type": "stream",
     "text": [
      "Best trial: 50. Best value: 0.454521:  46%|████▌     | 91/200 [00:20<00:28,  3.80it/s]"
     ]
    },
    {
     "name": "stdout",
     "output_type": "stream",
     "text": [
      "[I 2025-09-04 13:06:02,020] Trial 90 finished with value: 0.3886380931498369 and parameters: {'learning_rate': 0.0012973471148429194, 'num_leaves': 307, 'max_depth': 3, 'min_data_in_leaf': 50, 'feature_fraction': 0.7989779861542241, 'bagging_fraction': 0.7402480418195198, 'bagging_freq': 2, 'reg_alpha': 8.219736466186816, 'reg_lambda': 1.8651240524785428}. Best is trial 50 with value: 0.4545214172395559.\n"
     ]
    },
    {
     "name": "stderr",
     "output_type": "stream",
     "text": [
      "Best trial: 50. Best value: 0.454521:  46%|████▌     | 92/200 [00:21<00:33,  3.23it/s]"
     ]
    },
    {
     "name": "stdout",
     "output_type": "stream",
     "text": [
      "[I 2025-09-04 13:06:02,438] Trial 91 finished with value: 0.4214056312958688 and parameters: {'learning_rate': 0.0011103532497132613, 'num_leaves': 258, 'max_depth': 1, 'min_data_in_leaf': 28, 'feature_fraction': 0.7784277426321875, 'bagging_fraction': 0.7808039252468006, 'bagging_freq': 2, 'reg_alpha': 3.0987967894468933, 'reg_lambda': 7.4400987049328355}. Best is trial 50 with value: 0.4545214172395559.\n"
     ]
    },
    {
     "name": "stderr",
     "output_type": "stream",
     "text": [
      "Best trial: 50. Best value: 0.454521:  46%|████▋     | 93/200 [00:21<00:35,  2.99it/s]"
     ]
    },
    {
     "name": "stdout",
     "output_type": "stream",
     "text": [
      "[I 2025-09-04 13:06:02,829] Trial 92 finished with value: 0.42439153370909705 and parameters: {'learning_rate': 0.0010678005508959938, 'num_leaves': 249, 'max_depth': 1, 'min_data_in_leaf': 28, 'feature_fraction': 0.7731819712142644, 'bagging_fraction': 0.7271553705714808, 'bagging_freq': 2, 'reg_alpha': 3.10901345449685, 'reg_lambda': 7.037599806062855}. Best is trial 50 with value: 0.4545214172395559.\n"
     ]
    },
    {
     "name": "stderr",
     "output_type": "stream",
     "text": [
      "Best trial: 50. Best value: 0.454521:  47%|████▋     | 94/200 [00:22<00:37,  2.80it/s]"
     ]
    },
    {
     "name": "stdout",
     "output_type": "stream",
     "text": [
      "[I 2025-09-04 13:06:03,242] Trial 93 finished with value: 0.41653661116198687 and parameters: {'learning_rate': 0.0010779459353734673, 'num_leaves': 251, 'max_depth': 1, 'min_data_in_leaf': 28, 'feature_fraction': 0.7656261025016946, 'bagging_fraction': 0.7311523954391606, 'bagging_freq': 2, 'reg_alpha': 2.7802764004821308, 'reg_lambda': 6.8817566257010565}. Best is trial 50 with value: 0.4545214172395559.\n"
     ]
    },
    {
     "name": "stderr",
     "output_type": "stream",
     "text": [
      "Best trial: 50. Best value: 0.454521:  48%|████▊     | 95/200 [00:22<00:42,  2.46it/s]"
     ]
    },
    {
     "name": "stdout",
     "output_type": "stream",
     "text": [
      "[I 2025-09-04 13:06:03,762] Trial 94 finished with value: 0.37057435090479934 and parameters: {'learning_rate': 0.001266364725406596, 'num_leaves': 276, 'max_depth': 2, 'min_data_in_leaf': 25, 'feature_fraction': 0.7789731152231203, 'bagging_fraction': 0.6989308026082974, 'bagging_freq': 2, 'reg_alpha': 2.1634130231797393, 'reg_lambda': 7.202149616561476}. Best is trial 50 with value: 0.4545214172395559.\n"
     ]
    },
    {
     "name": "stderr",
     "output_type": "stream",
     "text": [
      "Best trial: 50. Best value: 0.454521:  48%|████▊     | 96/200 [00:23<00:58,  1.78it/s]"
     ]
    },
    {
     "name": "stdout",
     "output_type": "stream",
     "text": [
      "[I 2025-09-04 13:06:04,687] Trial 95 finished with value: 0.3693425855464266 and parameters: {'learning_rate': 0.0010060296600617707, 'num_leaves': 169, 'max_depth': 0, 'min_data_in_leaf': 27, 'feature_fraction': 0.9081078501942617, 'bagging_fraction': 0.7527007697337255, 'bagging_freq': 1, 'reg_alpha': 4.171065882871861, 'reg_lambda': 7.810754279672367}. Best is trial 50 with value: 0.4545214172395559.\n"
     ]
    },
    {
     "name": "stderr",
     "output_type": "stream",
     "text": [
      "Best trial: 50. Best value: 0.454521:  49%|████▉     | 98/200 [00:23<00:38,  2.66it/s]"
     ]
    },
    {
     "name": "stdout",
     "output_type": "stream",
     "text": [
      "[I 2025-09-04 13:06:04,937] Trial 96 finished with value: 0.4238820600791942 and parameters: {'learning_rate': 0.0019646806398114247, 'num_leaves': 341, 'max_depth': 1, 'min_data_in_leaf': 24, 'feature_fraction': 0.874005029062224, 'bagging_fraction': 0.724128248434339, 'bagging_freq': 5, 'reg_alpha': 3.769225191548011, 'reg_lambda': 7.465108785744785}. Best is trial 50 with value: 0.4545214172395559.\n",
      "[I 2025-09-04 13:06:05,096] Trial 97 finished with value: 0.42680347215952336 and parameters: {'learning_rate': 0.0025983967085846734, 'num_leaves': 340, 'max_depth': 1, 'min_data_in_leaf': 25, 'feature_fraction': 0.8694410765892824, 'bagging_fraction': 0.6205961907819565, 'bagging_freq': 5, 'reg_alpha': 3.863324627965677, 'reg_lambda': 6.6568412888088435}. Best is trial 50 with value: 0.4545214172395559.\n"
     ]
    },
    {
     "name": "stderr",
     "output_type": "stream",
     "text": [
      "Best trial: 50. Best value: 0.454521:  50%|████▉     | 99/200 [00:24<00:32,  3.08it/s]"
     ]
    },
    {
     "name": "stdout",
     "output_type": "stream",
     "text": [
      "[I 2025-09-04 13:06:05,302] Trial 98 finished with value: 0.3973055938914757 and parameters: {'learning_rate': 0.0027195206141601334, 'num_leaves': 352, 'max_depth': 2, 'min_data_in_leaf': 23, 'feature_fraction': 0.8726253249118191, 'bagging_fraction': 0.6222398213747298, 'bagging_freq': 5, 'reg_alpha': 3.9129804576739926, 'reg_lambda': 6.636598614440967}. Best is trial 50 with value: 0.4545214172395559.\n"
     ]
    },
    {
     "name": "stderr",
     "output_type": "stream",
     "text": [
      "Best trial: 50. Best value: 0.454521:  50%|█████     | 101/200 [00:24<00:29,  3.34it/s]"
     ]
    },
    {
     "name": "stdout",
     "output_type": "stream",
     "text": [
      "[I 2025-09-04 13:06:05,725] Trial 99 finished with value: 0.38339502908514017 and parameters: {'learning_rate': 0.0033529394274243863, 'num_leaves': 444, 'max_depth': 0, 'min_data_in_leaf': 20, 'feature_fraction': 0.8915710130537605, 'bagging_fraction': 0.6810376842080588, 'bagging_freq': 5, 'reg_alpha': 3.6920683087073853, 'reg_lambda': 7.040753076831263}. Best is trial 50 with value: 0.4545214172395559.\n",
      "[I 2025-09-04 13:06:05,898] Trial 100 finished with value: 0.41149991616256726 and parameters: {'learning_rate': 0.0020548289512990936, 'num_leaves': 337, 'max_depth': 1, 'min_data_in_leaf': 23, 'feature_fraction': 0.8747055303387548, 'bagging_fraction': 0.6016685671130463, 'bagging_freq': 5, 'reg_alpha': 4.436003356257558, 'reg_lambda': 6.506892941641188}. Best is trial 50 with value: 0.4545214172395559.\n"
     ]
    },
    {
     "name": "stderr",
     "output_type": "stream",
     "text": [
      "Best trial: 50. Best value: 0.454521:  51%|█████     | 102/200 [00:24<00:27,  3.61it/s]"
     ]
    },
    {
     "name": "stdout",
     "output_type": "stream",
     "text": [
      "[I 2025-09-04 13:06:06,122] Trial 101 finished with value: 0.4268163702261032 and parameters: {'learning_rate': 0.0024383842151851623, 'num_leaves': 385, 'max_depth': 1, 'min_data_in_leaf': 25, 'feature_fraction': 0.8571536732105575, 'bagging_fraction': 0.7217353567063395, 'bagging_freq': 5, 'reg_alpha': 3.319920809200043, 'reg_lambda': 7.383619348448842}. Best is trial 50 with value: 0.4545214172395559.\n"
     ]
    },
    {
     "name": "stderr",
     "output_type": "stream",
     "text": [
      "Best trial: 50. Best value: 0.454521:  52%|█████▏    | 103/200 [00:25<00:25,  3.78it/s]"
     ]
    },
    {
     "name": "stdout",
     "output_type": "stream",
     "text": [
      "[I 2025-09-04 13:06:06,358] Trial 102 finished with value: 0.4306406469670197 and parameters: {'learning_rate': 0.002426160292167003, 'num_leaves': 429, 'max_depth': 1, 'min_data_in_leaf': 24, 'feature_fraction': 0.8582464083612001, 'bagging_fraction': 0.7252151837598927, 'bagging_freq': 5, 'reg_alpha': 3.3040959481449774, 'reg_lambda': 6.230490902573146}. Best is trial 50 with value: 0.4545214172395559.\n"
     ]
    },
    {
     "name": "stderr",
     "output_type": "stream",
     "text": [
      "Best trial: 50. Best value: 0.454521:  52%|█████▏    | 104/200 [00:25<00:25,  3.80it/s]"
     ]
    },
    {
     "name": "stdout",
     "output_type": "stream",
     "text": [
      "[I 2025-09-04 13:06:06,617] Trial 103 finished with value: 0.4250622331712477 and parameters: {'learning_rate': 0.0027684155904717225, 'num_leaves': 389, 'max_depth': 1, 'min_data_in_leaf': 26, 'feature_fraction': 0.883084775491287, 'bagging_fraction': 0.7216982265541301, 'bagging_freq': 5, 'reg_alpha': 3.380211679295297, 'reg_lambda': 6.135856387109118}. Best is trial 50 with value: 0.4545214172395559.\n"
     ]
    },
    {
     "name": "stderr",
     "output_type": "stream",
     "text": [
      "Best trial: 50. Best value: 0.454521:  52%|█████▎    | 105/200 [00:25<00:26,  3.61it/s]"
     ]
    },
    {
     "name": "stdout",
     "output_type": "stream",
     "text": [
      "[I 2025-09-04 13:06:06,926] Trial 104 finished with value: 0.3707613728702068 and parameters: {'learning_rate': 0.002429976030202665, 'num_leaves': 498, 'max_depth': 2, 'min_data_in_leaf': 25, 'feature_fraction': 0.8863795316354119, 'bagging_fraction': 0.7202963887520252, 'bagging_freq': 5, 'reg_alpha': 3.400568392697187, 'reg_lambda': 6.153244260698401}. Best is trial 50 with value: 0.4545214172395559.\n"
     ]
    },
    {
     "name": "stderr",
     "output_type": "stream",
     "text": [
      "Best trial: 50. Best value: 0.454521:  54%|█████▎    | 107/200 [00:26<00:26,  3.56it/s]"
     ]
    },
    {
     "name": "stdout",
     "output_type": "stream",
     "text": [
      "[I 2025-09-04 13:06:07,334] Trial 105 finished with value: 0.3708581083695554 and parameters: {'learning_rate': 0.0028151284030479566, 'num_leaves': 405, 'max_depth': 0, 'min_data_in_leaf': 22, 'feature_fraction': 0.8502760339317185, 'bagging_fraction': 0.7024147509750461, 'bagging_freq': 5, 'reg_alpha': 2.5583407964670863, 'reg_lambda': 5.737578440941844}. Best is trial 50 with value: 0.4545214172395559.\n",
      "[I 2025-09-04 13:06:07,532] Trial 106 finished with value: 0.353581148185887 and parameters: {'learning_rate': 0.003117256982818214, 'num_leaves': 385, 'max_depth': 2, 'min_data_in_leaf': 24, 'feature_fraction': 0.862863796558296, 'bagging_fraction': 0.721492286434139, 'bagging_freq': 6, 'reg_alpha': 2.913357812018255, 'reg_lambda': 6.24933238735327}. Best is trial 50 with value: 0.4545214172395559.\n"
     ]
    },
    {
     "name": "stderr",
     "output_type": "stream",
     "text": [
      "Best trial: 50. Best value: 0.454521:  54%|█████▍    | 108/200 [00:26<00:25,  3.58it/s]"
     ]
    },
    {
     "name": "stdout",
     "output_type": "stream",
     "text": [
      "[I 2025-09-04 13:06:07,808] Trial 107 finished with value: 0.3976602907224207 and parameters: {'learning_rate': 0.004116682795576907, 'num_leaves': 430, 'max_depth': 3, 'min_data_in_leaf': 24, 'feature_fraction': 0.8980101110278405, 'bagging_fraction': 0.6112092599511129, 'bagging_freq': 5, 'reg_alpha': 3.9956669171128, 'reg_lambda': 6.4349853830452615}. Best is trial 50 with value: 0.4545214172395559.\n"
     ]
    },
    {
     "name": "stderr",
     "output_type": "stream",
     "text": [
      "Best trial: 50. Best value: 0.454521:  55%|█████▍    | 109/200 [00:26<00:23,  3.90it/s]"
     ]
    },
    {
     "name": "stdout",
     "output_type": "stream",
     "text": [
      "[I 2025-09-04 13:06:08,012] Trial 108 finished with value: 0.410867910900156 and parameters: {'learning_rate': 0.002244648034456728, 'num_leaves': 564, 'max_depth': 1, 'min_data_in_leaf': 26, 'feature_fraction': 0.9149313949044178, 'bagging_fraction': 0.6563976014436126, 'bagging_freq': 4, 'reg_alpha': 1.8803330003666128, 'reg_lambda': 7.0157043877212235}. Best is trial 50 with value: 0.4545214172395559.\n"
     ]
    },
    {
     "name": "stderr",
     "output_type": "stream",
     "text": [
      "Best trial: 50. Best value: 0.454521:  56%|█████▌    | 111/200 [00:27<00:18,  4.85it/s]"
     ]
    },
    {
     "name": "stdout",
     "output_type": "stream",
     "text": [
      "[I 2025-09-04 13:06:08,212] Trial 109 finished with value: 0.31588654860636395 and parameters: {'learning_rate': 0.016489717066587868, 'num_leaves': 465, 'max_depth': 6, 'min_data_in_leaf': 21, 'feature_fraction': 0.863533393435789, 'bagging_fraction': 0.7105655604224171, 'bagging_freq': 5, 'reg_alpha': 4.84799562780634, 'reg_lambda': 5.251825304420491}. Best is trial 50 with value: 0.4545214172395559.\n",
      "[I 2025-09-04 13:06:08,341] Trial 110 finished with value: 0.36664044059795436 and parameters: {'learning_rate': 0.19704780526966284, 'num_leaves': 322, 'max_depth': 8, 'min_data_in_leaf': 22, 'feature_fraction': 0.8830150466717686, 'bagging_fraction': 0.6230664988408987, 'bagging_freq': 5, 'reg_alpha': 3.262399853650028, 'reg_lambda': 6.676259063650019}. Best is trial 50 with value: 0.4545214172395559.\n"
     ]
    },
    {
     "name": "stderr",
     "output_type": "stream",
     "text": [
      "Best trial: 50. Best value: 0.454521:  56%|█████▌    | 112/200 [00:27<00:18,  4.66it/s]"
     ]
    },
    {
     "name": "stdout",
     "output_type": "stream",
     "text": [
      "[I 2025-09-04 13:06:08,574] Trial 111 finished with value: 0.4224503746888341 and parameters: {'learning_rate': 0.001934253964115727, 'num_leaves': 370, 'max_depth': 1, 'min_data_in_leaf': 25, 'feature_fraction': 0.9245669057236713, 'bagging_fraction': 0.6676035257733767, 'bagging_freq': 5, 'reg_alpha': 3.596814627374937, 'reg_lambda': 6.042251018401568}. Best is trial 50 with value: 0.4545214172395559.\n"
     ]
    },
    {
     "name": "stderr",
     "output_type": "stream",
     "text": [
      "Best trial: 50. Best value: 0.454521:  56%|█████▋    | 113/200 [00:27<00:19,  4.35it/s]"
     ]
    },
    {
     "name": "stdout",
     "output_type": "stream",
     "text": [
      "[I 2025-09-04 13:06:08,840] Trial 112 finished with value: 0.42461724987424393 and parameters: {'learning_rate': 0.001540101452891619, 'num_leaves': 286, 'max_depth': 1, 'min_data_in_leaf': 26, 'feature_fraction': 0.8466113742495599, 'bagging_fraction': 0.7395711232972123, 'bagging_freq': 5, 'reg_alpha': 3.806980325392576, 'reg_lambda': 7.3468626398042804}. Best is trial 50 with value: 0.4545214172395559.\n"
     ]
    },
    {
     "name": "stderr",
     "output_type": "stream",
     "text": [
      "Best trial: 50. Best value: 0.454521:  57%|█████▋    | 114/200 [00:27<00:21,  4.04it/s]"
     ]
    },
    {
     "name": "stdout",
     "output_type": "stream",
     "text": [
      "[I 2025-09-04 13:06:09,128] Trial 113 finished with value: 0.4208252182997769 and parameters: {'learning_rate': 0.001528336690795693, 'num_leaves': 303, 'max_depth': 1, 'min_data_in_leaf': 26, 'feature_fraction': 0.8991181687163845, 'bagging_fraction': 0.6938067118635978, 'bagging_freq': 5, 'reg_alpha': 4.281555431498516, 'reg_lambda': 7.315593928277768}. Best is trial 50 with value: 0.4545214172395559.\n"
     ]
    },
    {
     "name": "stderr",
     "output_type": "stream",
     "text": [
      "Best trial: 50. Best value: 0.454521:  57%|█████▊    | 115/200 [00:28<00:20,  4.06it/s]"
     ]
    },
    {
     "name": "stdout",
     "output_type": "stream",
     "text": [
      "[I 2025-09-04 13:06:09,371] Trial 114 finished with value: 0.42275347925345985 and parameters: {'learning_rate': 0.002464306408307757, 'num_leaves': 351, 'max_depth': 1, 'min_data_in_leaf': 23, 'feature_fraction': 0.8423876280369568, 'bagging_fraction': 0.7376246367915894, 'bagging_freq': 6, 'reg_alpha': 2.9767699729006853, 'reg_lambda': 6.3204977479397595}. Best is trial 50 with value: 0.4545214172395559.\n"
     ]
    },
    {
     "name": "stderr",
     "output_type": "stream",
     "text": [
      "Best trial: 50. Best value: 0.454521:  58%|█████▊    | 117/200 [00:28<00:19,  4.23it/s]"
     ]
    },
    {
     "name": "stdout",
     "output_type": "stream",
     "text": [
      "[I 2025-09-04 13:06:09,685] Trial 115 finished with value: 0.3878513110884679 and parameters: {'learning_rate': 0.0018016934308581626, 'num_leaves': 414, 'max_depth': 2, 'min_data_in_leaf': 27, 'feature_fraction': 0.8593283090346722, 'bagging_fraction': 0.7254210097648378, 'bagging_freq': 5, 'reg_alpha': 3.865422788267985, 'reg_lambda': 6.7816961506476865}. Best is trial 50 with value: 0.4545214172395559.\n",
      "[I 2025-09-04 13:06:09,852] Trial 116 finished with value: 0.35153680463298553 and parameters: {'learning_rate': 0.028824658416139275, 'num_leaves': 511, 'max_depth': 0, 'min_data_in_leaf': 19, 'feature_fraction': 0.8274172545249523, 'bagging_fraction': 0.6486088595079218, 'bagging_freq': 5, 'reg_alpha': 3.4113119867169797, 'reg_lambda': 7.118357882106735}. Best is trial 50 with value: 0.4545214172395559.\n"
     ]
    },
    {
     "name": "stderr",
     "output_type": "stream",
     "text": [
      "Best trial: 50. Best value: 0.454521:  60%|█████▉    | 119/200 [00:28<00:14,  5.58it/s]"
     ]
    },
    {
     "name": "stdout",
     "output_type": "stream",
     "text": [
      "[I 2025-09-04 13:06:09,946] Trial 117 finished with value: 0.35487589581951434 and parameters: {'learning_rate': 0.0550110418103869, 'num_leaves': 321, 'max_depth': 2, 'min_data_in_leaf': 24, 'feature_fraction': 0.8755681603003908, 'bagging_fraction': 0.7135297224737891, 'bagging_freq': 4, 'reg_alpha': 2.6518120833513246, 'reg_lambda': 2.175394727994717}. Best is trial 50 with value: 0.4545214172395559.\n",
      "[I 2025-09-04 13:06:10,076] Trial 118 finished with value: 0.36032137403737163 and parameters: {'learning_rate': 0.1670072036153896, 'num_leaves': 288, 'max_depth': 0, 'min_data_in_leaf': 26, 'feature_fraction': 0.8489244888033906, 'bagging_fraction': 0.7046256403694774, 'bagging_freq': 5, 'reg_alpha': 3.1437300537742328, 'reg_lambda': 7.385129894858241}. Best is trial 50 with value: 0.4545214172395559.\n"
     ]
    },
    {
     "name": "stderr",
     "output_type": "stream",
     "text": [
      "Best trial: 50. Best value: 0.454521:  60%|██████    | 120/200 [00:29<00:13,  5.97it/s]"
     ]
    },
    {
     "name": "stdout",
     "output_type": "stream",
     "text": [
      "[I 2025-09-04 13:06:10,209] Trial 119 finished with value: 0.3488655180064137 and parameters: {'learning_rate': 0.10049578135540617, 'num_leaves': 383, 'max_depth': 4, 'min_data_in_leaf': 28, 'feature_fraction': 0.9089020681309877, 'bagging_fraction': 0.9313887431984026, 'bagging_freq': 6, 'reg_alpha': 4.516184697488692, 'reg_lambda': 5.805007654535385}. Best is trial 50 with value: 0.4545214172395559.\n"
     ]
    },
    {
     "name": "stderr",
     "output_type": "stream",
     "text": [
      "Best trial: 50. Best value: 0.454521:  60%|██████    | 121/200 [00:29<00:14,  5.33it/s]"
     ]
    },
    {
     "name": "stdout",
     "output_type": "stream",
     "text": [
      "[I 2025-09-04 13:06:10,453] Trial 120 finished with value: 0.40902348737924193 and parameters: {'learning_rate': 0.0016701671663343406, 'num_leaves': 599, 'max_depth': 1, 'min_data_in_leaf': 21, 'feature_fraction': 0.8798890095060874, 'bagging_fraction': 0.6380017470584656, 'bagging_freq': 5, 'reg_alpha': 3.294761717243933, 'reg_lambda': 2.4829646881955645}. Best is trial 50 with value: 0.4545214172395559.\n"
     ]
    },
    {
     "name": "stderr",
     "output_type": "stream",
     "text": [
      "Best trial: 50. Best value: 0.454521:  61%|██████    | 122/200 [00:29<00:18,  4.20it/s]"
     ]
    },
    {
     "name": "stdout",
     "output_type": "stream",
     "text": [
      "[I 2025-09-04 13:06:10,826] Trial 121 finished with value: 0.4212444054636211 and parameters: {'learning_rate': 0.0013555712146428747, 'num_leaves': 444, 'max_depth': 1, 'min_data_in_leaf': 25, 'feature_fraction': 0.8897281576030892, 'bagging_fraction': 0.7342548462585602, 'bagging_freq': 5, 'reg_alpha': 3.694315002152751, 'reg_lambda': 7.5876128343237}. Best is trial 50 with value: 0.4545214172395559.\n"
     ]
    },
    {
     "name": "stderr",
     "output_type": "stream",
     "text": [
      "Best trial: 50. Best value: 0.454521:  62%|██████▏   | 123/200 [00:29<00:17,  4.31it/s]"
     ]
    },
    {
     "name": "stdout",
     "output_type": "stream",
     "text": [
      "[I 2025-09-04 13:06:11,041] Trial 122 finished with value: 0.42177322619339364 and parameters: {'learning_rate': 0.00214665813536166, 'num_leaves': 238, 'max_depth': 1, 'min_data_in_leaf': 30, 'feature_fraction': 0.8672353435256541, 'bagging_fraction': 0.7468054214335165, 'bagging_freq': 5, 'reg_alpha': 3.753947681533639, 'reg_lambda': 6.925802189591322}. Best is trial 50 with value: 0.4545214172395559.\n"
     ]
    },
    {
     "name": "stderr",
     "output_type": "stream",
     "text": [
      "Best trial: 50. Best value: 0.454521:  62%|██████▏   | 124/200 [00:30<00:17,  4.25it/s]"
     ]
    },
    {
     "name": "stdout",
     "output_type": "stream",
     "text": [
      "[I 2025-09-04 13:06:11,285] Trial 123 finished with value: 0.42936373837561753 and parameters: {'learning_rate': 0.0015338196145530311, 'num_leaves': 342, 'max_depth': 1, 'min_data_in_leaf': 27, 'feature_fraction': 0.9342407404163102, 'bagging_fraction': 0.743088795050144, 'bagging_freq': 5, 'reg_alpha': 4.149992053132075, 'reg_lambda': 6.645163238071433}. Best is trial 50 with value: 0.4545214172395559.\n"
     ]
    },
    {
     "name": "stderr",
     "output_type": "stream",
     "text": [
      "Best trial: 50. Best value: 0.454521:  62%|██████▎   | 125/200 [00:30<00:18,  4.08it/s]"
     ]
    },
    {
     "name": "stdout",
     "output_type": "stream",
     "text": [
      "[I 2025-09-04 13:06:11,554] Trial 124 finished with value: 0.36736273232642425 and parameters: {'learning_rate': 0.0019794695663633913, 'num_leaves': 334, 'max_depth': 2, 'min_data_in_leaf': 29, 'feature_fraction': 0.9498579857772518, 'bagging_fraction': 0.6820297006555209, 'bagging_freq': 5, 'reg_alpha': 4.143392718601211, 'reg_lambda': 6.624708394631723}. Best is trial 50 with value: 0.4545214172395559.\n"
     ]
    },
    {
     "name": "stderr",
     "output_type": "stream",
     "text": [
      "Best trial: 50. Best value: 0.454521:  63%|██████▎   | 126/200 [00:30<00:20,  3.55it/s]"
     ]
    },
    {
     "name": "stdout",
     "output_type": "stream",
     "text": [
      "[I 2025-09-04 13:06:11,924] Trial 125 finished with value: 0.4110420347989836 and parameters: {'learning_rate': 0.002608404576095606, 'num_leaves': 373, 'max_depth': 0, 'min_data_in_leaf': 27, 'feature_fraction': 0.9418187997593448, 'bagging_fraction': 0.6131943336683865, 'bagging_freq': 5, 'reg_alpha': 2.8501223263518494, 'reg_lambda': 7.1502729281368795}. Best is trial 50 with value: 0.4545214172395559.\n"
     ]
    },
    {
     "name": "stderr",
     "output_type": "stream",
     "text": [
      "Best trial: 50. Best value: 0.454521:  64%|██████▎   | 127/200 [00:31<00:23,  3.15it/s]"
     ]
    },
    {
     "name": "stdout",
     "output_type": "stream",
     "text": [
      "[I 2025-09-04 13:06:12,329] Trial 126 finished with value: 0.4249010073389999 and parameters: {'learning_rate': 0.0015590456499907424, 'num_leaves': 400, 'max_depth': 1, 'min_data_in_leaf': 25, 'feature_fraction': 0.932481524241843, 'bagging_fraction': 0.728547368196435, 'bagging_freq': 4, 'reg_alpha': 4.7723143061465665, 'reg_lambda': 5.672217505239881}. Best is trial 50 with value: 0.4545214172395559.\n"
     ]
    },
    {
     "name": "stderr",
     "output_type": "stream",
     "text": [
      "Best trial: 50. Best value: 0.454521:  64%|██████▍   | 128/200 [00:31<00:27,  2.64it/s]"
     ]
    },
    {
     "name": "stdout",
     "output_type": "stream",
     "text": [
      "[I 2025-09-04 13:06:12,851] Trial 127 finished with value: 0.36974887464369094 and parameters: {'learning_rate': 0.001729803808631613, 'num_leaves': 485, 'max_depth': 0, 'min_data_in_leaf': 26, 'feature_fraction': 0.9635044831994887, 'bagging_fraction': 0.7584925308468989, 'bagging_freq': 4, 'reg_alpha': 5.317777949718395, 'reg_lambda': 5.466836789234005}. Best is trial 50 with value: 0.4545214172395559.\n"
     ]
    },
    {
     "name": "stderr",
     "output_type": "stream",
     "text": [
      "Best trial: 50. Best value: 0.454521:  65%|██████▌   | 130/200 [00:32<00:23,  3.00it/s]"
     ]
    },
    {
     "name": "stdout",
     "output_type": "stream",
     "text": [
      "[I 2025-09-04 13:06:13,279] Trial 128 finished with value: 0.36229379216055513 and parameters: {'learning_rate': 0.0015280663410234968, 'num_leaves': 411, 'max_depth': 3, 'min_data_in_leaf': 29, 'feature_fraction': 0.9278509553017941, 'bagging_fraction': 0.7415287340100818, 'bagging_freq': 4, 'reg_alpha': 5.717643835732769, 'reg_lambda': 5.071168680740393}. Best is trial 50 with value: 0.4545214172395559.\n",
      "[I 2025-09-04 13:06:13,470] Trial 129 finished with value: 0.3324992583611717 and parameters: {'learning_rate': 0.15114681076845998, 'num_leaves': 282, 'max_depth': -1, 'min_data_in_leaf': 23, 'feature_fraction': 0.9330164021501086, 'bagging_fraction': 0.6281193919922188, 'bagging_freq': 6, 'reg_alpha': 4.747345300176065, 'reg_lambda': 6.463923688416965}. Best is trial 50 with value: 0.4545214172395559.\n"
     ]
    },
    {
     "name": "stderr",
     "output_type": "stream",
     "text": [
      "Best trial: 132. Best value: 0.467465:  66%|██████▌   | 132/200 [00:32<00:14,  4.72it/s]"
     ]
    },
    {
     "name": "stdout",
     "output_type": "stream",
     "text": [
      "[I 2025-09-04 13:06:13,537] Trial 130 finished with value: 0.4599664641148247 and parameters: {'learning_rate': 0.12888148850456194, 'num_leaves': 304, 'max_depth': 1, 'min_data_in_leaf': 27, 'feature_fraction': 0.9110701489921622, 'bagging_fraction': 0.6078493004463614, 'bagging_freq': 6, 'reg_alpha': 6.323598543761479, 'reg_lambda': 6.116219575389252}. Best is trial 130 with value: 0.4599664641148247.\n",
      "[I 2025-09-04 13:06:13,609] Trial 131 finished with value: 0.46122389347619625 and parameters: {'learning_rate': 0.12368079560430092, 'num_leaves': 357, 'max_depth': 1, 'min_data_in_leaf': 27, 'feature_fraction': 0.9112483313279149, 'bagging_fraction': 0.6073598450395047, 'bagging_freq': 6, 'reg_alpha': 6.618605585254695, 'reg_lambda': 6.043117144607513}. Best is trial 131 with value: 0.46122389347619625.\n",
      "[I 2025-09-04 13:06:13,677] Trial 132 finished with value: 0.4674652763968032 and parameters: {'learning_rate': 0.0943830837412537, 'num_leaves': 306, 'max_depth': 1, 'min_data_in_leaf': 27, 'feature_fraction': 0.9223435015766139, 'bagging_fraction': 0.6067218364553825, 'bagging_freq': 6, 'reg_alpha': 7.252250817860464, 'reg_lambda': 6.11962209583281}. Best is trial 132 with value: 0.4674652763968032.\n"
     ]
    },
    {
     "name": "stderr",
     "output_type": "stream",
     "text": [
      "Best trial: 135. Best value: 0.469028:  68%|██████▊   | 136/200 [00:32<00:08,  7.34it/s]"
     ]
    },
    {
     "name": "stdout",
     "output_type": "stream",
     "text": [
      "[I 2025-09-04 13:06:13,764] Trial 133 finished with value: 0.4418171587731004 and parameters: {'learning_rate': 0.12102507320623686, 'num_leaves': 366, 'max_depth': 2, 'min_data_in_leaf': 27, 'feature_fraction': 0.9170238039309614, 'bagging_fraction': 0.6046113329954912, 'bagging_freq': 7, 'reg_alpha': 7.218896268534033, 'reg_lambda': 5.705462723859081}. Best is trial 132 with value: 0.4674652763968032.\n",
      "[I 2025-09-04 13:06:13,856] Trial 134 finished with value: 0.4128512995517562 and parameters: {'learning_rate': 0.1327214817777876, 'num_leaves': 364, 'max_depth': 2, 'min_data_in_leaf': 27, 'feature_fraction': 0.911248524659152, 'bagging_fraction': 0.6063482692470064, 'bagging_freq': 7, 'reg_alpha': 6.469093309047146, 'reg_lambda': 5.865320177503554}. Best is trial 132 with value: 0.4674652763968032.\n",
      "[I 2025-09-04 13:06:13,958] Trial 135 finished with value: 0.46902756169481874 and parameters: {'learning_rate': 0.12307285801528922, 'num_leaves': 307, 'max_depth': 3, 'min_data_in_leaf': 28, 'feature_fraction': 0.902123951702916, 'bagging_fraction': 0.6008299206758239, 'bagging_freq': 7, 'reg_alpha': 7.316710492210017, 'reg_lambda': 6.081863436615516}. Best is trial 135 with value: 0.46902756169481874.\n"
     ]
    },
    {
     "name": "stderr",
     "output_type": "stream",
     "text": [
      "Best trial: 136. Best value: 0.520864:  69%|██████▉   | 138/200 [00:33<00:07,  8.18it/s]"
     ]
    },
    {
     "name": "stdout",
     "output_type": "stream",
     "text": [
      "[I 2025-09-04 13:06:14,052] Trial 136 finished with value: 0.5208644368087231 and parameters: {'learning_rate': 0.12488917954494236, 'num_leaves': 323, 'max_depth': 3, 'min_data_in_leaf': 47, 'feature_fraction': 0.9192087627018931, 'bagging_fraction': 0.6009394052865239, 'bagging_freq': 7, 'reg_alpha': 7.115076888785086, 'reg_lambda': 6.024301257544957}. Best is trial 136 with value: 0.5208644368087231.\n",
      "[I 2025-09-04 13:06:14,148] Trial 137 finished with value: 0.41886231505147314 and parameters: {'learning_rate': 0.12514948064509976, 'num_leaves': 310, 'max_depth': 3, 'min_data_in_leaf': 45, 'feature_fraction': 0.9188087301996386, 'bagging_fraction': 0.6165849839227969, 'bagging_freq': 7, 'reg_alpha': 7.070667421190464, 'reg_lambda': 5.920512804431829}. Best is trial 136 with value: 0.5208644368087231.\n",
      "[I 2025-09-04 13:06:14,238] Trial 138 finished with value: 0.49088898139032544 and parameters: {'learning_rate': 0.09810887931854302, 'num_leaves': 346, 'max_depth': 4, 'min_data_in_leaf': 48, 'feature_fraction': 0.8986337677570829, 'bagging_fraction': 0.6013508223543236, 'bagging_freq': 6, 'reg_alpha': 7.096817011172984, 'reg_lambda': 5.55913434950374}. Best is trial 136 with value: 0.5208644368087231.\n"
     ]
    },
    {
     "name": "stderr",
     "output_type": "stream",
     "text": [
      "Best trial: 141. Best value: 0.530983:  71%|███████   | 142/200 [00:33<00:06,  9.35it/s]"
     ]
    },
    {
     "name": "stdout",
     "output_type": "stream",
     "text": [
      "[I 2025-09-04 13:06:14,330] Trial 139 finished with value: 0.4847927873764153 and parameters: {'learning_rate': 0.0940654609227223, 'num_leaves': 437, 'max_depth': 4, 'min_data_in_leaf': 48, 'feature_fraction': 0.9041942511730238, 'bagging_fraction': 0.6043693176865919, 'bagging_freq': 7, 'reg_alpha': 7.176533011952363, 'reg_lambda': 5.2363206180153625}. Best is trial 136 with value: 0.5208644368087231.\n",
      "[I 2025-09-04 13:06:14,428] Trial 140 finished with value: 0.5247463779292518 and parameters: {'learning_rate': 0.08902941326622274, 'num_leaves': 445, 'max_depth': 4, 'min_data_in_leaf': 46, 'feature_fraction': 0.9502520467147922, 'bagging_fraction': 0.6004081633753117, 'bagging_freq': 7, 'reg_alpha': 7.4577633281858775, 'reg_lambda': 5.414309484557205}. Best is trial 140 with value: 0.5247463779292518.\n",
      "[I 2025-09-04 13:06:14,522] Trial 141 finished with value: 0.5309829551101449 and parameters: {'learning_rate': 0.08879494347863602, 'num_leaves': 446, 'max_depth': 4, 'min_data_in_leaf': 47, 'feature_fraction': 0.9536299685415122, 'bagging_fraction': 0.6008282070072615, 'bagging_freq': 7, 'reg_alpha': 7.509795808187852, 'reg_lambda': 5.058821041043235}. Best is trial 141 with value: 0.5309829551101449.\n"
     ]
    },
    {
     "name": "stderr",
     "output_type": "stream",
     "text": [
      "Best trial: 141. Best value: 0.530983:  72%|███████▏  | 144/200 [00:33<00:05,  9.61it/s]"
     ]
    },
    {
     "name": "stdout",
     "output_type": "stream",
     "text": [
      "[I 2025-09-04 13:06:14,620] Trial 142 finished with value: 0.49857149332305273 and parameters: {'learning_rate': 0.09681994799751954, 'num_leaves': 431, 'max_depth': 5, 'min_data_in_leaf': 48, 'feature_fraction': 0.9494436697858647, 'bagging_fraction': 0.6000751326080355, 'bagging_freq': 7, 'reg_alpha': 7.165600552544488, 'reg_lambda': 4.529727915317906}. Best is trial 141 with value: 0.5309829551101449.\n",
      "[I 2025-09-04 13:06:14,718] Trial 143 finished with value: 0.5087862143618372 and parameters: {'learning_rate': 0.09699354641748299, 'num_leaves': 529, 'max_depth': 5, 'min_data_in_leaf': 48, 'feature_fraction': 0.9476502535232314, 'bagging_fraction': 0.6006749738563424, 'bagging_freq': 7, 'reg_alpha': 7.308590042200537, 'reg_lambda': 4.615034317143582}. Best is trial 141 with value: 0.5309829551101449.\n",
      "[I 2025-09-04 13:06:14,816] Trial 144 finished with value: 0.49034330094798667 and parameters: {'learning_rate': 0.08219983492859817, 'num_leaves': 552, 'max_depth': 5, 'min_data_in_leaf': 47, 'feature_fraction': 0.958630762128025, 'bagging_fraction': 0.6009349376452547, 'bagging_freq': 7, 'reg_alpha': 7.4374803569332455, 'reg_lambda': 4.659278261284386}. Best is trial 141 with value: 0.5309829551101449.\n"
     ]
    },
    {
     "name": "stderr",
     "output_type": "stream",
     "text": [
      "Best trial: 141. Best value: 0.530983:  74%|███████▍  | 148/200 [00:33<00:05,  9.92it/s]"
     ]
    },
    {
     "name": "stdout",
     "output_type": "stream",
     "text": [
      "[I 2025-09-04 13:06:14,915] Trial 145 finished with value: 0.5112912647513453 and parameters: {'learning_rate': 0.08095702011229283, 'num_leaves': 527, 'max_depth': 5, 'min_data_in_leaf': 47, 'feature_fraction': 0.9689120251621826, 'bagging_fraction': 0.6009271581204148, 'bagging_freq': 7, 'reg_alpha': 7.619116199865168, 'reg_lambda': 4.430088326522599}. Best is trial 141 with value: 0.5309829551101449.\n",
      "[I 2025-09-04 13:06:15,011] Trial 146 finished with value: 0.5159601055110236 and parameters: {'learning_rate': 0.08414976626723152, 'num_leaves': 495, 'max_depth': 5, 'min_data_in_leaf': 48, 'feature_fraction': 0.9807975482109739, 'bagging_fraction': 0.6012940175725787, 'bagging_freq': 7, 'reg_alpha': 7.57245436807726, 'reg_lambda': 4.478876926695573}. Best is trial 141 with value: 0.5309829551101449.\n",
      "[I 2025-09-04 13:06:15,110] Trial 147 finished with value: 0.5068822915360041 and parameters: {'learning_rate': 0.07890089796820736, 'num_leaves': 641, 'max_depth': 5, 'min_data_in_leaf': 48, 'feature_fraction': 0.9885134339792006, 'bagging_fraction': 0.6008383946089657, 'bagging_freq': 7, 'reg_alpha': 7.55748563583004, 'reg_lambda': 4.578667146813377}. Best is trial 141 with value: 0.5309829551101449.\n"
     ]
    },
    {
     "name": "stderr",
     "output_type": "stream",
     "text": [
      "Best trial: 141. Best value: 0.530983:  75%|███████▌  | 150/200 [00:34<00:05,  9.75it/s]"
     ]
    },
    {
     "name": "stdout",
     "output_type": "stream",
     "text": [
      "[I 2025-09-04 13:06:15,217] Trial 148 finished with value: 0.4608412173369578 and parameters: {'learning_rate': 0.08064094447240519, 'num_leaves': 667, 'max_depth': 5, 'min_data_in_leaf': 48, 'feature_fraction': 0.9844085171300103, 'bagging_fraction': 0.6111295488793252, 'bagging_freq': 7, 'reg_alpha': 7.585332693877339, 'reg_lambda': 4.445665723225951}. Best is trial 141 with value: 0.5309829551101449.\n",
      "[I 2025-09-04 13:06:15,323] Trial 149 finished with value: 0.524533389066087 and parameters: {'learning_rate': 0.08035617854568271, 'num_leaves': 661, 'max_depth': 5, 'min_data_in_leaf': 48, 'feature_fraction': 0.9903591023705322, 'bagging_fraction': 0.6001123905261195, 'bagging_freq': 7, 'reg_alpha': 7.560971629656699, 'reg_lambda': 4.42675247327757}. Best is trial 141 with value: 0.5309829551101449.\n"
     ]
    },
    {
     "name": "stderr",
     "output_type": "stream",
     "text": [
      "Best trial: 141. Best value: 0.530983:  76%|███████▌  | 152/200 [00:34<00:05,  9.52it/s]"
     ]
    },
    {
     "name": "stdout",
     "output_type": "stream",
     "text": [
      "[I 2025-09-04 13:06:15,430] Trial 150 finished with value: 0.5032245374505689 and parameters: {'learning_rate': 0.06378547440110492, 'num_leaves': 759, 'max_depth': 5, 'min_data_in_leaf': 47, 'feature_fraction': 0.997691677507543, 'bagging_fraction': 0.6010332554498111, 'bagging_freq': 7, 'reg_alpha': 6.891512568270546, 'reg_lambda': 4.815928493858008}. Best is trial 141 with value: 0.5309829551101449.\n",
      "[I 2025-09-04 13:06:15,542] Trial 151 finished with value: 0.5257560428836123 and parameters: {'learning_rate': 0.09398517903873475, 'num_leaves': 800, 'max_depth': 5, 'min_data_in_leaf': 47, 'feature_fraction': 0.9919242575013992, 'bagging_fraction': 0.6022132615373357, 'bagging_freq': 7, 'reg_alpha': 6.886604160628058, 'reg_lambda': 4.753320774160455}. Best is trial 141 with value: 0.5309829551101449.\n"
     ]
    },
    {
     "name": "stderr",
     "output_type": "stream",
     "text": [
      "Best trial: 141. Best value: 0.530983:  77%|███████▋  | 154/200 [00:34<00:05,  9.06it/s]"
     ]
    },
    {
     "name": "stdout",
     "output_type": "stream",
     "text": [
      "[I 2025-09-04 13:06:15,659] Trial 152 finished with value: 0.5055284872915263 and parameters: {'learning_rate': 0.06645807079255084, 'num_leaves': 894, 'max_depth': 5, 'min_data_in_leaf': 47, 'feature_fraction': 0.9992275004558357, 'bagging_fraction': 0.6022790626005338, 'bagging_freq': 7, 'reg_alpha': 7.545378338876139, 'reg_lambda': 4.868343710414425}. Best is trial 141 with value: 0.5309829551101449.\n",
      "[I 2025-09-04 13:06:15,778] Trial 153 finished with value: 0.48396359503665687 and parameters: {'learning_rate': 0.0614860373909402, 'num_leaves': 909, 'max_depth': 5, 'min_data_in_leaf': 47, 'feature_fraction': 0.9985720875888047, 'bagging_fraction': 0.600615537879275, 'bagging_freq': 7, 'reg_alpha': 6.918543226718933, 'reg_lambda': 4.676566320389726}. Best is trial 141 with value: 0.5309829551101449.\n"
     ]
    },
    {
     "name": "stderr",
     "output_type": "stream",
     "text": [
      "Best trial: 141. Best value: 0.530983:  78%|███████▊  | 156/200 [00:34<00:04,  8.96it/s]"
     ]
    },
    {
     "name": "stdout",
     "output_type": "stream",
     "text": [
      "[I 2025-09-04 13:06:15,895] Trial 154 finished with value: 0.4752564321890365 and parameters: {'learning_rate': 0.06607980001996336, 'num_leaves': 918, 'max_depth': 5, 'min_data_in_leaf': 47, 'feature_fraction': 0.9994780232053634, 'bagging_fraction': 0.6002858507778324, 'bagging_freq': 7, 'reg_alpha': 6.9140164517876945, 'reg_lambda': 4.741917694587549}. Best is trial 141 with value: 0.5309829551101449.\n",
      "[I 2025-09-04 13:06:16,005] Trial 155 finished with value: 0.4521881294320352 and parameters: {'learning_rate': 0.06483387175199054, 'num_leaves': 750, 'max_depth': 5, 'min_data_in_leaf': 49, 'feature_fraction': 0.9879053116692263, 'bagging_fraction': 0.617198817119112, 'bagging_freq': 7, 'reg_alpha': 7.867750013371118, 'reg_lambda': 4.159508096718356}. Best is trial 141 with value: 0.5309829551101449.\n"
     ]
    },
    {
     "name": "stderr",
     "output_type": "stream",
     "text": [
      "Best trial: 141. Best value: 0.530983:  79%|███████▉  | 158/200 [00:35<00:04,  8.78it/s]"
     ]
    },
    {
     "name": "stdout",
     "output_type": "stream",
     "text": [
      "[I 2025-09-04 13:06:16,120] Trial 156 finished with value: 0.5145938433310375 and parameters: {'learning_rate': 0.08447307393536434, 'num_leaves': 908, 'max_depth': 6, 'min_data_in_leaf': 47, 'feature_fraction': 0.9742684750480833, 'bagging_fraction': 0.6227781444128586, 'bagging_freq': 7, 'reg_alpha': 7.611750593499024, 'reg_lambda': 4.927176983224701}. Best is trial 141 with value: 0.5309829551101449.\n",
      "[I 2025-09-04 13:06:16,237] Trial 157 finished with value: 0.46280274875792865 and parameters: {'learning_rate': 0.08381590381073756, 'num_leaves': 820, 'max_depth': 6, 'min_data_in_leaf': 46, 'feature_fraction': 0.9706188899151085, 'bagging_fraction': 0.6260604903897691, 'bagging_freq': 7, 'reg_alpha': 7.579830660714554, 'reg_lambda': 4.9565156166435145}. Best is trial 141 with value: 0.5309829551101449.\n"
     ]
    },
    {
     "name": "stderr",
     "output_type": "stream",
     "text": [
      "Best trial: 141. Best value: 0.530983:  80%|████████  | 160/200 [00:35<00:04,  8.65it/s]"
     ]
    },
    {
     "name": "stdout",
     "output_type": "stream",
     "text": [
      "[I 2025-09-04 13:06:16,355] Trial 158 finished with value: 0.4478957576584185 and parameters: {'learning_rate': 0.05130467175469727, 'num_leaves': 996, 'max_depth': 4, 'min_data_in_leaf': 50, 'feature_fraction': 0.9739045430088011, 'bagging_fraction': 0.6156697616694111, 'bagging_freq': 7, 'reg_alpha': 8.118149563777644, 'reg_lambda': 3.7921310305101565}. Best is trial 141 with value: 0.5309829551101449.\n",
      "[I 2025-09-04 13:06:16,472] Trial 159 finished with value: 0.46666494692445604 and parameters: {'learning_rate': 0.07286648473768281, 'num_leaves': 634, 'max_depth': 6, 'min_data_in_leaf': 44, 'feature_fraction': 0.9786861632609187, 'bagging_fraction': 0.6295637690562308, 'bagging_freq': 7, 'reg_alpha': 7.551894469228794, 'reg_lambda': 4.373889946108186}. Best is trial 141 with value: 0.5309829551101449.\n"
     ]
    },
    {
     "name": "stderr",
     "output_type": "stream",
     "text": [
      "Best trial: 141. Best value: 0.530983:  81%|████████  | 162/200 [00:35<00:04,  8.13it/s]"
     ]
    },
    {
     "name": "stdout",
     "output_type": "stream",
     "text": [
      "[I 2025-09-04 13:06:16,596] Trial 160 finished with value: 0.45175176969510433 and parameters: {'learning_rate': 0.1000303899321548, 'num_leaves': 850, 'max_depth': 5, 'min_data_in_leaf': 48, 'feature_fraction': 0.9904307562910325, 'bagging_fraction': 0.6197456960841097, 'bagging_freq': 7, 'reg_alpha': 7.728097316780411, 'reg_lambda': 5.212751701743126}. Best is trial 141 with value: 0.5309829551101449.\n",
      "[I 2025-09-04 13:06:16,731] Trial 161 finished with value: 0.5251131836286582 and parameters: {'learning_rate': 0.0886863679187145, 'num_leaves': 895, 'max_depth': 5, 'min_data_in_leaf': 47, 'feature_fraction': 0.963444862829622, 'bagging_fraction': 0.6005088476799321, 'bagging_freq': 7, 'reg_alpha': 6.817467147722182, 'reg_lambda': 4.654317241594118}. Best is trial 141 with value: 0.5309829551101449.\n"
     ]
    },
    {
     "name": "stderr",
     "output_type": "stream",
     "text": [
      "Best trial: 141. Best value: 0.530983:  82%|████████▏ | 164/200 [00:35<00:04,  8.38it/s]"
     ]
    },
    {
     "name": "stdout",
     "output_type": "stream",
     "text": [
      "[I 2025-09-04 13:06:16,855] Trial 162 finished with value: 0.48380616419582634 and parameters: {'learning_rate': 0.08929625548036847, 'num_leaves': 729, 'max_depth': 5, 'min_data_in_leaf': 47, 'feature_fraction': 0.9585139558601176, 'bagging_fraction': 0.6122655866983321, 'bagging_freq': 7, 'reg_alpha': 6.72527756769314, 'reg_lambda': 4.548585843392765}. Best is trial 141 with value: 0.5309829551101449.\n",
      "[I 2025-09-04 13:06:16,965] Trial 163 finished with value: 0.49978394331550785 and parameters: {'learning_rate': 0.10543416139454925, 'num_leaves': 538, 'max_depth': 6, 'min_data_in_leaf': 46, 'feature_fraction': 0.965589740079297, 'bagging_fraction': 0.6008328613384941, 'bagging_freq': 7, 'reg_alpha': 7.057283049999081, 'reg_lambda': 4.8317429050728515}. Best is trial 141 with value: 0.5309829551101449.\n"
     ]
    },
    {
     "name": "stderr",
     "output_type": "stream",
     "text": [
      "Best trial: 165. Best value: 0.541458:  83%|████████▎ | 166/200 [00:36<00:03,  8.73it/s]"
     ]
    },
    {
     "name": "stdout",
     "output_type": "stream",
     "text": [
      "[I 2025-09-04 13:06:17,081] Trial 164 finished with value: 0.4109814315914971 and parameters: {'learning_rate': 0.10751134188542201, 'num_leaves': 548, 'max_depth': 6, 'min_data_in_leaf': 46, 'feature_fraction': 0.9652902134204309, 'bagging_fraction': 0.6131006476240562, 'bagging_freq': 7, 'reg_alpha': 7.438561979657622, 'reg_lambda': 4.896451356507418}. Best is trial 141 with value: 0.5309829551101449.\n",
      "[I 2025-09-04 13:06:17,186] Trial 165 finished with value: 0.5414576661774515 and parameters: {'learning_rate': 0.08306320613415273, 'num_leaves': 674, 'max_depth': 7, 'min_data_in_leaf': 49, 'feature_fraction': 0.9495022433234174, 'bagging_fraction': 0.6007416126537491, 'bagging_freq': 7, 'reg_alpha': 7.89963591204457, 'reg_lambda': 4.203535328336757}. Best is trial 165 with value: 0.5414576661774515.\n"
     ]
    },
    {
     "name": "stderr",
     "output_type": "stream",
     "text": [
      "Best trial: 165. Best value: 0.541458:  84%|████████▍ | 168/200 [00:36<00:04,  7.71it/s]"
     ]
    },
    {
     "name": "stdout",
     "output_type": "stream",
     "text": [
      "[I 2025-09-04 13:06:17,350] Trial 166 finished with value: 0.43334977868968716 and parameters: {'learning_rate': 0.07735594270692683, 'num_leaves': 789, 'max_depth': 6, 'min_data_in_leaf': 49, 'feature_fraction': 0.9478747982432448, 'bagging_fraction': 0.6226587156719543, 'bagging_freq': 7, 'reg_alpha': 7.869495069086387, 'reg_lambda': 4.054808729114418}. Best is trial 165 with value: 0.5414576661774515.\n",
      "[I 2025-09-04 13:06:17,482] Trial 167 finished with value: 0.45443933544847936 and parameters: {'learning_rate': 0.06925053931350043, 'num_leaves': 873, 'max_depth': 7, 'min_data_in_leaf': 45, 'feature_fraction': 0.9803790257482435, 'bagging_fraction': 0.6335187447740882, 'bagging_freq': 7, 'reg_alpha': 7.051505987364723, 'reg_lambda': 4.810924900807851}. Best is trial 165 with value: 0.5414576661774515.\n"
     ]
    },
    {
     "name": "stderr",
     "output_type": "stream",
     "text": [
      "Best trial: 165. Best value: 0.541458:  85%|████████▌ | 170/200 [00:36<00:03,  8.60it/s]"
     ]
    },
    {
     "name": "stdout",
     "output_type": "stream",
     "text": [
      "[I 2025-09-04 13:06:17,584] Trial 168 finished with value: 0.4833687224611964 and parameters: {'learning_rate': 0.04379086350530126, 'num_leaves': 692, 'max_depth': 7, 'min_data_in_leaf': 49, 'feature_fraction': 0.9528742065008301, 'bagging_fraction': 0.6119744090189034, 'bagging_freq': 7, 'reg_alpha': 7.96769655272387, 'reg_lambda': 5.076752473444822}. Best is trial 165 with value: 0.5414576661774515.\n",
      "[I 2025-09-04 13:06:17,688] Trial 169 finished with value: 0.4766030722602351 and parameters: {'learning_rate': 0.10463097049324306, 'num_leaves': 626, 'max_depth': 5, 'min_data_in_leaf': 44, 'feature_fraction': 0.9670321477944794, 'bagging_fraction': 0.6005941883947252, 'bagging_freq': 7, 'reg_alpha': 7.645796692666573, 'reg_lambda': 4.344254260015359}. Best is trial 165 with value: 0.5414576661774515.\n"
     ]
    },
    {
     "name": "stderr",
     "output_type": "stream",
     "text": [
      "Best trial: 165. Best value: 0.541458:  86%|████████▌ | 172/200 [00:36<00:03,  8.97it/s]"
     ]
    },
    {
     "name": "stdout",
     "output_type": "stream",
     "text": [
      "[I 2025-09-04 13:06:17,799] Trial 170 finished with value: 0.4166955535394469 and parameters: {'learning_rate': 0.08887305321274501, 'num_leaves': 588, 'max_depth': 5, 'min_data_in_leaf': 50, 'feature_fraction': 0.9917435417130614, 'bagging_fraction': 0.61995597335463, 'bagging_freq': 7, 'reg_alpha': 6.8201184732984546, 'reg_lambda': 4.147235374746626}. Best is trial 165 with value: 0.5414576661774515.\n",
      "[I 2025-09-04 13:06:17,903] Trial 171 finished with value: 0.5257458698808369 and parameters: {'learning_rate': 0.08416561541570296, 'num_leaves': 519, 'max_depth': 5, 'min_data_in_leaf': 47, 'feature_fraction': 0.9758836569118492, 'bagging_fraction': 0.6003353338239873, 'bagging_freq': 7, 'reg_alpha': 7.38938933923623, 'reg_lambda': 4.570510420171817}. Best is trial 165 with value: 0.5414576661774515.\n"
     ]
    },
    {
     "name": "stderr",
     "output_type": "stream",
     "text": [
      "Best trial: 165. Best value: 0.541458:  87%|████████▋ | 174/200 [00:36<00:02,  8.83it/s]"
     ]
    },
    {
     "name": "stdout",
     "output_type": "stream",
     "text": [
      "[I 2025-09-04 13:06:18,026] Trial 172 finished with value: 0.48260350835950433 and parameters: {'learning_rate': 0.07707093763116357, 'num_leaves': 1011, 'max_depth': 4, 'min_data_in_leaf': 46, 'feature_fraction': 0.9757814313252191, 'bagging_fraction': 0.6089228094838292, 'bagging_freq': 7, 'reg_alpha': 7.068608875476251, 'reg_lambda': 3.870212657722324}. Best is trial 165 with value: 0.5414576661774515.\n",
      "[I 2025-09-04 13:06:18,135] Trial 173 finished with value: 0.494025690148892 and parameters: {'learning_rate': 0.09235283486737911, 'num_leaves': 515, 'max_depth': 5, 'min_data_in_leaf': 48, 'feature_fraction': 0.9854515964053943, 'bagging_fraction': 0.6116964991029789, 'bagging_freq': 7, 'reg_alpha': 7.395526438154008, 'reg_lambda': 5.433670663016244}. Best is trial 165 with value: 0.5414576661774515.\n"
     ]
    },
    {
     "name": "stderr",
     "output_type": "stream",
     "text": [
      "Best trial: 165. Best value: 0.541458:  88%|████████▊ | 176/200 [00:37<00:02,  8.98it/s]"
     ]
    },
    {
     "name": "stdout",
     "output_type": "stream",
     "text": [
      "[I 2025-09-04 13:06:18,243] Trial 174 finished with value: 0.4702429921077943 and parameters: {'learning_rate': 0.0589431625186965, 'num_leaves': 513, 'max_depth': 6, 'min_data_in_leaf': 45, 'feature_fraction': 0.9843147064575498, 'bagging_fraction': 0.6154694646162501, 'bagging_freq': 7, 'reg_alpha': 7.391893409333297, 'reg_lambda': 4.509308663741402}. Best is trial 165 with value: 0.5414576661774515.\n",
      "[I 2025-09-04 13:06:18,354] Trial 175 finished with value: 0.4094744123261156 and parameters: {'learning_rate': 0.0872943660660591, 'num_leaves': 692, 'max_depth': 6, 'min_data_in_leaf': 49, 'feature_fraction': 0.9721238597218406, 'bagging_fraction': 0.6253476456780447, 'bagging_freq': 7, 'reg_alpha': 7.772710390378821, 'reg_lambda': 4.873708846837406}. Best is trial 165 with value: 0.5414576661774515.\n"
     ]
    },
    {
     "name": "stderr",
     "output_type": "stream",
     "text": [
      "Best trial: 165. Best value: 0.541458:  89%|████████▉ | 178/200 [00:37<00:02,  8.84it/s]"
     ]
    },
    {
     "name": "stdout",
     "output_type": "stream",
     "text": [
      "[I 2025-09-04 13:06:18,465] Trial 176 finished with value: 0.5211605072854292 and parameters: {'learning_rate': 0.07143255832326866, 'num_leaves': 781, 'max_depth': 5, 'min_data_in_leaf': 47, 'feature_fraction': 0.9925960835925393, 'bagging_fraction': 0.6095356070624929, 'bagging_freq': 7, 'reg_alpha': 8.129160989382576, 'reg_lambda': 4.267866226868053}. Best is trial 165 with value: 0.5414576661774515.\n",
      "[I 2025-09-04 13:06:18,583] Trial 177 finished with value: 0.46704845190928745 and parameters: {'learning_rate': 0.07157589083988812, 'num_leaves': 784, 'max_depth': 5, 'min_data_in_leaf': 43, 'feature_fraction': 0.9922264529664186, 'bagging_fraction': 0.6003269994840776, 'bagging_freq': 7, 'reg_alpha': 8.221754917371937, 'reg_lambda': 4.254590956583348}. Best is trial 165 with value: 0.5414576661774515.\n"
     ]
    },
    {
     "name": "stderr",
     "output_type": "stream",
     "text": [
      "Best trial: 165. Best value: 0.541458:  90%|█████████ | 180/200 [00:37<00:02,  8.95it/s]"
     ]
    },
    {
     "name": "stdout",
     "output_type": "stream",
     "text": [
      "[I 2025-09-04 13:06:18,696] Trial 178 finished with value: 0.3551287653504071 and parameters: {'learning_rate': 0.11095764739102837, 'num_leaves': 929, 'max_depth': 8, 'min_data_in_leaf': 47, 'feature_fraction': 0.9448841970185076, 'bagging_fraction': 0.6191479377471371, 'bagging_freq': 7, 'reg_alpha': 8.511412813779634, 'reg_lambda': 4.54463367009374}. Best is trial 165 with value: 0.5414576661774515.\n",
      "[I 2025-09-04 13:06:18,804] Trial 179 finished with value: 0.4383565177666435 and parameters: {'learning_rate': 0.052798428870362915, 'num_leaves': 652, 'max_depth': 5, 'min_data_in_leaf': 46, 'feature_fraction': 0.9577260448497249, 'bagging_fraction': 0.6077334734310009, 'bagging_freq': 7, 'reg_alpha': 6.5582111948794655, 'reg_lambda': 4.969219124490871}. Best is trial 165 with value: 0.5414576661774515.\n"
     ]
    },
    {
     "name": "stderr",
     "output_type": "stream",
     "text": [
      "Best trial: 165. Best value: 0.541458:  91%|█████████ | 182/200 [00:37<00:02,  8.79it/s]"
     ]
    },
    {
     "name": "stdout",
     "output_type": "stream",
     "text": [
      "[I 2025-09-04 13:06:18,928] Trial 180 finished with value: 0.4553404444673744 and parameters: {'learning_rate': 0.0652316938393141, 'num_leaves': 848, 'max_depth': 6, 'min_data_in_leaf': 45, 'feature_fraction': 0.9997213777919016, 'bagging_fraction': 0.6328541369986663, 'bagging_freq': 7, 'reg_alpha': 8.065057107757804, 'reg_lambda': 3.565353118547895}. Best is trial 165 with value: 0.5414576661774515.\n",
      "[I 2025-09-04 13:06:19,038] Trial 181 finished with value: 0.47401703354286384 and parameters: {'learning_rate': 0.08013565325267959, 'num_leaves': 742, 'max_depth': 5, 'min_data_in_leaf': 48, 'feature_fraction': 0.9823344672322905, 'bagging_fraction': 0.6114747320033912, 'bagging_freq': 7, 'reg_alpha': 7.319057342840693, 'reg_lambda': 5.100801312036829}. Best is trial 165 with value: 0.5414576661774515.\n"
     ]
    },
    {
     "name": "stderr",
     "output_type": "stream",
     "text": [
      "Best trial: 165. Best value: 0.541458:  92%|█████████▏| 184/200 [00:38<00:01,  9.17it/s]"
     ]
    },
    {
     "name": "stdout",
     "output_type": "stream",
     "text": [
      "[I 2025-09-04 13:06:19,141] Trial 182 finished with value: 0.4839489294152749 and parameters: {'learning_rate': 0.09297684140984822, 'num_leaves': 584, 'max_depth': 5, 'min_data_in_leaf': 49, 'feature_fraction': 0.968509009005625, 'bagging_fraction': 0.6103851848477237, 'bagging_freq': 7, 'reg_alpha': 7.6567932494834015, 'reg_lambda': 5.432969545686587}. Best is trial 165 with value: 0.5414576661774515.\n",
      "[I 2025-09-04 13:06:19,247] Trial 183 finished with value: 0.5234479923317361 and parameters: {'learning_rate': 0.10904385729302833, 'num_leaves': 530, 'max_depth': 5, 'min_data_in_leaf': 47, 'feature_fraction': 0.9917830608514264, 'bagging_fraction': 0.6004192396255256, 'bagging_freq': 7, 'reg_alpha': 7.4711490118956725, 'reg_lambda': 4.03288149670399}. Best is trial 165 with value: 0.5414576661774515.\n"
     ]
    },
    {
     "name": "stderr",
     "output_type": "stream",
     "text": [
      "Best trial: 165. Best value: 0.541458:  93%|█████████▎| 186/200 [00:38<00:01,  9.39it/s]"
     ]
    },
    {
     "name": "stdout",
     "output_type": "stream",
     "text": [
      "[I 2025-09-04 13:06:19,349] Trial 184 finished with value: 0.47898215370032426 and parameters: {'learning_rate': 0.0727632061394904, 'num_leaves': 481, 'max_depth': 5, 'min_data_in_leaf': 47, 'feature_fraction': 0.992123268794905, 'bagging_fraction': 0.6215920380323886, 'bagging_freq': 7, 'reg_alpha': 7.848029460795625, 'reg_lambda': 3.914958977234631}. Best is trial 165 with value: 0.5414576661774515.\n",
      "[I 2025-09-04 13:06:19,454] Trial 185 finished with value: 0.5066193295499519 and parameters: {'learning_rate': 0.10436541421097313, 'num_leaves': 538, 'max_depth': 4, 'min_data_in_leaf': 46, 'feature_fraction': 0.9750267112366805, 'bagging_fraction': 0.60105577429621, 'bagging_freq': 7, 'reg_alpha': 6.871278070102849, 'reg_lambda': 4.3517259638378825}. Best is trial 165 with value: 0.5414576661774515.\n"
     ]
    },
    {
     "name": "stderr",
     "output_type": "stream",
     "text": [
      "Best trial: 165. Best value: 0.541458:  94%|█████████▍| 188/200 [00:38<00:01,  9.04it/s]"
     ]
    },
    {
     "name": "stdout",
     "output_type": "stream",
     "text": [
      "[I 2025-09-04 13:06:19,565] Trial 186 finished with value: 0.4776338382469272 and parameters: {'learning_rate': 0.11155024892826601, 'num_leaves': 639, 'max_depth': 4, 'min_data_in_leaf': 46, 'feature_fraction': 0.9777326741933543, 'bagging_fraction': 0.6079809556936934, 'bagging_freq': 7, 'reg_alpha': 6.389844571651188, 'reg_lambda': 4.357758513107235}. Best is trial 165 with value: 0.5414576661774515.\n",
      "[I 2025-09-04 13:06:19,682] Trial 187 finished with value: 0.478430512898927 and parameters: {'learning_rate': 0.08186307663386211, 'num_leaves': 735, 'max_depth': 7, 'min_data_in_leaf': 44, 'feature_fraction': 0.9640812667115187, 'bagging_fraction': 0.6162096745670004, 'bagging_freq': 7, 'reg_alpha': 6.871053458054327, 'reg_lambda': 4.736295409780304}. Best is trial 165 with value: 0.5414576661774515.\n"
     ]
    },
    {
     "name": "stderr",
     "output_type": "stream",
     "text": [
      "Best trial: 165. Best value: 0.541458:  95%|█████████▌| 190/200 [00:38<00:01,  9.10it/s]"
     ]
    },
    {
     "name": "stdout",
     "output_type": "stream",
     "text": [
      "[I 2025-09-04 13:06:19,789] Trial 188 finished with value: 0.35471789373968926 and parameters: {'learning_rate': 0.10885507349671696, 'num_leaves': 785, 'max_depth': 4, 'min_data_in_leaf': 47, 'feature_fraction': 0.9749409195021356, 'bagging_fraction': 0.6263905661371205, 'bagging_freq': 7, 'reg_alpha': 7.586075912651375, 'reg_lambda': 4.074991080345188}. Best is trial 165 with value: 0.5414576661774515.\n",
      "[I 2025-09-04 13:06:19,900] Trial 189 finished with value: 0.45548877223304235 and parameters: {'learning_rate': 0.04781180073682944, 'num_leaves': 554, 'max_depth': 6, 'min_data_in_leaf': 50, 'feature_fraction': 0.9881859810549946, 'bagging_fraction': 0.6004849462668848, 'bagging_freq': 7, 'reg_alpha': 7.978353137559772, 'reg_lambda': 4.290541174059695}. Best is trial 165 with value: 0.5414576661774515.\n"
     ]
    },
    {
     "name": "stderr",
     "output_type": "stream",
     "text": [
      "Best trial: 165. Best value: 0.541458:  96%|█████████▌| 192/200 [00:38<00:00,  8.83it/s]"
     ]
    },
    {
     "name": "stdout",
     "output_type": "stream",
     "text": [
      "[I 2025-09-04 13:06:20,015] Trial 190 finished with value: 0.5344676773930803 and parameters: {'learning_rate': 0.06274380299026078, 'num_leaves': 596, 'max_depth': 5, 'min_data_in_leaf': 43, 'feature_fraction': 0.9927235431129703, 'bagging_fraction': 0.6080952754838944, 'bagging_freq': 7, 'reg_alpha': 6.234572230819483, 'reg_lambda': 3.6640822256957777}. Best is trial 165 with value: 0.5414576661774515.\n",
      "[I 2025-09-04 13:06:20,132] Trial 191 finished with value: 0.4758148780308702 and parameters: {'learning_rate': 0.06123812384777586, 'num_leaves': 593, 'max_depth': 5, 'min_data_in_leaf': 46, 'feature_fraction': 0.993752101114533, 'bagging_fraction': 0.6072927770707925, 'bagging_freq': 7, 'reg_alpha': 6.250218908296555, 'reg_lambda': 3.9504753410906037}. Best is trial 165 with value: 0.5414576661774515.\n"
     ]
    },
    {
     "name": "stderr",
     "output_type": "stream",
     "text": [
      "Best trial: 165. Best value: 0.541458:  97%|█████████▋| 194/200 [00:39<00:00,  8.72it/s]"
     ]
    },
    {
     "name": "stdout",
     "output_type": "stream",
     "text": [
      "[I 2025-09-04 13:06:20,250] Trial 192 finished with value: 0.504069392535158 and parameters: {'learning_rate': 0.0733190143114911, 'num_leaves': 691, 'max_depth': 4, 'min_data_in_leaf': 47, 'feature_fraction': 0.9795461813699827, 'bagging_fraction': 0.6086184918065167, 'bagging_freq': 7, 'reg_alpha': 6.649608394516275, 'reg_lambda': 3.434539937775609}. Best is trial 165 with value: 0.5414576661774515.\n",
      "[I 2025-09-04 13:06:20,365] Trial 193 finished with value: 0.4997444479231248 and parameters: {'learning_rate': 0.07145720363156387, 'num_leaves': 704, 'max_depth': 4, 'min_data_in_leaf': 49, 'feature_fraction': 0.9998449511623319, 'bagging_fraction': 0.6141490400857056, 'bagging_freq': 7, 'reg_alpha': 6.658805508471659, 'reg_lambda': 3.426383391943692}. Best is trial 165 with value: 0.5414576661774515.\n"
     ]
    },
    {
     "name": "stderr",
     "output_type": "stream",
     "text": [
      "Best trial: 165. Best value: 0.541458:  98%|█████████▊| 196/200 [00:39<00:00,  8.31it/s]"
     ]
    },
    {
     "name": "stdout",
     "output_type": "stream",
     "text": [
      "[I 2025-09-04 13:06:20,475] Trial 194 finished with value: 0.501517149781141 and parameters: {'learning_rate': 0.08437540341492669, 'num_leaves': 664, 'max_depth': 4, 'min_data_in_leaf': 47, 'feature_fraction': 0.9807771859258853, 'bagging_fraction': 0.6081565338846312, 'bagging_freq': 7, 'reg_alpha': 7.519407103046665, 'reg_lambda': 3.6109773833838514}. Best is trial 165 with value: 0.5414576661774515.\n",
      "[I 2025-09-04 13:06:20,612] Trial 195 finished with value: 0.4607792082214981 and parameters: {'learning_rate': 0.06551058330164805, 'num_leaves': 900, 'max_depth': 5, 'min_data_in_leaf': 48, 'feature_fraction': 0.9871086400906901, 'bagging_fraction': 0.6196003009202368, 'bagging_freq': 7, 'reg_alpha': 7.299369135630842, 'reg_lambda': 4.6342000143859385}. Best is trial 165 with value: 0.5414576661774515.\n"
     ]
    },
    {
     "name": "stderr",
     "output_type": "stream",
     "text": [
      "Best trial: 165. Best value: 0.541458:  99%|█████████▉| 198/200 [00:39<00:00,  8.26it/s]"
     ]
    },
    {
     "name": "stdout",
     "output_type": "stream",
     "text": [
      "[I 2025-09-04 13:06:20,728] Trial 196 finished with value: 0.4145447627929905 and parameters: {'learning_rate': 0.07723800822583328, 'num_leaves': 617, 'max_depth': 4, 'min_data_in_leaf': 45, 'feature_fraction': 0.9746861499158237, 'bagging_fraction': 0.6416660581354928, 'bagging_freq': 7, 'reg_alpha': 6.775349210259471, 'reg_lambda': 3.675003883803679}. Best is trial 165 with value: 0.5414576661774515.\n",
      "[I 2025-09-04 13:06:20,854] Trial 197 finished with value: 0.48572418964042274 and parameters: {'learning_rate': 0.05620384162663051, 'num_leaves': 838, 'max_depth': 5, 'min_data_in_leaf': 47, 'feature_fraction': 0.992169927512241, 'bagging_fraction': 0.6080823145080265, 'bagging_freq': 7, 'reg_alpha': 6.019118868011102, 'reg_lambda': 4.281838934559016}. Best is trial 165 with value: 0.5414576661774515.\n"
     ]
    },
    {
     "name": "stderr",
     "output_type": "stream",
     "text": [
      "Best trial: 165. Best value: 0.541458: 100%|██████████| 200/200 [00:39<00:00,  5.01it/s]"
     ]
    },
    {
     "name": "stdout",
     "output_type": "stream",
     "text": [
      "[I 2025-09-04 13:06:20,976] Trial 198 finished with value: 0.43519464985059014 and parameters: {'learning_rate': 0.08674981876875779, 'num_leaves': 950, 'max_depth': 4, 'min_data_in_leaf': 43, 'feature_fraction': 0.9597254649784553, 'bagging_fraction': 0.6272657659745876, 'bagging_freq': 7, 'reg_alpha': 7.704729351926708, 'reg_lambda': 4.480875348140123}. Best is trial 165 with value: 0.5414576661774515.\n",
      "[I 2025-09-04 13:06:21,069] Trial 199 finished with value: 0.4246577110153173 and parameters: {'learning_rate': 0.14486883685496157, 'num_leaves': 489, 'max_depth': 5, 'min_data_in_leaf': 49, 'feature_fraction': 0.6020784024444253, 'bagging_fraction': 0.616658918907517, 'bagging_freq': 7, 'reg_alpha': 8.30391287082717, 'reg_lambda': 3.3280678690151704}. Best is trial 165 with value: 0.5414576661774515.\n",
      "Best params: {'learning_rate': 0.08306320613415273, 'num_leaves': 674, 'max_depth': 7, 'min_data_in_leaf': 49, 'feature_fraction': 0.9495022433234174, 'bagging_fraction': 0.6007416126537491, 'bagging_freq': 7, 'reg_alpha': 7.89963591204457, 'reg_lambda': 4.203535328336757}\n",
      "Best Spearman: 0.5414576661774515\n"
     ]
    },
    {
     "name": "stderr",
     "output_type": "stream",
     "text": [
      "\n"
     ]
    }
   ],
   "source": [
    "def objective(trial):\n",
    "    # Core tree shape / regularization (still searched independently)\n",
    "    params = {\n",
    "            \"objective\": \"regression\",\n",
    "            \"n_estimators\": 6000,\n",
    "            \"learning_rate\": trial.suggest_float(\"learning_rate\", 0.001, 0.25, log=True),\n",
    "            \"num_leaves\": trial.suggest_int(\"num_leaves\", 31, 1023, log=True),\n",
    "            \"max_depth\": trial.suggest_int(\"max_depth\", -1, 12),\n",
    "            \"min_data_in_leaf\": trial.suggest_int(\"min_data_in_leaf\", 5, 50),\n",
    "            \"feature_fraction\": trial.suggest_float(\"feature_fraction\", 0.6, 1.0),\n",
    "            \"bagging_fraction\": trial.suggest_float(\"bagging_fraction\", 0.6, 1.0),\n",
    "            \"bagging_freq\": trial.suggest_int(\"bagging_freq\", 1, 7),\n",
    "            \"reg_alpha\": trial.suggest_float(\"reg_alpha\", 0.0, 10.0),\n",
    "            \"reg_lambda\": trial.suggest_float(\"reg_lambda\", 0.0, 10.0),\n",
    "            \"n_jobs\": 1,\n",
    "            \"verbose\": -1,\n",
    "        }\n",
    "\n",
    "    # Preprocess (median impute numerics only)\n",
    "    num_cols = [c for c in Xtr_DE.columns if c not in [\"ID\",\"DAY_ID\",\"COUNTRY\"]]\n",
    "    prep = ColumnTransformer([(\"num\", SimpleImputer(strategy=\"median\"), num_cols)],\n",
    "                             remainder=\"drop\").fit(Xtr_DE, ytr_DE)\n",
    "    Xt = prep.transform(Xtr_DE)\n",
    "    Xv = prep.transform(Xva_DE)\n",
    "\n",
    "    model = LGBMRegressor(**params)\n",
    "    model.fit(\n",
    "        Xt, ytr_DE,\n",
    "        eval_set=[(Xv, yva_DE)],\n",
    "        eval_metric=\"rmse\",\n",
    "        callbacks=[lgb.early_stopping(stopping_rounds=300, verbose=False),\n",
    "                   lgb.log_evaluation(period=0)]\n",
    "    )\n",
    "    preds = model.predict(Xv)\n",
    "    return spearman_metric(yva_DE, preds)\n",
    "\n",
    "# Run Optuna study\n",
    "study = optuna.create_study(direction=\"maximize\")\n",
    "study.optimize(objective, n_trials=200, show_progress_bar=True)\n",
    "\n",
    "print(\"Best params:\", study.best_params)\n",
    "print(\"Best Spearman:\", study.best_value)\n",
    "\n",
    "# Best params: {'learning_rate': 0.08306320613415273, 'num_leaves': 674, 'max_depth': 7, 'min_data_in_leaf': 49, 'feature_fraction': 0.9495022433234174, 'bagging_fraction': 0.6007416126537491, 'bagging_freq': 7, 'reg_alpha': 7.89963591204457, 'reg_lambda': 4.203535328336757}\n",
    "# Best Spearman: 0.5414576661774515"
   ]
  },
  {
   "cell_type": "code",
   "execution_count": 130,
   "id": "279762ec",
   "metadata": {},
   "outputs": [
    {
     "name": "stdout",
     "output_type": "stream",
     "text": [
      "✅ final_model_DE is trained and ready (Germany).\n",
      "Best params used: {'learning_rate': 0.08306320613415273, 'num_leaves': 674, 'max_depth': 7, 'min_data_in_leaf': 49, 'feature_fraction': 0.9495022433234174, 'bagging_fraction': 0.6007416126537491, 'bagging_freq': 7, 'reg_alpha': 7.89963591204457, 'reg_lambda': 4.203535328336757, 'objective': 'regression', 'n_jobs': 1, 'verbose': -1}\n",
      "Feature count: 56\n"
     ]
    }
   ],
   "source": [
    "best_params = study.best_params.copy()\n",
    "# Ensure LightGBM-only args present\n",
    "best_params.update({\n",
    "    \"objective\": \"regression\",\n",
    "    \"n_jobs\": 1,\n",
    "    \"verbose\": -1,\n",
    "})\n",
    "# 2) Build full DE training set (train + validation)\n",
    "X_DE_full = pd.concat([Xtr_DE, Xva_DE], axis=0)\n",
    "y_DE_full = pd.concat([ytr_DE, yva_DE], axis=0)\n",
    "\n",
    "# 3) Preprocess (median-impute numerics only)\n",
    "num_cols_DE = [c for c in X_DE_full.columns if c not in [\"ID\", \"DAY_ID\", \"COUNTRY\"]]\n",
    "prep_DE_final = ColumnTransformer(\n",
    "    [(\"num\", SimpleImputer(strategy=\"median\"), num_cols_DE)],\n",
    "    remainder=\"drop\"\n",
    ").fit(X_DE_full, y_DE_full)\n",
    "\n",
    "X_DE_full_arr = prep_DE_final.transform(X_DE_full)\n",
    "\n",
    "# 4) Fit final LGBM on ALL DE data (no early stopping; we want a single frozen model)\n",
    "final_model_DE = LGBMRegressor(**best_params)\n",
    "final_model_DE.fit(X_DE_full_arr, y_DE_full)\n",
    "\n",
    "print(\"✅ final_model_DE is trained and ready (Germany).\")\n",
    "print(\"Best params used:\", best_params)\n",
    "print(\"Feature count:\", len(prep_DE_final.get_feature_names_out()))"
   ]
  },
  {
   "cell_type": "code",
   "execution_count": 131,
   "id": "bb3952ee",
   "metadata": {},
   "outputs": [],
   "source": [
    "# Extract the underlying Booster\n",
    "booster = final_model_DE.booster_\n",
    "\n",
    "# Save to file\n",
    "booster.save_model(\"final_model_DE.txt\")\n",
    "\n",
    "# Later load it back\n",
    "import lightgbm as lgb\n",
    "booster_loaded = lgb.Booster(model_file=\"final_model_DE.txt\")"
   ]
  },
  {
   "cell_type": "code",
   "execution_count": 189,
   "id": "e93d039f",
   "metadata": {},
   "outputs": [
    {
     "data": {
      "text/plain": [
       "['final_model_DE_pipeline.joblib']"
      ]
     },
     "execution_count": 189,
     "metadata": {},
     "output_type": "execute_result"
    }
   ],
   "source": [
    "# Rebuild a pipeline with the same preprocessor and best_params\n",
    "lgbm_DE = LGBMRegressor(**best_params)\n",
    "final_model_DE_pipeline = Pipeline([(\"prep\", prep_DE_final), (\"model\", lgbm_DE)])\n",
    "final_model_DE_pipeline.fit(X_DE_full, y_DE_full)  # fits prep internally, then model\n",
    "joblib.dump(final_model_DE_pipeline, \"final_model_DE_pipeline.joblib\")"
   ]
  },
  {
   "cell_type": "markdown",
   "id": "faecc790",
   "metadata": {},
   "source": [
    "---"
   ]
  },
  {
   "cell_type": "markdown",
   "id": "2ca46173",
   "metadata": {},
   "source": [
    "## **France**-specific Model"
   ]
  },
  {
   "cell_type": "code",
   "execution_count": 136,
   "id": "24885b65",
   "metadata": {},
   "outputs": [
    {
     "name": "stdout",
     "output_type": "stream",
     "text": [
      "FR RandomForest Validation Spearman: 0.1548\n"
     ]
    },
    {
     "data": {
      "image/png": "[encoded data removed]",
      "text/plain": [
       "<Figure size 800x600 with 1 Axes>"
      ]
     },
     "metadata": {},
     "output_type": "display_data"
    },
    {
     "name": "stdout",
     "output_type": "stream",
     "text": [
      "Top FR features: ['num__GAS_RET', 'num__FR_WINDPOW', 'num__CARBON_RET', 'num__DE_SOLAR', 'num__FR_GAS', 'num__DE_GAS', 'num__FR_DE_EXCHANGE', 'num__FR_SOLAR', 'num__DE_FR_EXCHANGE', 'num__FR_WIND', 'num__FR_NUCLEAR', 'num__DE_CONSUMPTION', 'num__DE_COAL', 'num__DE_RESIDUAL_LOAD', 'num__DE_RAIN']\n"
     ]
    }
   ],
   "source": [
    "# -----------------------------\n",
    "# 1) Split France data\n",
    "# -----------------------------\n",
    "Xtr_FR, ytr_FR = country_split(X_train, y_train, \"FR\")\n",
    "Xva_FR, yva_FR = country_split(X_val,   y_val,   \"FR\")\n",
    "\n",
    "# Numeric features\n",
    "num_cols = [c for c in Xtr_FR.columns if c not in [\"ID\",\"DAY_ID\",\"COUNTRY\"]]\n",
    "\n",
    "# -----------------------------\n",
    "# 2) Preprocess (median imputation only)\n",
    "# -----------------------------\n",
    "prep = ColumnTransformer([\n",
    "    (\"num\", SimpleImputer(strategy=\"median\"), num_cols)\n",
    "], remainder=\"drop\").fit(Xtr_FR, ytr_FR)\n",
    "\n",
    "Xt = prep.transform(Xtr_FR)\n",
    "Xv = prep.transform(Xva_FR)\n",
    "\n",
    "# -----------------------------\n",
    "# 3) Random Forest baseline\n",
    "# -----------------------------\n",
    "rf = RandomForestRegressor(\n",
    "    n_estimators=500,\n",
    "    max_depth=None,   # let it grow deep\n",
    "    min_samples_split=5,\n",
    "    min_samples_leaf=2,\n",
    "    n_jobs=-1,\n",
    "    random_state=42\n",
    ")\n",
    "rf.fit(Xt, ytr_FR)\n",
    "\n",
    "# Predictions + Spearman\n",
    "yva_pred = rf.predict(Xv)\n",
    "sc = spearman_metric(yva_FR, yva_pred)\n",
    "print(f\"FR RandomForest Validation Spearman: {sc:.4f}\")\n",
    "\n",
    "# -----------------------------\n",
    "# 4) Feature importance plot\n",
    "# -----------------------------\n",
    "importances = rf.feature_importances_\n",
    "indices = np.argsort(importances)[::-1]\n",
    "feat_names = prep.get_feature_names_out()\n",
    "\n",
    "plt.figure(figsize=(8, 6))\n",
    "plt.title(\"France RandomForest — Top 15 Features\")\n",
    "plt.barh(range(15), importances[indices[:15]][::-1], align=\"center\", color=\"tab:blue\")\n",
    "plt.yticks(range(15), [feat_names[i] for i in indices[:15]][::-1])\n",
    "plt.xlabel(\"Feature Importance\")\n",
    "plt.tight_layout()\n",
    "plt.show()\n",
    "\n",
    "# Print top features\n",
    "top_FR = [feat_names[i] for i in indices[:15]]\n",
    "print(\"Top FR features:\", top_FR)"
   ]
  },
  {
   "cell_type": "code",
   "execution_count": 138,
   "id": "0dec6dec",
   "metadata": {},
   "outputs": [
    {
     "name": "stdout",
     "output_type": "stream",
     "text": [
      "France RF (engineered) — Validation Spearman: 0.1134\n"
     ]
    },
    {
     "data": {
      "image/png": "[encoded data removed]",
      "text/plain": [
       "<Figure size 900x600 with 1 Axes>"
      ]
     },
     "metadata": {},
     "output_type": "display_data"
    },
    {
     "name": "stdout",
     "output_type": "stream",
     "text": [
      "Top FR features: ['num__GAS_RET', 'num__FR_WINDPOW', 'num__CARBON_RET', 'num__DE_SOLAR', 'num__FR_GAS', 'num__DE_GAS', 'num__FR_DE_EXCHANGE', 'num__FR_SOLAR', 'num__DE_FR_EXCHANGE', 'num__FR_WIND', 'num__FR_NUCLEAR', 'num__DE_CONSUMPTION', 'num__DE_COAL', 'num__DE_RESIDUAL_LOAD', 'num__DE_RAIN']\n"
     ]
    }
   ],
   "source": [
    "def feature_engineering_FR(df: pd.DataFrame) -> pd.DataFrame:\n",
    "    \"\"\"\n",
    "    Add France-centric engineered features (no lags here; pure contemporaneous transforms).\n",
    "    Works on a copy and is safe to call on TRAIN/VAL concatenated frames.\n",
    "    \"\"\"\n",
    "    df = df.copy()\n",
    "    eps = 1e-6\n",
    "\n",
    "    def have(*cols):\n",
    "        return all(c in df.columns for c in cols)\n",
    "\n",
    "    # --- Net balances (imports minus exports)\n",
    "    if have(\"FR_NET_IMPORT\", \"FR_NET_EXPORT\"):\n",
    "        df[\"FR_NET_BALANCE\"] = df[\"FR_NET_IMPORT\"] - df[\"FR_NET_EXPORT\"]\n",
    "    if have(\"DE_NET_IMPORT\", \"DE_NET_EXPORT\"):\n",
    "        df[\"DE_NET_BALANCE\"] = df[\"DE_NET_IMPORT\"] - df[\"DE_NET_EXPORT\"]\n",
    "\n",
    "    # --- Exchange totals & skew\n",
    "    if have(\"DE_FR_EXCHANGE\", \"FR_DE_EXCHANGE\"):\n",
    "        df[\"EXCHANGE_TOTAL\"] = df[\"DE_FR_EXCHANGE\"] + df[\"FR_DE_EXCHANGE\"]\n",
    "        df[\"EXCHANGE_SKEW\"]  = df[\"FR_DE_EXCHANGE\"] - df[\"DE_FR_EXCHANGE\"]\n",
    "\n",
    "    # --- Renewables bundles\n",
    "    if have(\"FR_WINDPOW\", \"FR_SOLAR\", \"FR_HYDRO\"):\n",
    "        df[\"FR_RENEWABLES\"] = df[\"FR_WINDPOW\"] + df[\"FR_SOLAR\"] + df[\"FR_HYDRO\"]\n",
    "    if have(\"DE_WINDPOW\", \"DE_SOLAR\", \"DE_HYDRO\"):\n",
    "        df[\"DE_RENEWABLES\"] = df[\"DE_WINDPOW\"] + df[\"DE_SOLAR\"] + df[\"DE_HYDRO\"]\n",
    "\n",
    "    # --- Ratios: dependency / balance vs load\n",
    "    if have(\"FR_RESIDUAL_LOAD\", \"FR_CONSUMPTION\"):\n",
    "        df[\"FR_RESIDUAL_RATIO\"] = df[\"FR_RESIDUAL_LOAD\"] / (df[\"FR_CONSUMPTION\"] + eps)\n",
    "    if have(\"FR_NET_BALANCE\", \"FR_CONSUMPTION\"):\n",
    "        df[\"FR_BALANCE_RATIO\"] = df[\"FR_NET_BALANCE\"] / (df[\"FR_CONSUMPTION\"] + eps)\n",
    "    if have(\"FR_RENEWABLES\", \"FR_CONSUMPTION\"):\n",
    "        df[\"FR_RENEW_RATIO\"]   = df[\"FR_RENEWABLES\"] / (df[\"FR_CONSUMPTION\"] + eps)\n",
    "\n",
    "    # --- Cross-country spreads (FR - DE)\n",
    "    for base in [\"WINDPOW\", \"SOLAR\", \"HYDRO\", \"WIND\", \"TEMP\", \"RAIN\",\n",
    "                 \"RESIDUAL_LOAD\", \"CONSUMPTION\", \"NET_IMPORT\", \"NET_EXPORT\"]:\n",
    "        fr, de = f\"FR_{base}\", f\"DE_{base}\"\n",
    "        if have(fr, de):\n",
    "            df[f\"{base}_DIFF_FR_DE\"] = df[fr] - df[de]\n",
    "\n",
    "    # --- Commodity × French system interactions\n",
    "    if have(\"GAS_RET\", \"FR_CONSUMPTION\"):\n",
    "        df[\"FR_CONS_x_GASRET\"] = df[\"GAS_RET\"] * df[\"FR_CONSUMPTION\"]\n",
    "    if have(\"CARBON_RET\", \"FR_CONSUMPTION\"):\n",
    "        df[\"FR_CONS_x_CARBON\"] = df[\"CARBON_RET\"] * df[\"FR_CONSUMPTION\"]\n",
    "    if have(\"COAL_RET\", \"FR_CONSUMPTION\"):\n",
    "        df[\"FR_CONS_x_COALRET\"] = df[\"COAL_RET\"] * df[\"FR_CONSUMPTION\"]\n",
    "\n",
    "    if have(\"GAS_RET\", \"FR_RESIDUAL_LOAD\"):\n",
    "        df[\"FR_RESID_x_GASRET\"] = df[\"GAS_RET\"] * df[\"FR_RESIDUAL_LOAD\"]\n",
    "    if have(\"CARBON_RET\", \"FR_RESIDUAL_LOAD\"):\n",
    "        df[\"FR_RESID_x_CARBON\"] = df[\"CARBON_RET\"] * df[\"FR_RESIDUAL_LOAD\"]\n",
    "\n",
    "    # --- Commodity × renewables (France)\n",
    "    if have(\"GAS_RET\", \"FR_WINDPOW\"):\n",
    "        df[\"FR_WINDPOW_x_GASRET\"] = df[\"GAS_RET\"] * df[\"FR_WINDPOW\"]\n",
    "    if have(\"CARBON_RET\", \"FR_SOLAR\"):\n",
    "        df[\"FR_SOLAR_x_CARBONRET\"] = df[\"CARBON_RET\"] * df[\"FR_SOLAR\"]\n",
    "\n",
    "    # --- Cross-border commodity × spreads\n",
    "    # Total commodity pressure times FR-DE consumption gap\n",
    "    if have(\"GAS_RET\", \"CARBON_RET\", \"COAL_RET\", \"FR_CONSUMPTION\", \"DE_CONSUMPTION\"):\n",
    "        df[\"COMMODITY_SUM_x_CONS_DIFF\"] = (df[\"GAS_RET\"] + df[\"CARBON_RET\"] + df[\"COAL_RET\"]) * \\\n",
    "                                          (df[\"FR_CONSUMPTION\"] - df[\"DE_CONSUMPTION\"])\n",
    "\n",
    "    return df\n",
    "\n",
    "# 1) Build engineered features on concatenated TRAIN+VAL to keep columns aligned\n",
    "X_FR_all = pd.concat([X_train, X_val], axis=0)\n",
    "X_FR_all_en = feature_engineering_FR(X_FR_all)\n",
    "\n",
    "# 2) Split back into TRAIN / VAL (preserving original sizes)\n",
    "X_train_fr_en = X_FR_all_en.iloc[:len(X_train)].copy()\n",
    "X_val_fr_en   = X_FR_all_en.iloc[len(X_train):].copy()\n",
    "\n",
    "# 3) France-only slices\n",
    "Xtr_FR_raw, ytr_FR = country_split(X_train_fr_en, y_train, \"FR\")\n",
    "Xva_FR_raw, yva_FR = country_split(X_val_fr_en,   y_val,   \"FR\")\n",
    "\n",
    "# 4) Preprocess (median impute numerics only)\n",
    "num_cols_fr = [c for c in Xtr_FR_raw.columns if c not in [\"ID\",\"DAY_ID\",\"COUNTRY\"]]\n",
    "prep_fr = ColumnTransformer([(\"num\", SimpleImputer(strategy=\"median\"), num_cols_fr)],\n",
    "                            remainder=\"drop\").fit(Xtr_FR_raw, ytr_FR)\n",
    "\n",
    "Xt_FR = prep_fr.transform(Xtr_FR_raw)\n",
    "Xv_FR = prep_fr.transform(Xva_FR_raw)\n",
    "\n",
    "# 5) Random Forest baseline on engineered features\n",
    "rf_FR = RandomForestRegressor(\n",
    "    n_estimators=800,\n",
    "    max_depth=None,\n",
    "    min_samples_split=4,\n",
    "    min_samples_leaf=2,\n",
    "    n_jobs=-1,\n",
    "    random_state=42\n",
    ")\n",
    "rf_FR.fit(Xt_FR, ytr_FR)\n",
    "yva_pred_FR = rf_FR.predict(Xv_FR)\n",
    "sc_FR = spearman_metric(yva_FR, yva_pred_FR)\n",
    "print(f\"France RF (engineered) — Validation Spearman: {sc_FR:.4f}\")\n",
    "\n",
    "# 6) Top-15 feature importances\n",
    "importances = rf_FR.feature_importances_\n",
    "idx = np.argsort(importances)[::-1]\n",
    "feat_names = prep_fr.get_feature_names_out()\n",
    "\n",
    "plt.figure(figsize=(9, 6))\n",
    "plt.title(\"France RF (engineered) — Top 15 Features\")\n",
    "plt.barh(range(15), importances[idx[:15]][::-1], align=\"center\", color=\"tab:blue\")\n",
    "plt.yticks(range(15), [feat_names[i] for i in idx[:15]][::-1])\n",
    "plt.xlabel(\"Feature Importance\")\n",
    "plt.tight_layout()\n",
    "plt.show()\n",
    "\n",
    "# Print top features\n",
    "top_FR = [feat_names[i] for i in indices[:15]]\n",
    "print(\"Top FR features:\", top_FR)"
   ]
  },
  {
   "cell_type": "code",
   "execution_count": 146,
   "id": "993ac9b0",
   "metadata": {},
   "outputs": [
    {
     "name": "stdout",
     "output_type": "stream",
     "text": [
      "FR Validation Spearman — ElasticNet: 0.2038\n",
      "Chosen l1_ratio: 0.1\n",
      "Chosen alpha: 0.32903445623126676\n"
     ]
    }
   ],
   "source": [
    "from sklearn.linear_model import ElasticNet, ElasticNetCV\n",
    "from sklearn.pipeline import Pipeline\n",
    "from sklearn.preprocessing import StandardScaler\n",
    "\n",
    "# --- 1) Prepare features ---\n",
    "Xtr_FR, ytr_FR = country_split(X_train_en, y_train, \"FR\")\n",
    "Xva_FR, yva_FR = country_split(X_val_en,   y_val,   \"FR\")\n",
    "\n",
    "num_cols = [c for c in Xtr_FR.columns if c not in [\"ID\", \"DAY_ID\", \"COUNTRY\"]]\n",
    "\n",
    "# Column transformer: scale numeric features\n",
    "prep = ColumnTransformer([\n",
    "    (\"num\", Pipeline([\n",
    "        (\"imputer\", SimpleImputer(strategy=\"median\")),\n",
    "        (\"scaler\", StandardScaler())\n",
    "    ]), num_cols)\n",
    "])\n",
    "\n",
    "# --- 2) ElasticNet with CV ---\n",
    "enet = ElasticNetCV(\n",
    "    l1_ratio=[.1, .5, .7, .9, .95, .99, 1.0],   # mix of L1 and L2\n",
    "    alphas=np.logspace(-4, 2, 30),              # wide range of regularization\n",
    "    cv=5,\n",
    "    n_jobs=-1,\n",
    "    max_iter=5000,\n",
    "    random_state=42\n",
    ")\n",
    "\n",
    "pipe_enet = Pipeline([\n",
    "    (\"prep\", prep),\n",
    "    (\"model\", enet)\n",
    "])\n",
    "\n",
    "# --- 3) Fit ---\n",
    "pipe_enet.fit(Xtr_FR, ytr_FR)\n",
    "\n",
    "# --- 4) Evaluate ---\n",
    "yva_pred_enet = pipe_enet.predict(Xva_FR)\n",
    "sc_enet = spearman_metric(yva_FR, yva_pred_enet)\n",
    "\n",
    "print(f\"FR Validation Spearman — ElasticNet: {sc_enet:.4f}\")\n",
    "print(\"Chosen l1_ratio:\", pipe_enet.named_steps[\"model\"].l1_ratio_)\n",
    "print(\"Chosen alpha:\", pipe_enet.named_steps[\"model\"].alpha_)"
   ]
  },
  {
   "cell_type": "code",
   "execution_count": null,
   "id": "5aea33c2",
   "metadata": {},
   "outputs": [
    {
     "name": "stdout",
     "output_type": "stream",
     "text": [
      "                        feature      coef\n",
      "13                num__FR_HYDRO  0.046137\n",
      "31              num__CARBON_RET  0.037245\n",
      "54        num__GASRET_x_DE_CONS  0.037038\n",
      "51       num__CARBON_x_FR_RESID -0.032645\n",
      "50  num__CONSUMPTION_DIFF_FR_DE  0.031243\n",
      "41          num__FR_WIND_DEMAND -0.030847\n",
      "36         num__FR_DE_FLOW_DIFF  0.026727\n",
      "12                num__DE_HYDRO  0.020165\n",
      "19              num__FR_WINDPOW -0.019243\n",
      "46      num__WINDPOW_DIFF_FR_DE -0.015339\n",
      "24                 num__FR_RAIN -0.012098\n",
      "14              num__DE_NUCLEAR  0.005100\n",
      "35           num__EXCHANGE_SKEW -0.004253\n",
      "2           num__DE_FR_EXCHANGE  0.004249\n",
      "3           num__FR_DE_EXCHANGE -0.004244\n",
      "43         num__TEMP_DIFF_FR_DE  0.003938\n",
      "29                 num__GAS_RET  0.000659\n",
      "34          num__EXCHANGE_TOTAL  0.000000\n",
      "40       num__DE_RESIDUAL_RATIO  0.000000\n",
      "38           num__DE_RENEWABLES  0.000000\n"
     ]
    }
   ],
   "source": [
    "# Inspect feature coefficients\n",
    "coefs = pipe_enet.named_steps[\"model\"].coef_\n",
    "feat_names = pipe_enet.named_steps[\"prep\"].get_feature_names_out()\n",
    "coef_df = pd.DataFrame({\n",
    "    \"feature\": feat_names,\n",
    "    \"coef\": coefs\n",
    "}).sort_values(\"coef\", key=np.abs, ascending=False)\n",
    "\n",
    "print(coef_df.head(20))  # top 20 influential features"
   ]
  },
  {
   "cell_type": "code",
   "execution_count": 184,
   "id": "af3ac4b0",
   "metadata": {},
   "outputs": [
    {
     "name": "stderr",
     "output_type": "stream",
     "text": [
      "[I 2025-09-04 15:53:43,399] A new study created in memory with name: no-name-6582f497-7e2e-4330-b003-916540bed288\n",
      "Best trial: 1. Best value: 0.170735:   2%|▏         | 2/100 [00:00<00:10,  9.68it/s]"
     ]
    },
    {
     "name": "stdout",
     "output_type": "stream",
     "text": [
      "[I 2025-09-04 15:53:43,417] Trial 0 finished with value: 0.0 and parameters: {'alpha': 14.331317073724222, 'l1_ratio': 0.837145822670422}. Best is trial 0 with value: 0.0.\n",
      "[I 2025-09-04 15:53:43,607] Trial 1 finished with value: 0.17073519700638345 and parameters: {'alpha': 0.00010084666075290491, 'l1_ratio': 0.338012979440829}. Best is trial 1 with value: 0.17073519700638345.\n"
     ]
    },
    {
     "name": "stderr",
     "output_type": "stream",
     "text": [
      "Best trial: 6. Best value: 0.17344:   6%|▌         | 6/100 [00:00<00:05, 16.89it/s] "
     ]
    },
    {
     "name": "stdout",
     "output_type": "stream",
     "text": [
      "[I 2025-09-04 15:53:43,621] Trial 2 finished with value: 0.1599537750385208 and parameters: {'alpha': 0.027485679001330483, 'l1_ratio': 0.09063572166266443}. Best is trial 1 with value: 0.17073519700638345.\n",
      "[I 2025-09-04 15:53:43,629] Trial 3 finished with value: 0.0 and parameters: {'alpha': 18.142348518423514, 'l1_ratio': 0.10053382872644778}. Best is trial 1 with value: 0.17073519700638345.\n",
      "[I 2025-09-04 15:53:43,636] Trial 4 finished with value: 0.0 and parameters: {'alpha': 5.100594464240237, 'l1_ratio': 0.5569227973974492}. Best is trial 1 with value: 0.17073519700638345.\n",
      "[I 2025-09-04 15:53:43,782] Trial 5 finished with value: 0.16385648250055032 and parameters: {'alpha': 0.0020715241962076998, 'l1_ratio': 0.08052185990608629}. Best is trial 1 with value: 0.17073519700638345.\n",
      "[I 2025-09-04 15:53:43,793] Trial 6 finished with value: 0.1734404578472375 and parameters: {'alpha': 0.059346708062658016, 'l1_ratio': 0.12831887014000698}. Best is trial 6 with value: 0.1734404578472375.\n"
     ]
    },
    {
     "name": "stderr",
     "output_type": "stream",
     "text": [
      "Best trial: 8. Best value: 0.19956:  20%|██        | 20/100 [00:00<00:01, 43.07it/s]"
     ]
    },
    {
     "name": "stdout",
     "output_type": "stream",
     "text": [
      "[I 2025-09-04 15:53:43,823] Trial 7 finished with value: 0.1584525643847678 and parameters: {'alpha': 0.0012787910188018568, 'l1_ratio': 0.8710039454136973}. Best is trial 6 with value: 0.1734404578472375.\n",
      "[I 2025-09-04 15:53:43,832] Trial 8 finished with value: 0.1995597622716267 and parameters: {'alpha': 0.08617735815888126, 'l1_ratio': 0.419146998847002}. Best is trial 8 with value: 0.1995597622716267.\n",
      "[I 2025-09-04 15:53:43,840] Trial 9 finished with value: 0.0 and parameters: {'alpha': 1.4963207821748707, 'l1_ratio': 0.23765439155660284}. Best is trial 8 with value: 0.1995597622716267.\n",
      "[I 2025-09-04 15:53:43,852] Trial 10 finished with value: 0.0 and parameters: {'alpha': 0.36638397725654553, 'l1_ratio': 0.5636527182690347}. Best is trial 8 with value: 0.1995597622716267.\n",
      "[I 2025-09-04 15:53:43,864] Trial 11 finished with value: 0.1965947611710324 and parameters: {'alpha': 0.08272950872540102, 'l1_ratio': 0.39189955160919443}. Best is trial 8 with value: 0.1995597622716267.\n",
      "[I 2025-09-04 15:53:43,885] Trial 12 finished with value: 0.15680827646929343 and parameters: {'alpha': 0.013100866953709933, 'l1_ratio': 0.4183404898850739}. Best is trial 8 with value: 0.1995597622716267.\n",
      "[I 2025-09-04 15:53:43,897] Trial 13 finished with value: 0.0 and parameters: {'alpha': 0.34287726686481407, 'l1_ratio': 0.6854701161480414}. Best is trial 8 with value: 0.1995597622716267.\n",
      "[I 2025-09-04 15:53:43,906] Trial 14 finished with value: 0.0 and parameters: {'alpha': 95.51584014906011, 'l1_ratio': 0.352731024414511}. Best is trial 8 with value: 0.1995597622716267.\n",
      "[I 2025-09-04 15:53:43,941] Trial 15 finished with value: 0.1551551837992516 and parameters: {'alpha': 0.007622351979710208, 'l1_ratio': 0.7102272288434943}. Best is trial 8 with value: 0.1995597622716267.\n",
      "[I 2025-09-04 15:53:43,951] Trial 16 finished with value: 0.0 and parameters: {'alpha': 0.3210330902425256, 'l1_ratio': 0.4586445245636713}. Best is trial 8 with value: 0.1995597622716267.\n",
      "[I 2025-09-04 15:53:43,964] Trial 17 finished with value: 0.19638564825005506 and parameters: {'alpha': 0.12476427741907592, 'l1_ratio': 0.25446448107334946}. Best is trial 8 with value: 0.1995597622716267.\n",
      "[I 2025-09-04 15:53:43,984] Trial 18 finished with value: 0.15538190622936388 and parameters: {'alpha': 0.0020684213980701914, 'l1_ratio': 0.9897243681091743}. Best is trial 8 with value: 0.1995597622716267.\n",
      "[I 2025-09-04 15:53:43,994] Trial 19 finished with value: 0.0 and parameters: {'alpha': 1.2423930418387605, 'l1_ratio': 0.6318893560430474}. Best is trial 8 with value: 0.1995597622716267.\n"
     ]
    },
    {
     "name": "stderr",
     "output_type": "stream",
     "text": [
      "Best trial: 32. Best value: 0.212989:  32%|███▏      | 32/100 [00:00<00:01, 38.49it/s]"
     ]
    },
    {
     "name": "stdout",
     "output_type": "stream",
     "text": [
      "[I 2025-09-04 15:53:44,186] Trial 20 finished with value: 0.1674554259300022 and parameters: {'alpha': 0.00040084518602598947, 'l1_ratio': 0.23032936520967479}. Best is trial 8 with value: 0.1995597622716267.\n",
      "[I 2025-09-04 15:53:44,200] Trial 21 finished with value: 0.17037200088047547 and parameters: {'alpha': 0.08081841305698399, 'l1_ratio': 0.25117248997134084}. Best is trial 8 with value: 0.1995597622716267.\n",
      "[I 2025-09-04 15:53:44,212] Trial 22 finished with value: 0.1852608408540612 and parameters: {'alpha': 0.17294966658985478, 'l1_ratio': 0.3682755378504995}. Best is trial 8 with value: 0.1995597622716267.\n",
      "[I 2025-09-04 15:53:44,230] Trial 23 finished with value: 0.1588663878494387 and parameters: {'alpha': 0.03572988030547135, 'l1_ratio': 0.518456907237229}. Best is trial 8 with value: 0.1995597622716267.\n",
      "[I 2025-09-04 15:53:44,256] Trial 24 finished with value: 0.1597490644948272 and parameters: {'alpha': 0.008293920373984564, 'l1_ratio': 0.29024311853672474}. Best is trial 8 with value: 0.1995597622716267.\n",
      "[I 2025-09-04 15:53:44,268] Trial 25 finished with value: 0.0 and parameters: {'alpha': 1.1446335882244592, 'l1_ratio': 0.4384408855671209}. Best is trial 8 with value: 0.1995597622716267.\n",
      "[I 2025-09-04 15:53:44,281] Trial 26 finished with value: 0.18101694915254238 and parameters: {'alpha': 0.12598236178405173, 'l1_ratio': 0.19246130847744314}. Best is trial 8 with value: 0.1995597622716267.\n",
      "[I 2025-09-04 15:53:44,322] Trial 27 finished with value: 0.16526964560862867 and parameters: {'alpha': 0.020448945644359697, 'l1_ratio': 0.014139744985717129}. Best is trial 8 with value: 0.1995597622716267.\n",
      "[I 2025-09-04 15:53:44,332] Trial 28 finished with value: 0.0 and parameters: {'alpha': 2.722281191924356, 'l1_ratio': 0.3067871768539759}. Best is trial 8 with value: 0.1995597622716267.\n",
      "[I 2025-09-04 15:53:44,343] Trial 29 finished with value: 0.0 and parameters: {'alpha': 11.143409169836323, 'l1_ratio': 0.1762718653937352}. Best is trial 8 with value: 0.1995597622716267.\n",
      "[I 2025-09-04 15:53:44,354] Trial 30 finished with value: 0.0 and parameters: {'alpha': 0.6952864562370433, 'l1_ratio': 0.41304020332679614}. Best is trial 8 with value: 0.1995597622716267.\n",
      "[I 2025-09-04 15:53:44,365] Trial 31 finished with value: 0.1908034338542813 and parameters: {'alpha': 0.1608852788656786, 'l1_ratio': 0.3725961721848631}. Best is trial 8 with value: 0.1995597622716267.\n",
      "[I 2025-09-04 15:53:44,377] Trial 32 finished with value: 0.21298921417565483 and parameters: {'alpha': 0.11013732095454262, 'l1_ratio': 0.3706558266998852}. Best is trial 32 with value: 0.21298921417565483.\n"
     ]
    },
    {
     "name": "stderr",
     "output_type": "stream",
     "text": [
      "Best trial: 41. Best value: 0.215983:  43%|████▎     | 43/100 [00:01<00:01, 44.95it/s]"
     ]
    },
    {
     "name": "stdout",
     "output_type": "stream",
     "text": [
      "[I 2025-09-04 15:53:44,391] Trial 33 finished with value: 0.17792427911071979 and parameters: {'alpha': 0.05671549414018935, 'l1_ratio': 0.4881269997427198}. Best is trial 32 with value: 0.21298921417565483.\n",
      "[I 2025-09-04 15:53:44,408] Trial 34 finished with value: 0.1673453664979089 and parameters: {'alpha': 0.029561824373615236, 'l1_ratio': 0.29844822412630556}. Best is trial 32 with value: 0.21298921417565483.\n",
      "[I 2025-09-04 15:53:44,420] Trial 35 finished with value: 0.0 and parameters: {'alpha': 0.490935144375432, 'l1_ratio': 0.5980605224448914}. Best is trial 32 with value: 0.21298921417565483.\n",
      "[I 2025-09-04 15:53:44,447] Trial 36 finished with value: 0.15732555580013208 and parameters: {'alpha': 0.006147939918328751, 'l1_ratio': 0.398537951283303}. Best is trial 32 with value: 0.21298921417565483.\n",
      "[I 2025-09-04 15:53:44,459] Trial 37 finished with value: 0.18701078582434516 and parameters: {'alpha': 0.12722226146284382, 'l1_ratio': 0.4785651430193224}. Best is trial 32 with value: 0.21298921417565483.\n",
      "[I 2025-09-04 15:53:44,475] Trial 38 finished with value: 0.16411842394893242 and parameters: {'alpha': 0.043398235887052224, 'l1_ratio': 0.3171792081983881}. Best is trial 32 with value: 0.21298921417565483.\n",
      "[I 2025-09-04 15:53:44,531] Trial 39 finished with value: 0.16149900946511117 and parameters: {'alpha': 0.004518622570426231, 'l1_ratio': 0.13210461376674712}. Best is trial 32 with value: 0.21298921417565483.\n",
      "[I 2025-09-04 15:53:44,543] Trial 40 finished with value: 0.0 and parameters: {'alpha': 4.131049298141629, 'l1_ratio': 0.5113688007625438}. Best is trial 32 with value: 0.21298921417565483.\n",
      "[I 2025-09-04 15:53:44,555] Trial 41 finished with value: 0.21598283072859345 and parameters: {'alpha': 0.11599435521846536, 'l1_ratio': 0.3572286724136148}. Best is trial 41 with value: 0.21598283072859345.\n",
      "[I 2025-09-04 15:53:44,568] Trial 42 finished with value: 0.1647149460708783 and parameters: {'alpha': 0.07020492174655656, 'l1_ratio': 0.25956576685859634}. Best is trial 41 with value: 0.21598283072859345.\n",
      "[I 2025-09-04 15:53:44,588] Trial 43 finished with value: 0.16063394232885758 and parameters: {'alpha': 0.017040986675212165, 'l1_ratio': 0.35974910103084023}. Best is trial 41 with value: 0.21598283072859345.\n"
     ]
    },
    {
     "name": "stderr",
     "output_type": "stream",
     "text": [
      "Best trial: 44. Best value: 0.220579:  61%|██████    | 61/100 [00:01<00:00, 55.81it/s]"
     ]
    },
    {
     "name": "stdout",
     "output_type": "stream",
     "text": [
      "[I 2025-09-04 15:53:44,600] Trial 44 finished with value: 0.22057891261281093 and parameters: {'alpha': 0.2608876751642255, 'l1_ratio': 0.18196896927924688}. Best is trial 44 with value: 0.22057891261281093.\n",
      "[I 2025-09-04 15:53:44,612] Trial 45 finished with value: 0.2124279110719789 and parameters: {'alpha': 0.2153225690417323, 'l1_ratio': 0.18174817605478322}. Best is trial 44 with value: 0.22057891261281093.\n",
      "[I 2025-09-04 15:53:44,624] Trial 46 finished with value: 0.21734096412062517 and parameters: {'alpha': 0.6773814304557882, 'l1_ratio': 0.060964453352549394}. Best is trial 44 with value: 0.22057891261281093.\n",
      "[I 2025-09-04 15:53:44,637] Trial 47 finished with value: 0.19785384107418005 and parameters: {'alpha': 0.7277954201976586, 'l1_ratio': 0.02611325421919128}. Best is trial 44 with value: 0.22057891261281093.\n",
      "[I 2025-09-04 15:53:44,649] Trial 48 finished with value: 0.1802905569007264 and parameters: {'alpha': 0.23767304579569293, 'l1_ratio': 0.07898758102373166}. Best is trial 44 with value: 0.22057891261281093.\n",
      "[I 2025-09-04 15:53:44,660] Trial 49 finished with value: 0.0 and parameters: {'alpha': 1.7834924920256017, 'l1_ratio': 0.1682957398586343}. Best is trial 44 with value: 0.22057891261281093.\n",
      "[I 2025-09-04 15:53:44,671] Trial 50 finished with value: 0.0 and parameters: {'alpha': 10.99553457796114, 'l1_ratio': 0.07055531465493659}. Best is trial 44 with value: 0.22057891261281093.\n",
      "[I 2025-09-04 15:53:44,684] Trial 51 finished with value: 0.1998084965881576 and parameters: {'alpha': 0.24288577711576473, 'l1_ratio': 0.1323037045652119}. Best is trial 44 with value: 0.22057891261281093.\n",
      "[I 2025-09-04 15:53:44,695] Trial 52 finished with value: 0.1920581113801453 and parameters: {'alpha': 0.5589658348956493, 'l1_ratio': 0.12522316939111028}. Best is trial 44 with value: 0.22057891261281093.\n",
      "[I 2025-09-04 15:53:44,708] Trial 53 finished with value: 0.20950913493286374 and parameters: {'alpha': 0.25839944753449945, 'l1_ratio': 0.20974608740228237}. Best is trial 44 with value: 0.22057891261281093.\n",
      "[I 2025-09-04 15:53:44,720] Trial 54 finished with value: 0.19024653312788908 and parameters: {'alpha': 0.344385190255097, 'l1_ratio': 0.2218345618659612}. Best is trial 44 with value: 0.22057891261281093.\n",
      "[I 2025-09-04 15:53:44,730] Trial 55 finished with value: 0.2179661016949153 and parameters: {'alpha': 0.9052186156669666, 'l1_ratio': 0.04783660446946131}. Best is trial 44 with value: 0.22057891261281093.\n",
      "[I 2025-09-04 15:53:44,742] Trial 56 finished with value: 0.21324675324675324 and parameters: {'alpha': 1.0379266125508513, 'l1_ratio': 0.052944119511653565}. Best is trial 44 with value: 0.22057891261281093.\n",
      "[I 2025-09-04 15:53:44,753] Trial 57 finished with value: 0.0 and parameters: {'alpha': 6.182747546165534, 'l1_ratio': 0.037285836247726814}. Best is trial 44 with value: 0.22057891261281093.\n",
      "[I 2025-09-04 15:53:44,764] Trial 58 finished with value: 0.0 and parameters: {'alpha': 46.90468121773971, 'l1_ratio': 0.06020292221345005}. Best is trial 44 with value: 0.22057891261281093.\n",
      "[I 2025-09-04 15:53:44,775] Trial 59 finished with value: 0.16970063834470617 and parameters: {'alpha': 0.9324809513803491, 'l1_ratio': 0.004229599197034917}. Best is trial 44 with value: 0.22057891261281093.\n",
      "[I 2025-09-04 15:53:44,787] Trial 60 finished with value: 0.0 and parameters: {'alpha': 1.8879660318041227, 'l1_ratio': 0.1087373444343582}. Best is trial 44 with value: 0.22057891261281093.\n",
      "[I 2025-09-04 15:53:44,798] Trial 61 finished with value: 0.19270966321813782 and parameters: {'alpha': 0.48429837043558027, 'l1_ratio': 0.16057933659225412}. Best is trial 44 with value: 0.22057891261281093.\n"
     ]
    },
    {
     "name": "stderr",
     "output_type": "stream",
     "text": [
      "Best trial: 66. Best value: 0.253766:  77%|███████▋  | 77/100 [00:01<00:00, 69.68it/s]"
     ]
    },
    {
     "name": "stdout",
     "output_type": "stream",
     "text": [
      "[I 2025-09-04 15:53:44,808] Trial 62 finished with value: 0.0 and parameters: {'alpha': 2.982440971671789, 'l1_ratio': 0.09318699256488815}. Best is trial 44 with value: 0.22057891261281093.\n",
      "[I 2025-09-04 15:53:44,821] Trial 63 finished with value: 0.2167092229804094 and parameters: {'alpha': 0.9753653144653479, 'l1_ratio': 0.053854068341534944}. Best is trial 44 with value: 0.22057891261281093.\n",
      "[I 2025-09-04 15:53:44,832] Trial 64 finished with value: 0.21578032137354175 and parameters: {'alpha': 1.0092186834516468, 'l1_ratio': 0.05083118845437728}. Best is trial 44 with value: 0.22057891261281093.\n",
      "[I 2025-09-04 15:53:44,844] Trial 65 finished with value: 0.2172198987453225 and parameters: {'alpha': 1.0459584043524182, 'l1_ratio': 0.03966183904701552}. Best is trial 44 with value: 0.22057891261281093.\n",
      "[I 2025-09-04 15:53:44,856] Trial 66 finished with value: 0.2537662337662338 and parameters: {'alpha': 2.6063762197610645, 'l1_ratio': 0.03581766431710168}. Best is trial 66 with value: 0.2537662337662338.\n",
      "[I 2025-09-04 15:53:44,868] Trial 67 finished with value: 0.19944530046224962 and parameters: {'alpha': 6.465299065592265, 'l1_ratio': 0.01045003197540189}. Best is trial 66 with value: 0.2537662337662338.\n",
      "[I 2025-09-04 15:53:44,879] Trial 68 finished with value: 0.0 and parameters: {'alpha': 3.0539067323767517, 'l1_ratio': 0.10002561496420712}. Best is trial 66 with value: 0.2537662337662338.\n",
      "[I 2025-09-04 15:53:44,890] Trial 69 finished with value: 0.0 and parameters: {'alpha': 1.7428521296095614, 'l1_ratio': 0.15313239871281237}. Best is trial 66 with value: 0.2537662337662338.\n",
      "[I 2025-09-04 15:53:44,904] Trial 70 finished with value: 0.18946290997138457 and parameters: {'alpha': 0.46056142251904153, 'l1_ratio': 0.03822132380822263}. Best is trial 66 with value: 0.2537662337662338.\n",
      "[I 2025-09-04 15:53:44,918] Trial 71 finished with value: 0.20130530486462692 and parameters: {'alpha': 0.7065452966900142, 'l1_ratio': 0.08416396775615882}. Best is trial 66 with value: 0.2537662337662338.\n",
      "[I 2025-09-04 15:53:44,930] Trial 72 finished with value: 0.1952014087607308 and parameters: {'alpha': 1.3575327597658873, 'l1_ratio': 0.05086069507660844}. Best is trial 66 with value: 0.2537662337662338.\n",
      "[I 2025-09-04 15:53:44,941] Trial 73 finished with value: 0.0 and parameters: {'alpha': 2.0606600255713947, 'l1_ratio': 0.7882942681909452}. Best is trial 66 with value: 0.2537662337662338.\n",
      "[I 2025-09-04 15:53:44,954] Trial 74 finished with value: 0.16889720449042483 and parameters: {'alpha': 4.026762292083957, 'l1_ratio': 0.006029694303954933}. Best is trial 66 with value: 0.2537662337662338.\n",
      "[I 2025-09-04 15:53:44,965] Trial 75 finished with value: 0.24993396434074402 and parameters: {'alpha': 0.9262204395083053, 'l1_ratio': 0.10343185237060364}. Best is trial 66 with value: 0.2537662337662338.\n",
      "[I 2025-09-04 15:53:44,977] Trial 76 finished with value: 0.0 and parameters: {'alpha': 17.777146642311063, 'l1_ratio': 0.1445267000496881}. Best is trial 66 with value: 0.2537662337662338.\n",
      "[I 2025-09-04 15:53:44,989] Trial 77 finished with value: 0.20601364736957956 and parameters: {'alpha': 0.3474742636165119, 'l1_ratio': 0.09717921061008024}. Best is trial 66 with value: 0.2537662337662338.\n"
     ]
    },
    {
     "name": "stderr",
     "output_type": "stream",
     "text": [
      "Best trial: 66. Best value: 0.253766:  95%|█████████▌| 95/100 [00:01<00:00, 56.48it/s]"
     ]
    },
    {
     "name": "stdout",
     "output_type": "stream",
     "text": [
      "[I 2025-09-04 15:53:45,186] Trial 78 finished with value: 0.16937926480299362 and parameters: {'alpha': 0.0002856609458061533, 'l1_ratio': 0.11477848020905514}. Best is trial 66 with value: 0.2537662337662338.\n",
      "[I 2025-09-04 15:53:45,197] Trial 79 finished with value: 0.0 and parameters: {'alpha': 0.78379024933453, 'l1_ratio': 0.19590205707865152}. Best is trial 66 with value: 0.2537662337662338.\n",
      "[I 2025-09-04 15:53:45,211] Trial 80 finished with value: 0.2091107197886859 and parameters: {'alpha': 0.14790110403309975, 'l1_ratio': 0.263336210543874}. Best is trial 66 with value: 0.2537662337662338.\n",
      "[I 2025-09-04 15:53:45,223] Trial 81 finished with value: 0.22875852960598728 and parameters: {'alpha': 1.3122489518523166, 'l1_ratio': 0.0662401426672895}. Best is trial 66 with value: 0.2537662337662338.\n",
      "[I 2025-09-04 15:53:45,234] Trial 82 finished with value: 0.0 and parameters: {'alpha': 2.3626073774842467, 'l1_ratio': 0.07585578855706313}. Best is trial 66 with value: 0.2537662337662338.\n",
      "[I 2025-09-04 15:53:45,246] Trial 83 finished with value: 0.204851419766674 and parameters: {'alpha': 1.1645336858216815, 'l1_ratio': 0.024553842396979608}. Best is trial 66 with value: 0.2537662337662338.\n",
      "[I 2025-09-04 15:53:45,258] Trial 84 finished with value: 0.21620955315870571 and parameters: {'alpha': 0.6052502759756976, 'l1_ratio': 0.06679440817319071}. Best is trial 66 with value: 0.2537662337662338.\n",
      "[I 2025-09-04 15:53:45,269] Trial 85 finished with value: 0.24560202509355053 and parameters: {'alpha': 1.4418469653767865, 'l1_ratio': 0.06694407404523073}. Best is trial 66 with value: 0.2537662337662338.\n",
      "[I 2025-09-04 15:53:45,280] Trial 86 finished with value: 0.0 and parameters: {'alpha': 4.407579410858224, 'l1_ratio': 0.028028741998443213}. Best is trial 66 with value: 0.2537662337662338.\n",
      "[I 2025-09-04 15:53:45,292] Trial 87 finished with value: 0.0 and parameters: {'alpha': 9.093678288375688, 'l1_ratio': 0.1170611105888716}. Best is trial 66 with value: 0.2537662337662338.\n",
      "[I 2025-09-04 15:53:45,304] Trial 88 finished with value: 0.0 and parameters: {'alpha': 2.5837919207716693, 'l1_ratio': 0.14084984675243728}. Best is trial 66 with value: 0.2537662337662338.\n",
      "[I 2025-09-04 15:53:45,317] Trial 89 finished with value: 0.16453664979088709 and parameters: {'alpha': 1.4928345774745397, 'l1_ratio': 0.00028963294537415196}. Best is trial 66 with value: 0.2537662337662338.\n",
      "[I 2025-09-04 15:53:45,328] Trial 90 finished with value: 0.2105546995377504 and parameters: {'alpha': 0.42489077773707146, 'l1_ratio': 0.08198632927864241}. Best is trial 66 with value: 0.2537662337662338.\n",
      "[I 2025-09-04 15:53:45,340] Trial 91 finished with value: 0.21668721109399078 and parameters: {'alpha': 0.7191717155049974, 'l1_ratio': 0.0561161344465419}. Best is trial 66 with value: 0.2537662337662338.\n",
      "[I 2025-09-04 15:53:45,351] Trial 92 finished with value: 0.1961259079903148 and parameters: {'alpha': 1.387295117520607, 'l1_ratio': 0.04619772321820333}. Best is trial 66 with value: 0.2537662337662338.\n",
      "[I 2025-09-04 15:53:45,363] Trial 93 finished with value: 0.0 and parameters: {'alpha': 0.7472371105477773, 'l1_ratio': 0.984474154194404}. Best is trial 66 with value: 0.2537662337662338.\n",
      "[I 2025-09-04 15:53:45,373] Trial 94 finished with value: 0.0 and parameters: {'alpha': 3.241479999796214, 'l1_ratio': 0.06589750253493798}. Best is trial 66 with value: 0.2537662337662338.\n",
      "[I 2025-09-04 15:53:45,385] Trial 95 finished with value: 0.19795509575170595 and parameters: {'alpha': 0.2864901533928624, 'l1_ratio': 0.1047851183747157}. Best is trial 66 with value: 0.2537662337662338.\n"
     ]
    },
    {
     "name": "stderr",
     "output_type": "stream",
     "text": [
      "Best trial: 66. Best value: 0.253766: 100%|██████████| 100/100 [00:02<00:00, 49.15it/s]"
     ]
    },
    {
     "name": "stdout",
     "output_type": "stream",
     "text": [
      "[I 2025-09-04 15:53:45,399] Trial 96 finished with value: 0.17567466431873213 and parameters: {'alpha': 0.19343655478378735, 'l1_ratio': 0.02594231844309361}. Best is trial 66 with value: 0.2537662337662338.\n",
      "[I 2025-09-04 15:53:45,411] Trial 97 finished with value: 0.17703720008804755 and parameters: {'alpha': 0.8363529292604558, 'l1_ratio': 0.12135737412041087}. Best is trial 66 with value: 0.2537662337662338.\n",
      "[I 2025-09-04 15:53:45,423] Trial 98 finished with value: 0.23399735857362977 and parameters: {'alpha': 0.5641900645266728, 'l1_ratio': 0.17445310844758521}. Best is trial 66 with value: 0.2537662337662338.\n",
      "[I 2025-09-04 15:53:45,435] Trial 99 finished with value: 0.0 and parameters: {'alpha': 1.0899143886704212, 'l1_ratio': 0.1684717743700837}. Best is trial 66 with value: 0.2537662337662338.\n",
      "Best ElasticNet params (FR): {'alpha': 2.6063762197610645, 'l1_ratio': 0.03581766431710168}\n",
      "FR Validation Spearman — ElasticNet (HPO): 0.2538\n",
      "Saved final_model_FR.joblib and final_model_FR_meta.json\n"
     ]
    },
    {
     "name": "stderr",
     "output_type": "stream",
     "text": [
      "\n"
     ]
    }
   ],
   "source": [
    "import json, joblib, datetime as dt\n",
    "\n",
    "# --- France split (uses your existing country_split + engineered X_train_en / X_val_en) ---\n",
    "Xtr_FR, ytr_FR = country_split(X_train_en, y_train, \"FR\")\n",
    "Xva_FR, yva_FR = country_split(X_val_en,   y_val,   \"FR\")\n",
    "\n",
    "num_cols_FR = [c for c in Xtr_FR.columns if c not in [\"ID\",\"DAY_ID\",\"COUNTRY\"]]\n",
    "prep_FR_enet = ColumnTransformer([\n",
    "    (\"num\", Pipeline([\n",
    "        (\"imputer\", SimpleImputer(strategy=\"median\")),\n",
    "        (\"scaler\", StandardScaler())\n",
    "    ]), num_cols_FR)\n",
    "], remainder=\"drop\")\n",
    "\n",
    "def objective_enet(trial):\n",
    "    alpha     = trial.suggest_float(\"alpha\", 1e-4, 100.0, log=True)\n",
    "    l1_ratio  = trial.suggest_float(\"l1_ratio\", 0.0, 1.0)\n",
    "\n",
    "    enet = ElasticNet(alpha=alpha, l1_ratio=l1_ratio, max_iter=5_000, random_state=42)\n",
    "    pipe = Pipeline([(\"prep\", prep_FR_enet), (\"model\", enet)])\n",
    "    pipe.fit(Xtr_FR, ytr_FR)\n",
    "    pred = pipe.predict(Xva_FR)\n",
    "    return spearman_metric(yva_FR, pred)\n",
    "\n",
    "study = optuna.create_study(direction=\"maximize\")\n",
    "study.optimize(objective_enet, n_trials=100, show_progress_bar=True)\n",
    "\n",
    "best_params_fr = study.best_params\n",
    "print(\"Best ElasticNet params (FR):\", best_params_fr)\n",
    "\n",
    "# Train final ElasticNet with best params\n",
    "enet_best = ElasticNet(max_iter=10000, random_state=42, **best_params_fr)\n",
    "# Final FR pipeline = preprocessing + model\n",
    "final_model_FR = Pipeline([(\"prep\", prep_FR_enet), (\"model\", enet_best)])\n",
    "final_model_FR.fit(Xtr_FR, ytr_FR)\n",
    "\n",
    "# Validate once more (for the record)\n",
    "pred_enet_best = final_model_FR.predict(Xva_FR)\n",
    "val_spearman   = spearman_metric(yva_FR, pred_enet_best)\n",
    "print(\"FR Validation Spearman — ElasticNet (HPO):\", round(val_spearman, 4))\n",
    "\n",
    "# --- Save model and metadata ---\n",
    "joblib.dump(final_model_FR, \"final_model_FR.joblib\")\n",
    "\n",
    "metadata = {\n",
    "    \"created_at\": dt.datetime.utcnow().isoformat() + \"Z\",\n",
    "    \"country\": \"FR\",\n",
    "    \"model_type\": \"ElasticNet\",\n",
    "    \"best_params\": best_params_fr,\n",
    "    \"val_spearman\": float(val_spearman),\n",
    "    \"feature_columns\": num_cols_FR,\n",
    "}\n",
    "with open(\"final_model_FR_meta.json\", \"w\") as f:\n",
    "    json.dump(metadata, f, indent=2)\n",
    "\n",
    "print(\"Saved final_model_FR.joblib and final_model_FR_meta.json\")"
   ]
  },
  {
   "cell_type": "markdown",
   "id": "b73e5da5",
   "metadata": {},
   "source": [
    "---"
   ]
  },
  {
   "cell_type": "markdown",
   "id": "c3832c01",
   "metadata": {},
   "source": [
    "## Final Prediction & Submission"
   ]
  },
  {
   "cell_type": "code",
   "execution_count": 185,
   "id": "0a1c1cdd",
   "metadata": {},
   "outputs": [
    {
     "data": {
      "text/html": [
       "<style>#sk-container-id-2 {\n",
       "  /* Definition of color scheme common for light and dark mode */\n",
       "  --sklearn-color-text: black;\n",
       "  --sklearn-color-line: gray;\n",
       "  /* Definition of color scheme for unfitted estimators */\n",
       "  --sklearn-color-unfitted-level-0: #fff5e6;\n",
       "  --sklearn-color-unfitted-level-1: #f6e4d2;\n",
       "  --sklearn-color-unfitted-level-2: #ffe0b3;\n",
       "  --sklearn-color-unfitted-level-3: chocolate;\n",
       "  /* Definition of color scheme for fitted estimators */\n",
       "  --sklearn-color-fitted-level-0: #f0f8ff;\n",
       "  --sklearn-color-fitted-level-1: #d4ebff;\n",
       "  --sklearn-color-fitted-level-2: #b3dbfd;\n",
       "  --sklearn-color-fitted-level-3: cornflowerblue;\n",
       "\n",
       "  /* Specific color for light theme */\n",
       "  --sklearn-color-text-on-default-background: var(--sg-text-color, var(--theme-code-foreground, var(--jp-content-font-color1, black)));\n",
       "  --sklearn-color-background: var(--sg-background-color, var(--theme-background, var(--jp-layout-color0, white)));\n",
       "  --sklearn-color-border-box: var(--sg-text-color, var(--theme-code-foreground, var(--jp-content-font-color1, black)));\n",
       "  --sklearn-color-icon: #696969;\n",
       "\n",
       "  @media (prefers-color-scheme: dark) {\n",
       "    /* Redefinition of color scheme for dark theme */\n",
       "    --sklearn-color-text-on-default-background: var(--sg-text-color, var(--theme-code-foreground, var(--jp-content-font-color1, white)));\n",
       "    --sklearn-color-background: var(--sg-background-color, var(--theme-background, var(--jp-layout-color0, #111)));\n",
       "    --sklearn-color-border-box: var(--sg-text-color, var(--theme-code-foreground, var(--jp-content-font-color1, white)));\n",
       "    --sklearn-color-icon: #878787;\n",
       "  }\n",
       "}\n",
       "\n",
       "#sk-container-id-2 {\n",
       "  color: var(--sklearn-color-text);\n",
       "}\n",
       "\n",
       "#sk-container-id-2 pre {\n",
       "  padding: 0;\n",
       "}\n",
       "\n",
       "#sk-container-id-2 input.sk-hidden--visually {\n",
       "  border: 0;\n",
       "  clip: rect(1px 1px 1px 1px);\n",
       "  clip: rect(1px, 1px, 1px, 1px);\n",
       "  height: 1px;\n",
       "  margin: -1px;\n",
       "  overflow: hidden;\n",
       "  padding: 0;\n",
       "  position: absolute;\n",
       "  width: 1px;\n",
       "}\n",
       "\n",
       "#sk-container-id-2 div.sk-dashed-wrapped {\n",
       "  border: 1px dashed var(--sklearn-color-line);\n",
       "  margin: 0 0.4em 0.5em 0.4em;\n",
       "  box-sizing: border-box;\n",
       "  padding-bottom: 0.4em;\n",
       "  background-color: var(--sklearn-color-background);\n",
       "}\n",
       "\n",
       "#sk-container-id-2 div.sk-container {\n",
       "  /* jupyter's `normalize.less` sets `[hidden] { display: none; }`\n",
       "     but bootstrap.min.css set `[hidden] { display: none !important; }`\n",
       "     so we also need the `!important` here to be able to override the\n",
       "     default hidden behavior on the sphinx rendered scikit-learn.org.\n",
       "     See: https://github.com/scikit-learn/scikit-learn/issues/21755 */\n",
       "  display: inline-block !important;\n",
       "  position: relative;\n",
       "}\n",
       "\n",
       "#sk-container-id-2 div.sk-text-repr-fallback {\n",
       "  display: none;\n",
       "}\n",
       "\n",
       "div.sk-parallel-item,\n",
       "div.sk-serial,\n",
       "div.sk-item {\n",
       "  /* draw centered vertical line to link estimators */\n",
       "  background-image: linear-gradient(var(--sklearn-color-text-on-default-background), var(--sklearn-color-text-on-default-background));\n",
       "  background-size: 2px 100%;\n",
       "  background-repeat: no-repeat;\n",
       "  background-position: center center;\n",
       "}\n",
       "\n",
       "/* Parallel-specific style estimator block */\n",
       "\n",
       "#sk-container-id-2 div.sk-parallel-item::after {\n",
       "  content: \"\";\n",
       "  width: 100%;\n",
       "  border-bottom: 2px solid var(--sklearn-color-text-on-default-background);\n",
       "  flex-grow: 1;\n",
       "}\n",
       "\n",
       "#sk-container-id-2 div.sk-parallel {\n",
       "  display: flex;\n",
       "  align-items: stretch;\n",
       "  justify-content: center;\n",
       "  background-color: var(--sklearn-color-background);\n",
       "  position: relative;\n",
       "}\n",
       "\n",
       "#sk-container-id-2 div.sk-parallel-item {\n",
       "  display: flex;\n",
       "  flex-direction: column;\n",
       "}\n",
       "\n",
       "#sk-container-id-2 div.sk-parallel-item:first-child::after {\n",
       "  align-self: flex-end;\n",
       "  width: 50%;\n",
       "}\n",
       "\n",
       "#sk-container-id-2 div.sk-parallel-item:last-child::after {\n",
       "  align-self: flex-start;\n",
       "  width: 50%;\n",
       "}\n",
       "\n",
       "#sk-container-id-2 div.sk-parallel-item:only-child::after {\n",
       "  width: 0;\n",
       "}\n",
       "\n",
       "/* Serial-specific style estimator block */\n",
       "\n",
       "#sk-container-id-2 div.sk-serial {\n",
       "  display: flex;\n",
       "  flex-direction: column;\n",
       "  align-items: center;\n",
       "  background-color: var(--sklearn-color-background);\n",
       "  padding-right: 1em;\n",
       "  padding-left: 1em;\n",
       "}\n",
       "\n",
       "\n",
       "/* Toggleable style: style used for estimator/Pipeline/ColumnTransformer box that is\n",
       "clickable and can be expanded/collapsed.\n",
       "- Pipeline and ColumnTransformer use this feature and define the default style\n",
       "- Estimators will overwrite some part of the style using the `sk-estimator` class\n",
       "*/\n",
       "\n",
       "/* Pipeline and ColumnTransformer style (default) */\n",
       "\n",
       "#sk-container-id-2 div.sk-toggleable {\n",
       "  /* Default theme specific background. It is overwritten whether we have a\n",
       "  specific estimator or a Pipeline/ColumnTransformer */\n",
       "  background-color: var(--sklearn-color-background);\n",
       "}\n",
       "\n",
       "/* Toggleable label */\n",
       "#sk-container-id-2 label.sk-toggleable__label {\n",
       "  cursor: pointer;\n",
       "  display: block;\n",
       "  width: 100%;\n",
       "  margin-bottom: 0;\n",
       "  padding: 0.5em;\n",
       "  box-sizing: border-box;\n",
       "  text-align: center;\n",
       "}\n",
       "\n",
       "#sk-container-id-2 label.sk-toggleable__label-arrow:before {\n",
       "  /* Arrow on the left of the label */\n",
       "  content: \"▸\";\n",
       "  float: left;\n",
       "  margin-right: 0.25em;\n",
       "  color: var(--sklearn-color-icon);\n",
       "}\n",
       "\n",
       "#sk-container-id-2 label.sk-toggleable__label-arrow:hover:before {\n",
       "  color: var(--sklearn-color-text);\n",
       "}\n",
       "\n",
       "/* Toggleable content - dropdown */\n",
       "\n",
       "#sk-container-id-2 div.sk-toggleable__content {\n",
       "  max-height: 0;\n",
       "  max-width: 0;\n",
       "  overflow: hidden;\n",
       "  text-align: left;\n",
       "  /* unfitted */\n",
       "  background-color: var(--sklearn-color-unfitted-level-0);\n",
       "}\n",
       "\n",
       "#sk-container-id-2 div.sk-toggleable__content.fitted {\n",
       "  /* fitted */\n",
       "  background-color: var(--sklearn-color-fitted-level-0);\n",
       "}\n",
       "\n",
       "#sk-container-id-2 div.sk-toggleable__content pre {\n",
       "  margin: 0.2em;\n",
       "  border-radius: 0.25em;\n",
       "  color: var(--sklearn-color-text);\n",
       "  /* unfitted */\n",
       "  background-color: var(--sklearn-color-unfitted-level-0);\n",
       "}\n",
       "\n",
       "#sk-container-id-2 div.sk-toggleable__content.fitted pre {\n",
       "  /* unfitted */\n",
       "  background-color: var(--sklearn-color-fitted-level-0);\n",
       "}\n",
       "\n",
       "#sk-container-id-2 input.sk-toggleable__control:checked~div.sk-toggleable__content {\n",
       "  /* Expand drop-down */\n",
       "  max-height: 200px;\n",
       "  max-width: 100%;\n",
       "  overflow: auto;\n",
       "}\n",
       "\n",
       "#sk-container-id-2 input.sk-toggleable__control:checked~label.sk-toggleable__label-arrow:before {\n",
       "  content: \"▾\";\n",
       "}\n",
       "\n",
       "/* Pipeline/ColumnTransformer-specific style */\n",
       "\n",
       "#sk-container-id-2 div.sk-label input.sk-toggleable__control:checked~label.sk-toggleable__label {\n",
       "  color: var(--sklearn-color-text);\n",
       "  background-color: var(--sklearn-color-unfitted-level-2);\n",
       "}\n",
       "\n",
       "#sk-container-id-2 div.sk-label.fitted input.sk-toggleable__control:checked~label.sk-toggleable__label {\n",
       "  background-color: var(--sklearn-color-fitted-level-2);\n",
       "}\n",
       "\n",
       "/* Estimator-specific style */\n",
       "\n",
       "/* Colorize estimator box */\n",
       "#sk-container-id-2 div.sk-estimator input.sk-toggleable__control:checked~label.sk-toggleable__label {\n",
       "  /* unfitted */\n",
       "  background-color: var(--sklearn-color-unfitted-level-2);\n",
       "}\n",
       "\n",
       "#sk-container-id-2 div.sk-estimator.fitted input.sk-toggleable__control:checked~label.sk-toggleable__label {\n",
       "  /* fitted */\n",
       "  background-color: var(--sklearn-color-fitted-level-2);\n",
       "}\n",
       "\n",
       "#sk-container-id-2 div.sk-label label.sk-toggleable__label,\n",
       "#sk-container-id-2 div.sk-label label {\n",
       "  /* The background is the default theme color */\n",
       "  color: var(--sklearn-color-text-on-default-background);\n",
       "}\n",
       "\n",
       "/* On hover, darken the color of the background */\n",
       "#sk-container-id-2 div.sk-label:hover label.sk-toggleable__label {\n",
       "  color: var(--sklearn-color-text);\n",
       "  background-color: var(--sklearn-color-unfitted-level-2);\n",
       "}\n",
       "\n",
       "/* Label box, darken color on hover, fitted */\n",
       "#sk-container-id-2 div.sk-label.fitted:hover label.sk-toggleable__label.fitted {\n",
       "  color: var(--sklearn-color-text);\n",
       "  background-color: var(--sklearn-color-fitted-level-2);\n",
       "}\n",
       "\n",
       "/* Estimator label */\n",
       "\n",
       "#sk-container-id-2 div.sk-label label {\n",
       "  font-family: monospace;\n",
       "  font-weight: bold;\n",
       "  display: inline-block;\n",
       "  line-height: 1.2em;\n",
       "}\n",
       "\n",
       "#sk-container-id-2 div.sk-label-container {\n",
       "  text-align: center;\n",
       "}\n",
       "\n",
       "/* Estimator-specific */\n",
       "#sk-container-id-2 div.sk-estimator {\n",
       "  font-family: monospace;\n",
       "  border: 1px dotted var(--sklearn-color-border-box);\n",
       "  border-radius: 0.25em;\n",
       "  box-sizing: border-box;\n",
       "  margin-bottom: 0.5em;\n",
       "  /* unfitted */\n",
       "  background-color: var(--sklearn-color-unfitted-level-0);\n",
       "}\n",
       "\n",
       "#sk-container-id-2 div.sk-estimator.fitted {\n",
       "  /* fitted */\n",
       "  background-color: var(--sklearn-color-fitted-level-0);\n",
       "}\n",
       "\n",
       "/* on hover */\n",
       "#sk-container-id-2 div.sk-estimator:hover {\n",
       "  /* unfitted */\n",
       "  background-color: var(--sklearn-color-unfitted-level-2);\n",
       "}\n",
       "\n",
       "#sk-container-id-2 div.sk-estimator.fitted:hover {\n",
       "  /* fitted */\n",
       "  background-color: var(--sklearn-color-fitted-level-2);\n",
       "}\n",
       "\n",
       "/* Specification for estimator info (e.g. \"i\" and \"?\") */\n",
       "\n",
       "/* Common style for \"i\" and \"?\" */\n",
       "\n",
       ".sk-estimator-doc-link,\n",
       "a:link.sk-estimator-doc-link,\n",
       "a:visited.sk-estimator-doc-link {\n",
       "  float: right;\n",
       "  font-size: smaller;\n",
       "  line-height: 1em;\n",
       "  font-family: monospace;\n",
       "  background-color: var(--sklearn-color-background);\n",
       "  border-radius: 1em;\n",
       "  height: 1em;\n",
       "  width: 1em;\n",
       "  text-decoration: none !important;\n",
       "  margin-left: 1ex;\n",
       "  /* unfitted */\n",
       "  border: var(--sklearn-color-unfitted-level-1) 1pt solid;\n",
       "  color: var(--sklearn-color-unfitted-level-1);\n",
       "}\n",
       "\n",
       ".sk-estimator-doc-link.fitted,\n",
       "a:link.sk-estimator-doc-link.fitted,\n",
       "a:visited.sk-estimator-doc-link.fitted {\n",
       "  /* fitted */\n",
       "  border: var(--sklearn-color-fitted-level-1) 1pt solid;\n",
       "  color: var(--sklearn-color-fitted-level-1);\n",
       "}\n",
       "\n",
       "/* On hover */\n",
       "div.sk-estimator:hover .sk-estimator-doc-link:hover,\n",
       ".sk-estimator-doc-link:hover,\n",
       "div.sk-label-container:hover .sk-estimator-doc-link:hover,\n",
       ".sk-estimator-doc-link:hover {\n",
       "  /* unfitted */\n",
       "  background-color: var(--sklearn-color-unfitted-level-3);\n",
       "  color: var(--sklearn-color-background);\n",
       "  text-decoration: none;\n",
       "}\n",
       "\n",
       "div.sk-estimator.fitted:hover .sk-estimator-doc-link.fitted:hover,\n",
       ".sk-estimator-doc-link.fitted:hover,\n",
       "div.sk-label-container:hover .sk-estimator-doc-link.fitted:hover,\n",
       ".sk-estimator-doc-link.fitted:hover {\n",
       "  /* fitted */\n",
       "  background-color: var(--sklearn-color-fitted-level-3);\n",
       "  color: var(--sklearn-color-background);\n",
       "  text-decoration: none;\n",
       "}\n",
       "\n",
       "/* Span, style for the box shown on hovering the info icon */\n",
       ".sk-estimator-doc-link span {\n",
       "  display: none;\n",
       "  z-index: 9999;\n",
       "  position: relative;\n",
       "  font-weight: normal;\n",
       "  right: .2ex;\n",
       "  padding: .5ex;\n",
       "  margin: .5ex;\n",
       "  width: min-content;\n",
       "  min-width: 20ex;\n",
       "  max-width: 50ex;\n",
       "  color: var(--sklearn-color-text);\n",
       "  box-shadow: 2pt 2pt 4pt #999;\n",
       "  /* unfitted */\n",
       "  background: var(--sklearn-color-unfitted-level-0);\n",
       "  border: .5pt solid var(--sklearn-color-unfitted-level-3);\n",
       "}\n",
       "\n",
       ".sk-estimator-doc-link.fitted span {\n",
       "  /* fitted */\n",
       "  background: var(--sklearn-color-fitted-level-0);\n",
       "  border: var(--sklearn-color-fitted-level-3);\n",
       "}\n",
       "\n",
       ".sk-estimator-doc-link:hover span {\n",
       "  display: block;\n",
       "}\n",
       "\n",
       "/* \"?\"-specific style due to the `<a>` HTML tag */\n",
       "\n",
       "#sk-container-id-2 a.estimator_doc_link {\n",
       "  float: right;\n",
       "  font-size: 1rem;\n",
       "  line-height: 1em;\n",
       "  font-family: monospace;\n",
       "  background-color: var(--sklearn-color-background);\n",
       "  border-radius: 1rem;\n",
       "  height: 1rem;\n",
       "  width: 1rem;\n",
       "  text-decoration: none;\n",
       "  /* unfitted */\n",
       "  color: var(--sklearn-color-unfitted-level-1);\n",
       "  border: var(--sklearn-color-unfitted-level-1) 1pt solid;\n",
       "}\n",
       "\n",
       "#sk-container-id-2 a.estimator_doc_link.fitted {\n",
       "  /* fitted */\n",
       "  border: var(--sklearn-color-fitted-level-1) 1pt solid;\n",
       "  color: var(--sklearn-color-fitted-level-1);\n",
       "}\n",
       "\n",
       "/* On hover */\n",
       "#sk-container-id-2 a.estimator_doc_link:hover {\n",
       "  /* unfitted */\n",
       "  background-color: var(--sklearn-color-unfitted-level-3);\n",
       "  color: var(--sklearn-color-background);\n",
       "  text-decoration: none;\n",
       "}\n",
       "\n",
       "#sk-container-id-2 a.estimator_doc_link.fitted:hover {\n",
       "  /* fitted */\n",
       "  background-color: var(--sklearn-color-fitted-level-3);\n",
       "}\n",
       "</style><div id=\"sk-container-id-2\" class=\"sk-top-container\"><div class=\"sk-text-repr-fallback\"><pre>LGBMRegressor(bagging_fraction=0.6007416126537491, bagging_freq=7,\n",
       "              feature_fraction=0.9495022433234174,\n",
       "              learning_rate=0.08306320613415273, max_depth=7,\n",
       "              min_data_in_leaf=49, n_jobs=1, num_leaves=674,\n",
       "              objective=&#x27;regression&#x27;, reg_alpha=7.89963591204457,\n",
       "              reg_lambda=4.203535328336757, verbose=-1)</pre><b>In a Jupyter environment, please rerun this cell to show the HTML representation or trust the notebook. <br />On GitHub, the HTML representation is unable to render, please try loading this page with nbviewer.org.</b></div><div class=\"sk-container\" hidden><div class=\"sk-item\"><div class=\"sk-estimator fitted sk-toggleable\"><input class=\"sk-toggleable__control sk-hidden--visually\" id=\"sk-estimator-id-2\" type=\"checkbox\" checked><label for=\"sk-estimator-id-2\" class=\"sk-toggleable__label fitted sk-toggleable__label-arrow fitted\">&nbsp;LGBMRegressor<span class=\"sk-estimator-doc-link fitted\">i<span>Fitted</span></span></label><div class=\"sk-toggleable__content fitted\"><pre>LGBMRegressor(bagging_fraction=0.6007416126537491, bagging_freq=7,\n",
       "              feature_fraction=0.9495022433234174,\n",
       "              learning_rate=0.08306320613415273, max_depth=7,\n",
       "              min_data_in_leaf=49, n_jobs=1, num_leaves=674,\n",
       "              objective=&#x27;regression&#x27;, reg_alpha=7.89963591204457,\n",
       "              reg_lambda=4.203535328336757, verbose=-1)</pre></div> </div></div></div></div>"
      ],
      "text/plain": [
       "LGBMRegressor(bagging_fraction=0.6007416126537491, bagging_freq=7,\n",
       "              feature_fraction=0.9495022433234174,\n",
       "              learning_rate=0.08306320613415273, max_depth=7,\n",
       "              min_data_in_leaf=49, n_jobs=1, num_leaves=674,\n",
       "              objective='regression', reg_alpha=7.89963591204457,\n",
       "              reg_lambda=4.203535328336757, verbose=-1)"
      ]
     },
     "execution_count": 185,
     "metadata": {},
     "output_type": "execute_result"
    }
   ],
   "source": [
    "final_model_DE"
   ]
  },
  {
   "cell_type": "code",
   "execution_count": 186,
   "id": "8af0adcb",
   "metadata": {},
   "outputs": [
    {
     "data": {
      "text/html": [
       "<style>#sk-container-id-3 {\n",
       "  /* Definition of color scheme common for light and dark mode */\n",
       "  --sklearn-color-text: black;\n",
       "  --sklearn-color-line: gray;\n",
       "  /* Definition of color scheme for unfitted estimators */\n",
       "  --sklearn-color-unfitted-level-0: #fff5e6;\n",
       "  --sklearn-color-unfitted-level-1: #f6e4d2;\n",
       "  --sklearn-color-unfitted-level-2: #ffe0b3;\n",
       "  --sklearn-color-unfitted-level-3: chocolate;\n",
       "  /* Definition of color scheme for fitted estimators */\n",
       "  --sklearn-color-fitted-level-0: #f0f8ff;\n",
       "  --sklearn-color-fitted-level-1: #d4ebff;\n",
       "  --sklearn-color-fitted-level-2: #b3dbfd;\n",
       "  --sklearn-color-fitted-level-3: cornflowerblue;\n",
       "\n",
       "  /* Specific color for light theme */\n",
       "  --sklearn-color-text-on-default-background: var(--sg-text-color, var(--theme-code-foreground, var(--jp-content-font-color1, black)));\n",
       "  --sklearn-color-background: var(--sg-background-color, var(--theme-background, var(--jp-layout-color0, white)));\n",
       "  --sklearn-color-border-box: var(--sg-text-color, var(--theme-code-foreground, var(--jp-content-font-color1, black)));\n",
       "  --sklearn-color-icon: #696969;\n",
       "\n",
       "  @media (prefers-color-scheme: dark) {\n",
       "    /* Redefinition of color scheme for dark theme */\n",
       "    --sklearn-color-text-on-default-background: var(--sg-text-color, var(--theme-code-foreground, var(--jp-content-font-color1, white)));\n",
       "    --sklearn-color-background: var(--sg-background-color, var(--theme-background, var(--jp-layout-color0, #111)));\n",
       "    --sklearn-color-border-box: var(--sg-text-color, var(--theme-code-foreground, var(--jp-content-font-color1, white)));\n",
       "    --sklearn-color-icon: #878787;\n",
       "  }\n",
       "}\n",
       "\n",
       "#sk-container-id-3 {\n",
       "  color: var(--sklearn-color-text);\n",
       "}\n",
       "\n",
       "#sk-container-id-3 pre {\n",
       "  padding: 0;\n",
       "}\n",
       "\n",
       "#sk-container-id-3 input.sk-hidden--visually {\n",
       "  border: 0;\n",
       "  clip: rect(1px 1px 1px 1px);\n",
       "  clip: rect(1px, 1px, 1px, 1px);\n",
       "  height: 1px;\n",
       "  margin: -1px;\n",
       "  overflow: hidden;\n",
       "  padding: 0;\n",
       "  position: absolute;\n",
       "  width: 1px;\n",
       "}\n",
       "\n",
       "#sk-container-id-3 div.sk-dashed-wrapped {\n",
       "  border: 1px dashed var(--sklearn-color-line);\n",
       "  margin: 0 0.4em 0.5em 0.4em;\n",
       "  box-sizing: border-box;\n",
       "  padding-bottom: 0.4em;\n",
       "  background-color: var(--sklearn-color-background);\n",
       "}\n",
       "\n",
       "#sk-container-id-3 div.sk-container {\n",
       "  /* jupyter's `normalize.less` sets `[hidden] { display: none; }`\n",
       "     but bootstrap.min.css set `[hidden] { display: none !important; }`\n",
       "     so we also need the `!important` here to be able to override the\n",
       "     default hidden behavior on the sphinx rendered scikit-learn.org.\n",
       "     See: https://github.com/scikit-learn/scikit-learn/issues/21755 */\n",
       "  display: inline-block !important;\n",
       "  position: relative;\n",
       "}\n",
       "\n",
       "#sk-container-id-3 div.sk-text-repr-fallback {\n",
       "  display: none;\n",
       "}\n",
       "\n",
       "div.sk-parallel-item,\n",
       "div.sk-serial,\n",
       "div.sk-item {\n",
       "  /* draw centered vertical line to link estimators */\n",
       "  background-image: linear-gradient(var(--sklearn-color-text-on-default-background), var(--sklearn-color-text-on-default-background));\n",
       "  background-size: 2px 100%;\n",
       "  background-repeat: no-repeat;\n",
       "  background-position: center center;\n",
       "}\n",
       "\n",
       "/* Parallel-specific style estimator block */\n",
       "\n",
       "#sk-container-id-3 div.sk-parallel-item::after {\n",
       "  content: \"\";\n",
       "  width: 100%;\n",
       "  border-bottom: 2px solid var(--sklearn-color-text-on-default-background);\n",
       "  flex-grow: 1;\n",
       "}\n",
       "\n",
       "#sk-container-id-3 div.sk-parallel {\n",
       "  display: flex;\n",
       "  align-items: stretch;\n",
       "  justify-content: center;\n",
       "  background-color: var(--sklearn-color-background);\n",
       "  position: relative;\n",
       "}\n",
       "\n",
       "#sk-container-id-3 div.sk-parallel-item {\n",
       "  display: flex;\n",
       "  flex-direction: column;\n",
       "}\n",
       "\n",
       "#sk-container-id-3 div.sk-parallel-item:first-child::after {\n",
       "  align-self: flex-end;\n",
       "  width: 50%;\n",
       "}\n",
       "\n",
       "#sk-container-id-3 div.sk-parallel-item:last-child::after {\n",
       "  align-self: flex-start;\n",
       "  width: 50%;\n",
       "}\n",
       "\n",
       "#sk-container-id-3 div.sk-parallel-item:only-child::after {\n",
       "  width: 0;\n",
       "}\n",
       "\n",
       "/* Serial-specific style estimator block */\n",
       "\n",
       "#sk-container-id-3 div.sk-serial {\n",
       "  display: flex;\n",
       "  flex-direction: column;\n",
       "  align-items: center;\n",
       "  background-color: var(--sklearn-color-background);\n",
       "  padding-right: 1em;\n",
       "  padding-left: 1em;\n",
       "}\n",
       "\n",
       "\n",
       "/* Toggleable style: style used for estimator/Pipeline/ColumnTransformer box that is\n",
       "clickable and can be expanded/collapsed.\n",
       "- Pipeline and ColumnTransformer use this feature and define the default style\n",
       "- Estimators will overwrite some part of the style using the `sk-estimator` class\n",
       "*/\n",
       "\n",
       "/* Pipeline and ColumnTransformer style (default) */\n",
       "\n",
       "#sk-container-id-3 div.sk-toggleable {\n",
       "  /* Default theme specific background. It is overwritten whether we have a\n",
       "  specific estimator or a Pipeline/ColumnTransformer */\n",
       "  background-color: var(--sklearn-color-background);\n",
       "}\n",
       "\n",
       "/* Toggleable label */\n",
       "#sk-container-id-3 label.sk-toggleable__label {\n",
       "  cursor: pointer;\n",
       "  display: block;\n",
       "  width: 100%;\n",
       "  margin-bottom: 0;\n",
       "  padding: 0.5em;\n",
       "  box-sizing: border-box;\n",
       "  text-align: center;\n",
       "}\n",
       "\n",
       "#sk-container-id-3 label.sk-toggleable__label-arrow:before {\n",
       "  /* Arrow on the left of the label */\n",
       "  content: \"▸\";\n",
       "  float: left;\n",
       "  margin-right: 0.25em;\n",
       "  color: var(--sklearn-color-icon);\n",
       "}\n",
       "\n",
       "#sk-container-id-3 label.sk-toggleable__label-arrow:hover:before {\n",
       "  color: var(--sklearn-color-text);\n",
       "}\n",
       "\n",
       "/* Toggleable content - dropdown */\n",
       "\n",
       "#sk-container-id-3 div.sk-toggleable__content {\n",
       "  max-height: 0;\n",
       "  max-width: 0;\n",
       "  overflow: hidden;\n",
       "  text-align: left;\n",
       "  /* unfitted */\n",
       "  background-color: var(--sklearn-color-unfitted-level-0);\n",
       "}\n",
       "\n",
       "#sk-container-id-3 div.sk-toggleable__content.fitted {\n",
       "  /* fitted */\n",
       "  background-color: var(--sklearn-color-fitted-level-0);\n",
       "}\n",
       "\n",
       "#sk-container-id-3 div.sk-toggleable__content pre {\n",
       "  margin: 0.2em;\n",
       "  border-radius: 0.25em;\n",
       "  color: var(--sklearn-color-text);\n",
       "  /* unfitted */\n",
       "  background-color: var(--sklearn-color-unfitted-level-0);\n",
       "}\n",
       "\n",
       "#sk-container-id-3 div.sk-toggleable__content.fitted pre {\n",
       "  /* unfitted */\n",
       "  background-color: var(--sklearn-color-fitted-level-0);\n",
       "}\n",
       "\n",
       "#sk-container-id-3 input.sk-toggleable__control:checked~div.sk-toggleable__content {\n",
       "  /* Expand drop-down */\n",
       "  max-height: 200px;\n",
       "  max-width: 100%;\n",
       "  overflow: auto;\n",
       "}\n",
       "\n",
       "#sk-container-id-3 input.sk-toggleable__control:checked~label.sk-toggleable__label-arrow:before {\n",
       "  content: \"▾\";\n",
       "}\n",
       "\n",
       "/* Pipeline/ColumnTransformer-specific style */\n",
       "\n",
       "#sk-container-id-3 div.sk-label input.sk-toggleable__control:checked~label.sk-toggleable__label {\n",
       "  color: var(--sklearn-color-text);\n",
       "  background-color: var(--sklearn-color-unfitted-level-2);\n",
       "}\n",
       "\n",
       "#sk-container-id-3 div.sk-label.fitted input.sk-toggleable__control:checked~label.sk-toggleable__label {\n",
       "  background-color: var(--sklearn-color-fitted-level-2);\n",
       "}\n",
       "\n",
       "/* Estimator-specific style */\n",
       "\n",
       "/* Colorize estimator box */\n",
       "#sk-container-id-3 div.sk-estimator input.sk-toggleable__control:checked~label.sk-toggleable__label {\n",
       "  /* unfitted */\n",
       "  background-color: var(--sklearn-color-unfitted-level-2);\n",
       "}\n",
       "\n",
       "#sk-container-id-3 div.sk-estimator.fitted input.sk-toggleable__control:checked~label.sk-toggleable__label {\n",
       "  /* fitted */\n",
       "  background-color: var(--sklearn-color-fitted-level-2);\n",
       "}\n",
       "\n",
       "#sk-container-id-3 div.sk-label label.sk-toggleable__label,\n",
       "#sk-container-id-3 div.sk-label label {\n",
       "  /* The background is the default theme color */\n",
       "  color: var(--sklearn-color-text-on-default-background);\n",
       "}\n",
       "\n",
       "/* On hover, darken the color of the background */\n",
       "#sk-container-id-3 div.sk-label:hover label.sk-toggleable__label {\n",
       "  color: var(--sklearn-color-text);\n",
       "  background-color: var(--sklearn-color-unfitted-level-2);\n",
       "}\n",
       "\n",
       "/* Label box, darken color on hover, fitted */\n",
       "#sk-container-id-3 div.sk-label.fitted:hover label.sk-toggleable__label.fitted {\n",
       "  color: var(--sklearn-color-text);\n",
       "  background-color: var(--sklearn-color-fitted-level-2);\n",
       "}\n",
       "\n",
       "/* Estimator label */\n",
       "\n",
       "#sk-container-id-3 div.sk-label label {\n",
       "  font-family: monospace;\n",
       "  font-weight: bold;\n",
       "  display: inline-block;\n",
       "  line-height: 1.2em;\n",
       "}\n",
       "\n",
       "#sk-container-id-3 div.sk-label-container {\n",
       "  text-align: center;\n",
       "}\n",
       "\n",
       "/* Estimator-specific */\n",
       "#sk-container-id-3 div.sk-estimator {\n",
       "  font-family: monospace;\n",
       "  border: 1px dotted var(--sklearn-color-border-box);\n",
       "  border-radius: 0.25em;\n",
       "  box-sizing: border-box;\n",
       "  margin-bottom: 0.5em;\n",
       "  /* unfitted */\n",
       "  background-color: var(--sklearn-color-unfitted-level-0);\n",
       "}\n",
       "\n",
       "#sk-container-id-3 div.sk-estimator.fitted {\n",
       "  /* fitted */\n",
       "  background-color: var(--sklearn-color-fitted-level-0);\n",
       "}\n",
       "\n",
       "/* on hover */\n",
       "#sk-container-id-3 div.sk-estimator:hover {\n",
       "  /* unfitted */\n",
       "  background-color: var(--sklearn-color-unfitted-level-2);\n",
       "}\n",
       "\n",
       "#sk-container-id-3 div.sk-estimator.fitted:hover {\n",
       "  /* fitted */\n",
       "  background-color: var(--sklearn-color-fitted-level-2);\n",
       "}\n",
       "\n",
       "/* Specification for estimator info (e.g. \"i\" and \"?\") */\n",
       "\n",
       "/* Common style for \"i\" and \"?\" */\n",
       "\n",
       ".sk-estimator-doc-link,\n",
       "a:link.sk-estimator-doc-link,\n",
       "a:visited.sk-estimator-doc-link {\n",
       "  float: right;\n",
       "  font-size: smaller;\n",
       "  line-height: 1em;\n",
       "  font-family: monospace;\n",
       "  background-color: var(--sklearn-color-background);\n",
       "  border-radius: 1em;\n",
       "  height: 1em;\n",
       "  width: 1em;\n",
       "  text-decoration: none !important;\n",
       "  margin-left: 1ex;\n",
       "  /* unfitted */\n",
       "  border: var(--sklearn-color-unfitted-level-1) 1pt solid;\n",
       "  color: var(--sklearn-color-unfitted-level-1);\n",
       "}\n",
       "\n",
       ".sk-estimator-doc-link.fitted,\n",
       "a:link.sk-estimator-doc-link.fitted,\n",
       "a:visited.sk-estimator-doc-link.fitted {\n",
       "  /* fitted */\n",
       "  border: var(--sklearn-color-fitted-level-1) 1pt solid;\n",
       "  color: var(--sklearn-color-fitted-level-1);\n",
       "}\n",
       "\n",
       "/* On hover */\n",
       "div.sk-estimator:hover .sk-estimator-doc-link:hover,\n",
       ".sk-estimator-doc-link:hover,\n",
       "div.sk-label-container:hover .sk-estimator-doc-link:hover,\n",
       ".sk-estimator-doc-link:hover {\n",
       "  /* unfitted */\n",
       "  background-color: var(--sklearn-color-unfitted-level-3);\n",
       "  color: var(--sklearn-color-background);\n",
       "  text-decoration: none;\n",
       "}\n",
       "\n",
       "div.sk-estimator.fitted:hover .sk-estimator-doc-link.fitted:hover,\n",
       ".sk-estimator-doc-link.fitted:hover,\n",
       "div.sk-label-container:hover .sk-estimator-doc-link.fitted:hover,\n",
       ".sk-estimator-doc-link.fitted:hover {\n",
       "  /* fitted */\n",
       "  background-color: var(--sklearn-color-fitted-level-3);\n",
       "  color: var(--sklearn-color-background);\n",
       "  text-decoration: none;\n",
       "}\n",
       "\n",
       "/* Span, style for the box shown on hovering the info icon */\n",
       ".sk-estimator-doc-link span {\n",
       "  display: none;\n",
       "  z-index: 9999;\n",
       "  position: relative;\n",
       "  font-weight: normal;\n",
       "  right: .2ex;\n",
       "  padding: .5ex;\n",
       "  margin: .5ex;\n",
       "  width: min-content;\n",
       "  min-width: 20ex;\n",
       "  max-width: 50ex;\n",
       "  color: var(--sklearn-color-text);\n",
       "  box-shadow: 2pt 2pt 4pt #999;\n",
       "  /* unfitted */\n",
       "  background: var(--sklearn-color-unfitted-level-0);\n",
       "  border: .5pt solid var(--sklearn-color-unfitted-level-3);\n",
       "}\n",
       "\n",
       ".sk-estimator-doc-link.fitted span {\n",
       "  /* fitted */\n",
       "  background: var(--sklearn-color-fitted-level-0);\n",
       "  border: var(--sklearn-color-fitted-level-3);\n",
       "}\n",
       "\n",
       ".sk-estimator-doc-link:hover span {\n",
       "  display: block;\n",
       "}\n",
       "\n",
       "/* \"?\"-specific style due to the `<a>` HTML tag */\n",
       "\n",
       "#sk-container-id-3 a.estimator_doc_link {\n",
       "  float: right;\n",
       "  font-size: 1rem;\n",
       "  line-height: 1em;\n",
       "  font-family: monospace;\n",
       "  background-color: var(--sklearn-color-background);\n",
       "  border-radius: 1rem;\n",
       "  height: 1rem;\n",
       "  width: 1rem;\n",
       "  text-decoration: none;\n",
       "  /* unfitted */\n",
       "  color: var(--sklearn-color-unfitted-level-1);\n",
       "  border: var(--sklearn-color-unfitted-level-1) 1pt solid;\n",
       "}\n",
       "\n",
       "#sk-container-id-3 a.estimator_doc_link.fitted {\n",
       "  /* fitted */\n",
       "  border: var(--sklearn-color-fitted-level-1) 1pt solid;\n",
       "  color: var(--sklearn-color-fitted-level-1);\n",
       "}\n",
       "\n",
       "/* On hover */\n",
       "#sk-container-id-3 a.estimator_doc_link:hover {\n",
       "  /* unfitted */\n",
       "  background-color: var(--sklearn-color-unfitted-level-3);\n",
       "  color: var(--sklearn-color-background);\n",
       "  text-decoration: none;\n",
       "}\n",
       "\n",
       "#sk-container-id-3 a.estimator_doc_link.fitted:hover {\n",
       "  /* fitted */\n",
       "  background-color: var(--sklearn-color-fitted-level-3);\n",
       "}\n",
       "</style><div id=\"sk-container-id-3\" class=\"sk-top-container\"><div class=\"sk-text-repr-fallback\"><pre>Pipeline(steps=[(&#x27;prep&#x27;,\n",
       "                 ColumnTransformer(transformers=[(&#x27;num&#x27;,\n",
       "                                                  Pipeline(steps=[(&#x27;imputer&#x27;,\n",
       "                                                                   SimpleImputer(strategy=&#x27;median&#x27;)),\n",
       "                                                                  (&#x27;scaler&#x27;,\n",
       "                                                                   StandardScaler())]),\n",
       "                                                  [&#x27;DE_CONSUMPTION&#x27;,\n",
       "                                                   &#x27;FR_CONSUMPTION&#x27;,\n",
       "                                                   &#x27;DE_FR_EXCHANGE&#x27;,\n",
       "                                                   &#x27;FR_DE_EXCHANGE&#x27;,\n",
       "                                                   &#x27;DE_NET_EXPORT&#x27;,\n",
       "                                                   &#x27;FR_NET_EXPORT&#x27;,\n",
       "                                                   &#x27;DE_NET_IMPORT&#x27;,\n",
       "                                                   &#x27;FR_NET_IMPORT&#x27;, &#x27;DE_GAS&#x27;,\n",
       "                                                   &#x27;FR_GAS&#x27;, &#x27;DE_COAL&#x27;,\n",
       "                                                   &#x27;FR_COAL&#x27;, &#x27;DE_HYDRO&#x27;,\n",
       "                                                   &#x27;FR_HYDRO&#x27;, &#x27;DE_NUCLEAR&#x27;,\n",
       "                                                   &#x27;FR_NUCLEAR&#x27;, &#x27;DE_SOLAR&#x27;,\n",
       "                                                   &#x27;FR_SOLAR&#x27;, &#x27;DE_WINDPOW&#x27;,\n",
       "                                                   &#x27;FR_WINDPOW&#x27;, &#x27;DE_LIGNITE&#x27;,\n",
       "                                                   &#x27;DE_RESIDUAL_LOAD&#x27;,\n",
       "                                                   &#x27;FR_RESIDUAL_LOAD&#x27;,\n",
       "                                                   &#x27;DE_RAIN&#x27;, &#x27;FR_RAIN&#x27;,\n",
       "                                                   &#x27;DE_WIND&#x27;, &#x27;FR_WIND&#x27;,\n",
       "                                                   &#x27;DE_TEMP&#x27;, &#x27;FR_TEMP&#x27;,\n",
       "                                                   &#x27;GAS_RET&#x27;, ...])])),\n",
       "                (&#x27;model&#x27;,\n",
       "                 ElasticNet(alpha=2.6063762197610645,\n",
       "                            l1_ratio=0.03581766431710168, max_iter=10000,\n",
       "                            random_state=42))])</pre><b>In a Jupyter environment, please rerun this cell to show the HTML representation or trust the notebook. <br />On GitHub, the HTML representation is unable to render, please try loading this page with nbviewer.org.</b></div><div class=\"sk-container\" hidden><div class=\"sk-item sk-dashed-wrapped\"><div class=\"sk-label-container\"><div class=\"sk-label fitted sk-toggleable\"><input class=\"sk-toggleable__control sk-hidden--visually\" id=\"sk-estimator-id-3\" type=\"checkbox\" ><label for=\"sk-estimator-id-3\" class=\"sk-toggleable__label fitted sk-toggleable__label-arrow fitted\">&nbsp;&nbsp;Pipeline<a class=\"sk-estimator-doc-link fitted\" rel=\"noreferrer\" target=\"_blank\" href=\"https://scikit-learn.org/1.5/modules/generated/sklearn.pipeline.Pipeline.html\">?<span>Documentation for Pipeline</span></a><span class=\"sk-estimator-doc-link fitted\">i<span>Fitted</span></span></label><div class=\"sk-toggleable__content fitted\"><pre>Pipeline(steps=[(&#x27;prep&#x27;,\n",
       "                 ColumnTransformer(transformers=[(&#x27;num&#x27;,\n",
       "                                                  Pipeline(steps=[(&#x27;imputer&#x27;,\n",
       "                                                                   SimpleImputer(strategy=&#x27;median&#x27;)),\n",
       "                                                                  (&#x27;scaler&#x27;,\n",
       "                                                                   StandardScaler())]),\n",
       "                                                  [&#x27;DE_CONSUMPTION&#x27;,\n",
       "                                                   &#x27;FR_CONSUMPTION&#x27;,\n",
       "                                                   &#x27;DE_FR_EXCHANGE&#x27;,\n",
       "                                                   &#x27;FR_DE_EXCHANGE&#x27;,\n",
       "                                                   &#x27;DE_NET_EXPORT&#x27;,\n",
       "                                                   &#x27;FR_NET_EXPORT&#x27;,\n",
       "                                                   &#x27;DE_NET_IMPORT&#x27;,\n",
       "                                                   &#x27;FR_NET_IMPORT&#x27;, &#x27;DE_GAS&#x27;,\n",
       "                                                   &#x27;FR_GAS&#x27;, &#x27;DE_COAL&#x27;,\n",
       "                                                   &#x27;FR_COAL&#x27;, &#x27;DE_HYDRO&#x27;,\n",
       "                                                   &#x27;FR_HYDRO&#x27;, &#x27;DE_NUCLEAR&#x27;,\n",
       "                                                   &#x27;FR_NUCLEAR&#x27;, &#x27;DE_SOLAR&#x27;,\n",
       "                                                   &#x27;FR_SOLAR&#x27;, &#x27;DE_WINDPOW&#x27;,\n",
       "                                                   &#x27;FR_WINDPOW&#x27;, &#x27;DE_LIGNITE&#x27;,\n",
       "                                                   &#x27;DE_RESIDUAL_LOAD&#x27;,\n",
       "                                                   &#x27;FR_RESIDUAL_LOAD&#x27;,\n",
       "                                                   &#x27;DE_RAIN&#x27;, &#x27;FR_RAIN&#x27;,\n",
       "                                                   &#x27;DE_WIND&#x27;, &#x27;FR_WIND&#x27;,\n",
       "                                                   &#x27;DE_TEMP&#x27;, &#x27;FR_TEMP&#x27;,\n",
       "                                                   &#x27;GAS_RET&#x27;, ...])])),\n",
       "                (&#x27;model&#x27;,\n",
       "                 ElasticNet(alpha=2.6063762197610645,\n",
       "                            l1_ratio=0.03581766431710168, max_iter=10000,\n",
       "                            random_state=42))])</pre></div> </div></div><div class=\"sk-serial\"><div class=\"sk-item sk-dashed-wrapped\"><div class=\"sk-label-container\"><div class=\"sk-label fitted sk-toggleable\"><input class=\"sk-toggleable__control sk-hidden--visually\" id=\"sk-estimator-id-4\" type=\"checkbox\" ><label for=\"sk-estimator-id-4\" class=\"sk-toggleable__label fitted sk-toggleable__label-arrow fitted\">&nbsp;prep: ColumnTransformer<a class=\"sk-estimator-doc-link fitted\" rel=\"noreferrer\" target=\"_blank\" href=\"https://scikit-learn.org/1.5/modules/generated/sklearn.compose.ColumnTransformer.html\">?<span>Documentation for prep: ColumnTransformer</span></a></label><div class=\"sk-toggleable__content fitted\"><pre>ColumnTransformer(transformers=[(&#x27;num&#x27;,\n",
       "                                 Pipeline(steps=[(&#x27;imputer&#x27;,\n",
       "                                                  SimpleImputer(strategy=&#x27;median&#x27;)),\n",
       "                                                 (&#x27;scaler&#x27;, StandardScaler())]),\n",
       "                                 [&#x27;DE_CONSUMPTION&#x27;, &#x27;FR_CONSUMPTION&#x27;,\n",
       "                                  &#x27;DE_FR_EXCHANGE&#x27;, &#x27;FR_DE_EXCHANGE&#x27;,\n",
       "                                  &#x27;DE_NET_EXPORT&#x27;, &#x27;FR_NET_EXPORT&#x27;,\n",
       "                                  &#x27;DE_NET_IMPORT&#x27;, &#x27;FR_NET_IMPORT&#x27;, &#x27;DE_GAS&#x27;,\n",
       "                                  &#x27;FR_GAS&#x27;, &#x27;DE_COAL&#x27;, &#x27;FR_COAL&#x27;, &#x27;DE_HYDRO&#x27;,\n",
       "                                  &#x27;FR_HYDRO&#x27;, &#x27;DE_NUCLEAR&#x27;, &#x27;FR_NUCLEAR&#x27;,\n",
       "                                  &#x27;DE_SOLAR&#x27;, &#x27;FR_SOLAR&#x27;, &#x27;DE_WINDPOW&#x27;,\n",
       "                                  &#x27;FR_WINDPOW&#x27;, &#x27;DE_LIGNITE&#x27;,\n",
       "                                  &#x27;DE_RESIDUAL_LOAD&#x27;, &#x27;FR_RESIDUAL_LOAD&#x27;,\n",
       "                                  &#x27;DE_RAIN&#x27;, &#x27;FR_RAIN&#x27;, &#x27;DE_WIND&#x27;, &#x27;FR_WIND&#x27;,\n",
       "                                  &#x27;DE_TEMP&#x27;, &#x27;FR_TEMP&#x27;, &#x27;GAS_RET&#x27;, ...])])</pre></div> </div></div><div class=\"sk-parallel\"><div class=\"sk-parallel-item\"><div class=\"sk-item\"><div class=\"sk-label-container\"><div class=\"sk-label fitted sk-toggleable\"><input class=\"sk-toggleable__control sk-hidden--visually\" id=\"sk-estimator-id-5\" type=\"checkbox\" ><label for=\"sk-estimator-id-5\" class=\"sk-toggleable__label fitted sk-toggleable__label-arrow fitted\">num</label><div class=\"sk-toggleable__content fitted\"><pre>[&#x27;DE_CONSUMPTION&#x27;, &#x27;FR_CONSUMPTION&#x27;, &#x27;DE_FR_EXCHANGE&#x27;, &#x27;FR_DE_EXCHANGE&#x27;, &#x27;DE_NET_EXPORT&#x27;, &#x27;FR_NET_EXPORT&#x27;, &#x27;DE_NET_IMPORT&#x27;, &#x27;FR_NET_IMPORT&#x27;, &#x27;DE_GAS&#x27;, &#x27;FR_GAS&#x27;, &#x27;DE_COAL&#x27;, &#x27;FR_COAL&#x27;, &#x27;DE_HYDRO&#x27;, &#x27;FR_HYDRO&#x27;, &#x27;DE_NUCLEAR&#x27;, &#x27;FR_NUCLEAR&#x27;, &#x27;DE_SOLAR&#x27;, &#x27;FR_SOLAR&#x27;, &#x27;DE_WINDPOW&#x27;, &#x27;FR_WINDPOW&#x27;, &#x27;DE_LIGNITE&#x27;, &#x27;DE_RESIDUAL_LOAD&#x27;, &#x27;FR_RESIDUAL_LOAD&#x27;, &#x27;DE_RAIN&#x27;, &#x27;FR_RAIN&#x27;, &#x27;DE_WIND&#x27;, &#x27;FR_WIND&#x27;, &#x27;DE_TEMP&#x27;, &#x27;FR_TEMP&#x27;, &#x27;GAS_RET&#x27;, &#x27;COAL_RET&#x27;, &#x27;CARBON_RET&#x27;, &#x27;FR_NET_BALANCE&#x27;, &#x27;DE_NET_BALANCE&#x27;, &#x27;EXCHANGE_TOTAL&#x27;, &#x27;EXCHANGE_SKEW&#x27;, &#x27;FR_DE_FLOW_DIFF&#x27;, &#x27;FR_RENEWABLES&#x27;, &#x27;DE_RENEWABLES&#x27;, &#x27;FR_RESIDUAL_RATIO&#x27;, &#x27;DE_RESIDUAL_RATIO&#x27;, &#x27;FR_WIND_DEMAND&#x27;, &#x27;FR_TEMP_DEMAND&#x27;, &#x27;TEMP_DIFF_FR_DE&#x27;, &#x27;WIND_DIFF_FR_DE&#x27;, &#x27;RAIN_DIFF_FR_DE&#x27;, &#x27;WINDPOW_DIFF_FR_DE&#x27;, &#x27;SOLAR_DIFF_FR_DE&#x27;, &#x27;HYDRO_DIFF_FR_DE&#x27;, &#x27;RESIDUAL_LOAD_DIFF_FR_DE&#x27;, &#x27;CONSUMPTION_DIFF_FR_DE&#x27;, &#x27;CARBON_x_FR_RESID&#x27;, &#x27;GASRET_x_FR_CONS&#x27;, &#x27;CARBON_x_DE_RESID&#x27;, &#x27;GASRET_x_DE_CONS&#x27;, &#x27;COALRET_x_DE_LIGNITE&#x27;]</pre></div> </div></div><div class=\"sk-serial\"><div class=\"sk-item\"><div class=\"sk-serial\"><div class=\"sk-item\"><div class=\"sk-estimator fitted sk-toggleable\"><input class=\"sk-toggleable__control sk-hidden--visually\" id=\"sk-estimator-id-6\" type=\"checkbox\" ><label for=\"sk-estimator-id-6\" class=\"sk-toggleable__label fitted sk-toggleable__label-arrow fitted\">&nbsp;SimpleImputer<a class=\"sk-estimator-doc-link fitted\" rel=\"noreferrer\" target=\"_blank\" href=\"https://scikit-learn.org/1.5/modules/generated/sklearn.impute.SimpleImputer.html\">?<span>Documentation for SimpleImputer</span></a></label><div class=\"sk-toggleable__content fitted\"><pre>SimpleImputer(strategy=&#x27;median&#x27;)</pre></div> </div></div><div class=\"sk-item\"><div class=\"sk-estimator fitted sk-toggleable\"><input class=\"sk-toggleable__control sk-hidden--visually\" id=\"sk-estimator-id-7\" type=\"checkbox\" ><label for=\"sk-estimator-id-7\" class=\"sk-toggleable__label fitted sk-toggleable__label-arrow fitted\">&nbsp;StandardScaler<a class=\"sk-estimator-doc-link fitted\" rel=\"noreferrer\" target=\"_blank\" href=\"https://scikit-learn.org/1.5/modules/generated/sklearn.preprocessing.StandardScaler.html\">?<span>Documentation for StandardScaler</span></a></label><div class=\"sk-toggleable__content fitted\"><pre>StandardScaler()</pre></div> </div></div></div></div></div></div></div></div></div><div class=\"sk-item\"><div class=\"sk-estimator fitted sk-toggleable\"><input class=\"sk-toggleable__control sk-hidden--visually\" id=\"sk-estimator-id-8\" type=\"checkbox\" ><label for=\"sk-estimator-id-8\" class=\"sk-toggleable__label fitted sk-toggleable__label-arrow fitted\">&nbsp;ElasticNet<a class=\"sk-estimator-doc-link fitted\" rel=\"noreferrer\" target=\"_blank\" href=\"https://scikit-learn.org/1.5/modules/generated/sklearn.linear_model.ElasticNet.html\">?<span>Documentation for ElasticNet</span></a></label><div class=\"sk-toggleable__content fitted\"><pre>ElasticNet(alpha=2.6063762197610645, l1_ratio=0.03581766431710168,\n",
       "           max_iter=10000, random_state=42)</pre></div> </div></div></div></div></div></div>"
      ],
      "text/plain": [
       "Pipeline(steps=[('prep',\n",
       "                 ColumnTransformer(transformers=[('num',\n",
       "                                                  Pipeline(steps=[('imputer',\n",
       "                                                                   SimpleImputer(strategy='median')),\n",
       "                                                                  ('scaler',\n",
       "                                                                   StandardScaler())]),\n",
       "                                                  ['DE_CONSUMPTION',\n",
       "                                                   'FR_CONSUMPTION',\n",
       "                                                   'DE_FR_EXCHANGE',\n",
       "                                                   'FR_DE_EXCHANGE',\n",
       "                                                   'DE_NET_EXPORT',\n",
       "                                                   'FR_NET_EXPORT',\n",
       "                                                   'DE_NET_IMPORT',\n",
       "                                                   'FR_NET_IMPORT', 'DE_GAS',\n",
       "                                                   'FR_GAS', 'DE_COAL',\n",
       "                                                   'FR_COAL', 'DE_HYDRO',\n",
       "                                                   'FR_HYDRO', 'DE_NUCLEAR',\n",
       "                                                   'FR_NUCLEAR', 'DE_SOLAR',\n",
       "                                                   'FR_SOLAR', 'DE_WINDPOW',\n",
       "                                                   'FR_WINDPOW', 'DE_LIGNITE',\n",
       "                                                   'DE_RESIDUAL_LOAD',\n",
       "                                                   'FR_RESIDUAL_LOAD',\n",
       "                                                   'DE_RAIN', 'FR_RAIN',\n",
       "                                                   'DE_WIND', 'FR_WIND',\n",
       "                                                   'DE_TEMP', 'FR_TEMP',\n",
       "                                                   'GAS_RET', ...])])),\n",
       "                ('model',\n",
       "                 ElasticNet(alpha=2.6063762197610645,\n",
       "                            l1_ratio=0.03581766431710168, max_iter=10000,\n",
       "                            random_state=42))])"
      ]
     },
     "execution_count": 186,
     "metadata": {},
     "output_type": "execute_result"
    }
   ],
   "source": [
    "final_model_FR"
   ]
  },
  {
   "cell_type": "code",
   "execution_count": 192,
   "id": "2f3ffc3e",
   "metadata": {},
   "outputs": [],
   "source": [
    "# ========= Final submission (country-specific models) =========\n",
    "\n",
    "# 1) Load artifacts\n",
    "final_model_FR = joblib.load(\"final_model_FR.joblib\")           # full Pipeline (prep + ElasticNet)\n",
    "final_model_DE = joblib.load(\"final_model_DE_pipeline.joblib\")  # full Pipeline (prep + LGBM)\n",
    "\n",
    "# 2) Load test set and engineer features EXACTLY like training\n",
    "X_test = pd.read_csv(\"data/X_test.csv\")\n",
    "\n",
    "# NOTE: this must be the same function you used for training features\n",
    "# If it's in another file, import it; otherwise ensure it's defined in this notebook.\n",
    "X_test_en = add_engineered_features(X_test.copy())\n",
    "\n",
    "# 3) Predict per country\n",
    "mask_FR = X_test_en[\"COUNTRY\"] == \"FR\"\n",
    "mask_DE = X_test_en[\"COUNTRY\"] == \"DE\"\n",
    "\n",
    "Xte_FR = X_test_en.loc[mask_FR]\n",
    "Xte_DE = X_test_en.loc[mask_DE]\n",
    "\n",
    "pred_FR = final_model_FR.predict(Xte_FR)\n",
    "pred_DE = final_model_DE.predict(Xte_DE)"
   ]
  },
  {
   "cell_type": "code",
   "execution_count": 193,
   "id": "809d83b1",
   "metadata": {},
   "outputs": [
    {
     "name": "stdout",
     "output_type": "stream",
     "text": [
      "✅ Saved submission.csv (654, 2)\n"
     ]
    },
    {
     "data": {
      "text/html": [
       "<div>\n",
       "<style scoped>\n",
       "    .dataframe tbody tr th:only-of-type {\n",
       "        vertical-align: middle;\n",
       "    }\n",
       "\n",
       "    .dataframe tbody tr th {\n",
       "        vertical-align: top;\n",
       "    }\n",
       "\n",
       "    .dataframe thead th {\n",
       "        text-align: right;\n",
       "    }\n",
       "</style>\n",
       "<table border=\"1\" class=\"dataframe\">\n",
       "  <thead>\n",
       "    <tr style=\"text-align: right;\">\n",
       "      <th></th>\n",
       "      <th>ID</th>\n",
       "      <th>TARGET</th>\n",
       "    </tr>\n",
       "  </thead>\n",
       "  <tbody>\n",
       "    <tr>\n",
       "      <th>0</th>\n",
       "      <td>1115</td>\n",
       "      <td>0.065610</td>\n",
       "    </tr>\n",
       "    <tr>\n",
       "      <th>1</th>\n",
       "      <td>1202</td>\n",
       "      <td>0.068844</td>\n",
       "    </tr>\n",
       "    <tr>\n",
       "      <th>2</th>\n",
       "      <td>1194</td>\n",
       "      <td>0.063719</td>\n",
       "    </tr>\n",
       "    <tr>\n",
       "      <th>3</th>\n",
       "      <td>1084</td>\n",
       "      <td>0.069252</td>\n",
       "    </tr>\n",
       "    <tr>\n",
       "      <th>4</th>\n",
       "      <td>1135</td>\n",
       "      <td>0.065634</td>\n",
       "    </tr>\n",
       "  </tbody>\n",
       "</table>\n",
       "</div>"
      ],
      "text/plain": [
       "     ID    TARGET\n",
       "0  1115  0.065610\n",
       "1  1202  0.068844\n",
       "2  1194  0.063719\n",
       "3  1084  0.069252\n",
       "4  1135  0.065634"
      ]
     },
     "metadata": {},
     "output_type": "display_data"
    }
   ],
   "source": [
    "# 4) Build submission in the original ID order\n",
    "sub_FR = pd.DataFrame({\"ID\": Xte_FR[\"ID\"].values, \"TARGET\": pred_FR})\n",
    "sub_DE = pd.DataFrame({\"ID\": Xte_DE[\"ID\"].values, \"TARGET\": pred_DE})\n",
    "submission = (\n",
    "    pd.concat([sub_FR, sub_DE], axis=0, ignore_index=True)\n",
    "      .set_index(\"ID\")\n",
    "      .loc[X_test[\"ID\"]]        # restore original X_test order\n",
    "      .reset_index()\n",
    ")\n",
    "\n",
    "# 5) Sanity checks + save\n",
    "assert submission.shape[0] == X_test.shape[0], \"Row count mismatch vs X_test!\"\n",
    "assert submission.columns.tolist() == [\"ID\", \"TARGET\"], \"Submission must have exactly ['ID','TARGET']\"\n",
    "assert submission[\"TARGET\"].isna().sum() == 0, \"Found NaNs in TARGET!\"\n",
    "\n",
    "submission.to_csv(\"submission.csv\", index=False)\n",
    "print(\"✅ Saved submission.csv\", submission.shape)\n",
    "display(submission.head())"
   ]
  },
  {
   "cell_type": "markdown",
   "id": "a5f6094c",
   "metadata": {},
   "source": [
    "---"
   ]
  },
  {
   "cell_type": "code",
   "execution_count": 197,
   "id": "d49628e7",
   "metadata": {},
   "outputs": [
    {
     "data": {
      "image/png": "[encoded data removed]",
      "text/plain": [
       "<Figure size 800x600 with 1 Axes>"
      ]
     },
     "metadata": {},
     "output_type": "display_data"
    },
    {
     "name": "stdout",
     "output_type": "stream",
     "text": [
      "✅ Saved Germany feature importance plot as feature_importance_DE.pdf\n"
     ]
    }
   ],
   "source": [
    "TOPK = 20  # top features to plot\n",
    "\n",
    "# --- Load full pipeline ---\n",
    "pipe_DE = joblib.load(\"final_model_DE_pipeline.joblib\")\n",
    "\n",
    "# Extract LightGBM model\n",
    "final_model_DE = pipe_DE.named_steps[\"model\"]\n",
    "booster = final_model_DE.booster_\n",
    "\n",
    "# Extract feature names from preprocessor\n",
    "prep_DE = pipe_DE.named_steps[\"prep\"]\n",
    "feature_names = prep_DE.get_feature_names_out()\n",
    "\n",
    "# --- Get importances ---\n",
    "de_gain = booster.feature_importance(importance_type=\"gain\")\n",
    "de_imp_df = (\n",
    "    pd.DataFrame({\"feature\": feature_names, \"gain\": de_gain})\n",
    "      .sort_values(\"gain\", ascending=False)\n",
    "      .head(TOPK)\n",
    ")\n",
    "\n",
    "# --- Clean names (optional: remove prefixes like \"num__\") ---\n",
    "de_imp_df[\"feature\"] = de_imp_df[\"feature\"].str.replace(\"^num__\", \"\", regex=True)\n",
    "\n",
    "# --- Plot ---\n",
    "plt.figure(figsize=(8, 6))\n",
    "plot_df = de_imp_df.iloc[::-1]  # reverse so highest is at top\n",
    "plt.barh(plot_df[\"feature\"], plot_df[\"gain\"], color=\"#3b7ddd\")\n",
    "plt.xlabel(\"Gain\")\n",
    "plt.title(\"Germany — LGBM Feature Importance\")\n",
    "plt.grid(axis=\"x\", alpha=0.3, linestyle=\"dashed\")\n",
    "\n",
    "plt.tight_layout()\n",
    "plt.savefig(\"feature_importance_DE.pdf\")\n",
    "plt.show()\n",
    "\n",
    "print(\"✅ Saved Germany feature importance plot as feature_importance_DE.pdf\")"
   ]
  },
  {
   "cell_type": "code",
   "execution_count": null,
   "id": "eba6ff96",
   "metadata": {},
   "outputs": [],
   "source": [
    "# ---- Permutation importance for Germany (fixed: aligned feature names) ----\n",
    "def spearman_metric(y_true, y_pred):\n",
    "    y_true = np.asarray(y_true).ravel()\n",
    "    y_pred = np.asarray(y_pred).ravel()\n",
    "    c = spearmanr(y_true, y_pred, nan_policy=\"omit\").correlation\n",
    "    return 0.0 if (c is None or np.isnan(c)) else float(c)\n",
    "\n",
    "spearman_scorer = make_scorer(spearman_metric, greater_is_better=True)\n",
    "\n",
    "# Load final pipeline and build DE validation slice\n",
    "pipe_de = joblib.load(\"final_model_DE_pipeline.joblib\")\n",
    "Xva_DE, yva_DE = country_split(X_val_en, y_val, \"DE\")\n",
    "\n",
    "# Columns actually used by the preprocessor/model (numeric only)\n",
    "prep = pipe_de.named_steps[\"prep\"]\n",
    "# If you saved num_cols_DE earlier, you can just reuse it. Otherwise:\n",
    "try:\n",
    "    # Works if the transformer was created with column names (it was)\n",
    "    num_cols_DE = [name.split(\"__\", 1)[-1] for name in prep.get_feature_names_out()]\n",
    "except Exception:\n",
    "    # Fallback: derive from training set\n",
    "    num_cols_DE = [c for c in Xva_DE.columns if c not in [\"ID\",\"DAY_ID\",\"COUNTRY\"]]\n",
    "\n",
    "# Restrict X to the columns that flow through the model\n",
    "X_pi = Xva_DE[num_cols_DE].copy()\n",
    "feat_names = X_pi.columns.tolist()  # labels match importances length\n",
    "\n",
    "n_repeats = 250\n",
    "pi = permutation_importance(\n",
    "    pipe_de,\n",
    "    X_pi, yva_DE,\n",
    "    scoring=spearman_scorer,\n",
    "    n_repeats=n_repeats,\n",
    "    random_state=42,\n",
    "    n_jobs=-1\n",
    ")\n",
    "\n",
    "# Sort and plot top-k with error bars\n",
    "imp_mean, imp_std = pi.importances_mean, pi.importances_std\n",
    "order = np.argsort(imp_mean)[::-1]\n",
    "top_k = 10\n",
    "top_idx = order[:top_k]\n",
    "\n",
    "top_names = [feat_names[i] for i in top_idx]\n",
    "top_mean  = imp_mean[top_idx]\n",
    "top_err   = imp_std[top_idx]"
   ]
  },
  {
   "cell_type": "code",
   "execution_count": null,
   "id": "9143a1aa",
   "metadata": {},
   "outputs": [
    {
     "data": {
      "image/png": "[encoded data removed]",
      "text/plain": [
       "<Figure size 800x700 with 1 Axes>"
      ]
     },
     "metadata": {},
     "output_type": "display_data"
    }
   ],
   "source": [
    "plt.figure(figsize=(8, 7))\n",
    "ypos = np.arange(len(top_names))\n",
    "\n",
    "# Plot bars + error bars\n",
    "bars = plt.barh(ypos, top_mean, xerr=top_err, alpha=0.85, color=\"tab:blue\")\n",
    "plt.yticks(ypos, top_names)\n",
    "plt.gca().invert_yaxis()\n",
    "plt.xlabel(\"Permutation importance (Δ Spearman)\")\n",
    "plt.title(\"Model Features — Permutation Importance\")\n",
    "plt.grid(axis=\"x\", alpha=0.3)\n",
    "\n",
    "# Custom legend handle: a black horizontal line to represent ± std\n",
    "err_handle = mlines.Line2D([], [], color=\"black\", marker='|',\n",
    "                           linestyle='-', markersize=8,\n",
    "                           label=\"± 1 std (across permutations)\")\n",
    "\n",
    "plt.legend(handles=[err_handle], loc=\"lower right\", frameon=False, fontsize=12)\n",
    "\n",
    "plt.tight_layout()\n",
    "plt.savefig(\"DE_permutation_importance.pdf\")\n",
    "plt.show()"
   ]
  }
 ],
 "metadata": {
  "kernelspec": {
   "display_name": "venv",
   "language": "python",
   "name": "python3"
  },
  "language_info": {
   "codemirror_mode": {
    "name": "ipython",
    "version": 3
   },
   "file_extension": ".py",
   "mimetype": "text/x-python",
   "name": "python",
   "nbconvert_exporter": "python",
   "pygments_lexer": "ipython3",
   "version": "3.12.9"
  }
 },
 "nbformat": 4,
 "nbformat_minor": 5
}
